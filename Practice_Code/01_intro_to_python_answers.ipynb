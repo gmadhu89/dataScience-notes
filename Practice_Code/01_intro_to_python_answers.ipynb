{
 "cells": [
  {
   "cell_type": "markdown",
   "metadata": {
    "slideshow": {
     "slide_type": "slide"
    }
   },
   "source": [
    "## Lesson Outline\n",
    "* **types: integers (ints), floats, booleans (bools), strings (strs)**\n",
    "* **Python is dynamically typed**\n",
    "* **types and type conversion**\n",
    "* **using comments**\n",
    "* **lists**\n",
    "* **lists and strings are very similar but they're not the same type**\n",
    "* **dictionaries**\n",
    "* **functions**\n",
    "* **for loops**\n",
    "* **list comprehensions and for loops and how to convert one into the other**\n",
    "* **loading things in from a file or the internet**"
   ]
  },
  {
   "cell_type": "markdown",
   "metadata": {
    "slideshow": {
     "slide_type": "slide"
    }
   },
   "source": [
    "#### Outcomes\n",
    "\n",
    "After this lesson you will be able to:\n",
    "\n",
    "* use and understand the differences between the basic types in Python\n",
    "* use lists and dictionaries to store collections of primitive Python objects\n",
    "* implement simple mathematical functions and apply them to collections\n",
    "* use for loops and comprehensions to traverse collections\n",
    "* load data in from a file and off the internet (as long as the data is formatted)"
   ]
  },
  {
   "cell_type": "markdown",
   "metadata": {
    "slideshow": {
     "slide_type": "subslide"
    }
   },
   "source": [
    "### primitive types, objects, and variables"
   ]
  },
  {
   "cell_type": "markdown",
   "metadata": {
    "slideshow": {
     "slide_type": "subslide"
    }
   },
   "source": [
    "Python has a variety of basic (called **primitive**) data types:"
   ]
  },
  {
   "cell_type": "code",
   "execution_count": 1,
   "metadata": {
    "slideshow": {
     "slide_type": "fragment"
    }
   },
   "outputs": [],
   "source": [
    "x = 5"
   ]
  },
  {
   "cell_type": "markdown",
   "metadata": {
    "slideshow": {
     "slide_type": "fragment"
    }
   },
   "source": [
    "The command\n",
    "\n",
    "`x = 5`\n",
    "\n",
    "creates an object, an int (short for integer) with the name `x`. Let's check the `type` (what kind of an object `x` is), as it's not declared explicitly in `Python`:"
   ]
  },
  {
   "cell_type": "code",
   "execution_count": 2,
   "metadata": {
    "slideshow": {
     "slide_type": "subslide"
    }
   },
   "outputs": [
    {
     "data": {
      "text/plain": [
       "int"
      ]
     },
     "execution_count": 2,
     "metadata": {},
     "output_type": "execute_result"
    }
   ],
   "source": [
    "type(0)"
   ]
  },
  {
   "cell_type": "markdown",
   "metadata": {
    "slideshow": {
     "slide_type": "fragment"
    }
   },
   "source": [
    "Assigning the value of an object like `5` to a variable name **is not required**, so you can check the `type` of anything that is syntactially allowed in `Python`:"
   ]
  },
  {
   "cell_type": "code",
   "execution_count": 3,
   "metadata": {
    "slideshow": {
     "slide_type": "fragment"
    }
   },
   "outputs": [
    {
     "data": {
      "text/plain": [
       "int"
      ]
     },
     "execution_count": 3,
     "metadata": {},
     "output_type": "execute_result"
    }
   ],
   "source": [
    "type(5)"
   ]
  },
  {
   "cell_type": "markdown",
   "metadata": {
    "slideshow": {
     "slide_type": "subslide"
    }
   },
   "source": [
    "Here's another numeric type in `Python`, a `float`:"
   ]
  },
  {
   "cell_type": "code",
   "execution_count": 4,
   "metadata": {
    "slideshow": {
     "slide_type": "fragment"
    }
   },
   "outputs": [
    {
     "data": {
      "text/plain": [
       "float"
      ]
     },
     "execution_count": 4,
     "metadata": {},
     "output_type": "execute_result"
    }
   ],
   "source": [
    "type(5.0) #the object 5.0 doesn't have an explicit name, but its still an object!"
   ]
  },
  {
   "cell_type": "code",
   "execution_count": 5,
   "metadata": {},
   "outputs": [
    {
     "data": {
      "text/plain": [
       "int"
      ]
     },
     "execution_count": 5,
     "metadata": {},
     "output_type": "execute_result"
    }
   ],
   "source": [
    "type(5)"
   ]
  },
  {
   "cell_type": "code",
   "execution_count": 6,
   "metadata": {},
   "outputs": [
    {
     "data": {
      "text/plain": [
       "float"
      ]
     },
     "execution_count": 6,
     "metadata": {},
     "output_type": "execute_result"
    }
   ],
   "source": [
    "type(5.0)"
   ]
  },
  {
   "cell_type": "markdown",
   "metadata": {
    "slideshow": {
     "slide_type": "fragment"
    }
   },
   "source": [
    " In general, if you add a period after a number (without trailing digits), `Python` interprets it as a `float`:"
   ]
  },
  {
   "cell_type": "code",
   "execution_count": 7,
   "metadata": {
    "slideshow": {
     "slide_type": "fragment"
    }
   },
   "outputs": [
    {
     "name": "stdout",
     "output_type": "stream",
     "text": [
      "<class 'float'>\n"
     ]
    }
   ],
   "source": [
    "print(type(5.))       #see??"
   ]
  },
  {
   "cell_type": "markdown",
   "metadata": {
    "slideshow": {
     "slide_type": "subslide"
    }
   },
   "source": [
    "Here's a `string` (called `str` in `Python`):"
   ]
  },
  {
   "cell_type": "code",
   "execution_count": 8,
   "metadata": {
    "slideshow": {
     "slide_type": "fragment"
    }
   },
   "outputs": [
    {
     "data": {
      "text/plain": [
       "str"
      ]
     },
     "execution_count": 8,
     "metadata": {},
     "output_type": "execute_result"
    }
   ],
   "source": [
    "type(\"five\")"
   ]
  },
  {
   "cell_type": "code",
   "execution_count": 9,
   "metadata": {},
   "outputs": [
    {
     "data": {
      "text/plain": [
       "str"
      ]
     },
     "execution_count": 9,
     "metadata": {},
     "output_type": "execute_result"
    }
   ],
   "source": [
    "type(\"hello my name is sergey\")"
   ]
  },
  {
   "cell_type": "markdown",
   "metadata": {
    "slideshow": {
     "slide_type": "subslide"
    }
   },
   "source": [
    "`Python` also has a `Boolean` type, called a `bool`, [named after this really smart dude](https://en.wikipedia.org/wiki/George_Boole).\n",
    "\n",
    "A `bool` can take only one of two values, either `True` or `False`:"
   ]
  },
  {
   "cell_type": "code",
   "execution_count": 10,
   "metadata": {
    "slideshow": {
     "slide_type": "fragment"
    }
   },
   "outputs": [
    {
     "data": {
      "text/plain": [
       "bool"
      ]
     },
     "execution_count": 10,
     "metadata": {},
     "output_type": "execute_result"
    }
   ],
   "source": [
    "type(True) # bool is short for Boolean"
   ]
  },
  {
   "cell_type": "markdown",
   "metadata": {
    "slideshow": {
     "slide_type": "slide"
    }
   },
   "source": [
    "### Python is a dynamically typed language"
   ]
  },
  {
   "cell_type": "markdown",
   "metadata": {
    "slideshow": {
     "slide_type": "subslide"
    }
   },
   "source": [
    "`Python` is a dynamically typed language. What this means is that you can change the type to which a variable refers for any object you create, again and again, and nothing will break (cause an `Exception`):"
   ]
  },
  {
   "cell_type": "code",
   "execution_count": 11,
   "metadata": {
    "slideshow": {
     "slide_type": "fragment"
    }
   },
   "outputs": [
    {
     "name": "stdout",
     "output_type": "stream",
     "text": [
      "x is: 5\n",
      "<class 'int'>\n",
      "x is now: dude\n",
      "<class 'str'>\n"
     ]
    }
   ],
   "source": [
    "print(\"x is:\",x)      # x is the name of an int object\n",
    "print(type(x)) #check to make sure im not lying\n",
    "x='dude'      #we can make x be a string now!\n",
    "print(\"x is now:\",x)\n",
    "print(type(x))"
   ]
  },
  {
   "cell_type": "markdown",
   "metadata": {},
   "source": [
    "### types and type conversion"
   ]
  },
  {
   "cell_type": "markdown",
   "metadata": {},
   "source": [
    "Objects in Python can also be converted (we call this converting **casting**) between different types (in certain cases):"
   ]
  },
  {
   "cell_type": "code",
   "execution_count": 12,
   "metadata": {},
   "outputs": [
    {
     "name": "stdout",
     "output_type": "stream",
     "text": [
      "y is: 5.0 <class 'str'>\n",
      "y now is: 5.0 <class 'float'>\n"
     ]
    }
   ],
   "source": [
    "y = \"5.0\"                    #y is a str\n",
    "print(\"y is:\", y,type(y))    #check\n",
    "y = float(y)                 #newy is a float\n",
    "print(\"y now is:\", y,type(y)) #check"
   ]
  },
  {
   "cell_type": "code",
   "execution_count": 13,
   "metadata": {},
   "outputs": [
    {
     "data": {
      "text/plain": [
       "11.0"
      ]
     },
     "execution_count": 13,
     "metadata": {},
     "output_type": "execute_result"
    }
   ],
   "source": [
    "float(y)+6"
   ]
  },
  {
   "cell_type": "markdown",
   "metadata": {},
   "source": [
    "Here we converted `y` from a `string` to a `float`.\n",
    "\n",
    "Now let's try another conversion:"
   ]
  },
  {
   "cell_type": "code",
   "execution_count": 14,
   "metadata": {},
   "outputs": [
    {
     "name": "stdout",
     "output_type": "stream",
     "text": [
      "dude is: True <class 'str'>\n",
      "now dude is: True <class 'bool'>\n",
      "now dude is: 1 <class 'int'>\n"
     ]
    }
   ],
   "source": [
    "dude = \"True\"                        #dude is a str\n",
    "print(\"dude is:\",dude,type(dude))     #check\n",
    "dude = bool(dude)                    #now dude is a Boolean\n",
    "print(\"now dude is:\",dude,type(dude)) #check again\n",
    "dude = int(dude)                 #now dude is an int!\n",
    "print(\"now dude is:\",dude,type(dude)) #check again"
   ]
  },
  {
   "cell_type": "code",
   "execution_count": 15,
   "metadata": {},
   "outputs": [
    {
     "data": {
      "text/plain": [
       "1"
      ]
     },
     "execution_count": 15,
     "metadata": {},
     "output_type": "execute_result"
    }
   ],
   "source": [
    "int(True)"
   ]
  },
  {
   "cell_type": "markdown",
   "metadata": {},
   "source": [
    "However, type conversions don't always work.\n",
    "\n",
    "You can't convert a `string` whose contents are not numbers into a number (`Python` will `return`, or \"throw\", an `Exception`):"
   ]
  },
  {
   "cell_type": "code",
   "execution_count": 16,
   "metadata": {},
   "outputs": [],
   "source": [
    "bad_dude = \"20\"       #bad_dude is a string\n",
    "bad_dude = int(bad_dude) #bad_dude can't be cast into a number, because there is no numeric representation for \"hello\""
   ]
  },
  {
   "cell_type": "code",
   "execution_count": 17,
   "metadata": {},
   "outputs": [
    {
     "data": {
      "text/plain": [
       "int"
      ]
     },
     "execution_count": 17,
     "metadata": {},
     "output_type": "execute_result"
    }
   ],
   "source": [
    "type(bad_dude)"
   ]
  },
  {
   "cell_type": "markdown",
   "metadata": {},
   "source": [
    "You also can't convert a `string` directly into an `int` if it should be converted into a `float` first:"
   ]
  },
  {
   "cell_type": "code",
   "execution_count": 18,
   "metadata": {},
   "outputs": [
    {
     "ename": "ValueError",
     "evalue": "invalid literal for int() with base 10: '47.486'",
     "output_type": "error",
     "traceback": [
      "\u001b[0;31m---------------------------------------------------------------------------\u001b[0m",
      "\u001b[0;31mValueError\u001b[0m                                Traceback (most recent call last)",
      "\u001b[0;32m<ipython-input-18-408a149b7be8>\u001b[0m in \u001b[0;36m<module>\u001b[0;34m\u001b[0m\n\u001b[1;32m      1\u001b[0m \u001b[0mfloat_string\u001b[0m \u001b[0;34m=\u001b[0m \u001b[0;34m\"47.486\"\u001b[0m\u001b[0;34m\u001b[0m\u001b[0;34m\u001b[0m\u001b[0m\n\u001b[0;32m----> 2\u001b[0;31m \u001b[0mfloat_string\u001b[0m \u001b[0;34m=\u001b[0m \u001b[0mint\u001b[0m\u001b[0;34m(\u001b[0m\u001b[0mfloat_string\u001b[0m\u001b[0;34m)\u001b[0m\u001b[0;34m\u001b[0m\u001b[0;34m\u001b[0m\u001b[0m\n\u001b[0m",
      "\u001b[0;31mValueError\u001b[0m: invalid literal for int() with base 10: '47.486'"
     ]
    }
   ],
   "source": [
    "float_string = \"47.486\"\n",
    "float_string = int(float_string)"
   ]
  },
  {
   "cell_type": "markdown",
   "metadata": {},
   "source": [
    "So you have to cast it to a `float` and then an `int`:"
   ]
  },
  {
   "cell_type": "code",
   "execution_count": 19,
   "metadata": {},
   "outputs": [
    {
     "name": "stdout",
     "output_type": "stream",
     "text": [
      "float_string is: 47.486 <class 'float'>\n",
      "float_string is: 47 <class 'int'>\n"
     ]
    }
   ],
   "source": [
    "float_string = float(float_string)\n",
    "print(\"float_string is:\",float_string,type(float_string))\n",
    "float_string = int(float_string)\n",
    "print(\"float_string is:\",float_string,type(float_string)) #No ValueError thrown!"
   ]
  },
  {
   "cell_type": "markdown",
   "metadata": {},
   "source": [
    "Why do you think `Python` would behave in this way?"
   ]
  },
  {
   "cell_type": "markdown",
   "metadata": {},
   "source": [
    "### Comments and why you should be using them"
   ]
  },
  {
   "cell_type": "markdown",
   "metadata": {},
   "source": [
    "I've been using comments a lot so far (the words after the `#` in the code), without explaining what they are.\n",
    "\n",
    "**Comments simply describe code and are not executed.** \n",
    "\n",
    "There are two types of comments, multi-line and one-line. Neither type of comment is ever executed by the interpreter. They only exist to clarify or explain code. Use them wisely:"
   ]
  },
  {
   "cell_type": "code",
   "execution_count": 20,
   "metadata": {},
   "outputs": [
    {
     "data": {
      "text/plain": [
       "'\\nMulti-line comments go between 3 quotation marks.\\nYou can use single or double quotes.\\n'"
      ]
     },
     "execution_count": 20,
     "metadata": {},
     "output_type": "execute_result"
    }
   ],
   "source": [
    "'''\n",
    "Multi-line comments go between 3 quotation marks.\n",
    "You can use single or double quotes.\n",
    "'''\n",
    "\n",
    "# One-line comments are preceded by the pound symbol\n",
    "# I wrote this months ago and I have no idea, this comment will help me remember :)"
   ]
  },
  {
   "cell_type": "markdown",
   "metadata": {},
   "source": [
    "### Lists"
   ]
  },
  {
   "cell_type": "markdown",
   "metadata": {},
   "source": [
    "`Lists` are another very useful data type.\n",
    "\n",
    "You can think of them as containers for the objects we looked at above.\n",
    "\n",
    "Here's an example list. **Notice that it can contain objects of varying type**:"
   ]
  },
  {
   "cell_type": "code",
   "execution_count": 21,
   "metadata": {},
   "outputs": [],
   "source": [
    "nums = [5, 5.0, 'five']     # an int, a float, and a string"
   ]
  },
  {
   "cell_type": "markdown",
   "metadata": {},
   "source": [
    "Lists can be printed, just like the other objects we've looked at:"
   ]
  },
  {
   "cell_type": "code",
   "execution_count": 22,
   "metadata": {},
   "outputs": [
    {
     "name": "stdout",
     "output_type": "stream",
     "text": [
      "[5, 5.0, 'five']\n"
     ]
    },
    {
     "data": {
      "text/plain": [
       "list"
      ]
     },
     "execution_count": 22,
     "metadata": {},
     "output_type": "execute_result"
    }
   ],
   "source": [
    "print(nums)                 # print the list\n",
    "type(nums)                  # check the type: list"
   ]
  },
  {
   "cell_type": "markdown",
   "metadata": {},
   "source": [
    "Lists have lots of useful properties, like length (the number of elements in the list), and the ability to modify its contents:"
   ]
  },
  {
   "cell_type": "code",
   "execution_count": 23,
   "metadata": {},
   "outputs": [
    {
     "name": "stdout",
     "output_type": "stream",
     "text": [
      "3\n",
      "5\n",
      "[6, 5.0, 'five']\n"
     ]
    }
   ],
   "source": [
    "print(len(nums))            # check the length: 3\n",
    "print(nums[0])              # print first element\n",
    "nums[0] = 6                 # replace a list element, we will get back to this briefly\n",
    "print(nums)                 # it's changed!"
   ]
  },
  {
   "cell_type": "code",
   "execution_count": 24,
   "metadata": {},
   "outputs": [
    {
     "data": {
      "text/plain": [
       "[6, 5.0]"
      ]
     },
     "execution_count": 24,
     "metadata": {},
     "output_type": "execute_result"
    }
   ],
   "source": [
    "nums[:-1]"
   ]
  },
  {
   "cell_type": "markdown",
   "metadata": {},
   "source": [
    "You can add to the back of a list using the `append` method and remove a specific element from a list using the `remove` method (method is another word for function):"
   ]
  },
  {
   "cell_type": "code",
   "execution_count": 25,
   "metadata": {},
   "outputs": [
    {
     "name": "stdout",
     "output_type": "stream",
     "text": [
      "[6, 5.0, 'five', 7]\n",
      "[6, 5.0, 7]\n"
     ]
    }
   ],
   "source": [
    "nums.append(7)\n",
    "print(nums)\n",
    "nums.remove('five')\n",
    "print(nums)"
   ]
  },
  {
   "cell_type": "markdown",
   "metadata": {},
   "source": [
    "Lists can also be `sorted`:"
   ]
  },
  {
   "cell_type": "code",
   "execution_count": 26,
   "metadata": {},
   "outputs": [
    {
     "name": "stdout",
     "output_type": "stream",
     "text": [
      "[5.0, 6, 7]\n",
      "[6, 5.0, 7]\n"
     ]
    }
   ],
   "source": [
    "print(sorted(nums))          # 'function' that does not modify the list\n",
    "print(nums)                  # the original list remains the same!"
   ]
  },
  {
   "cell_type": "markdown",
   "metadata": {},
   "source": [
    "However, you need to understand that if you're going to sort a list, all of the types need to be either numeric (`float` or `int`) or all `string`s. Otherwise, you'll get an error:"
   ]
  },
  {
   "cell_type": "code",
   "execution_count": 27,
   "metadata": {},
   "outputs": [
    {
     "ename": "TypeError",
     "evalue": "'<' not supported between instances of 'str' and 'int'",
     "output_type": "error",
     "traceback": [
      "\u001b[0;31m---------------------------------------------------------------------------\u001b[0m",
      "\u001b[0;31mTypeError\u001b[0m                                 Traceback (most recent call last)",
      "\u001b[0;32m<ipython-input-27-c29cf3a28075>\u001b[0m in \u001b[0;36m<module>\u001b[0;34m\u001b[0m\n\u001b[0;32m----> 1\u001b[0;31m \u001b[0msorted\u001b[0m\u001b[0;34m(\u001b[0m\u001b[0;34m[\u001b[0m\u001b[0;36m5\u001b[0m\u001b[0;34m,\u001b[0m\u001b[0;34m'two'\u001b[0m\u001b[0;34m,\u001b[0m\u001b[0;34m'ten'\u001b[0m\u001b[0;34m,\u001b[0m\u001b[0;36m3\u001b[0m\u001b[0;34m]\u001b[0m\u001b[0;34m)\u001b[0m\u001b[0;34m\u001b[0m\u001b[0;34m\u001b[0m\u001b[0m\n\u001b[0m",
      "\u001b[0;31mTypeError\u001b[0m: '<' not supported between instances of 'str' and 'int'"
     ]
    }
   ],
   "source": [
    "sorted([5,'two','ten',3])"
   ]
  },
  {
   "cell_type": "markdown",
   "metadata": {},
   "source": [
    "Because the `sorted` method doesn't modify the original list, you need to overwrite (or assign) the `sorted` result to another variable (or to the same variable, in the case of an overwrite):"
   ]
  },
  {
   "cell_type": "code",
   "execution_count": 28,
   "metadata": {},
   "outputs": [
    {
     "name": "stdout",
     "output_type": "stream",
     "text": [
      "[5.0, 6, 7]\n"
     ]
    }
   ],
   "source": [
    "nums = sorted(nums)         # overwrite the original list\n",
    "print(nums)"
   ]
  },
  {
   "cell_type": "markdown",
   "metadata": {},
   "source": [
    "You can also sort the list in reverse order by passing an **optional** argument to the `sorted` function:"
   ]
  },
  {
   "cell_type": "code",
   "execution_count": 29,
   "metadata": {},
   "outputs": [
    {
     "data": {
      "text/plain": [
       "[7, 6, 5.0]"
      ]
     },
     "execution_count": 29,
     "metadata": {},
     "output_type": "execute_result"
    }
   ],
   "source": [
    "sorted(nums, reverse=True)  # optional argument"
   ]
  },
  {
   "cell_type": "markdown",
   "metadata": {},
   "source": [
    "Lists have other interesting properties that allow you to select only **parts** of them.\n",
    "\n",
    "Let's create the list `a`: "
   ]
  },
  {
   "cell_type": "code",
   "execution_count": 30,
   "metadata": {},
   "outputs": [],
   "source": [
    "a = [10, \"hello\", 304,3.631,True]     # create lists using brackets"
   ]
  },
  {
   "cell_type": "markdown",
   "metadata": {},
   "source": [
    "You can select individual elements in the list. This is called **slicing**:"
   ]
  },
  {
   "cell_type": "code",
   "execution_count": 31,
   "metadata": {},
   "outputs": [
    {
     "name": "stdout",
     "output_type": "stream",
     "text": [
      "10 <class 'int'>\n",
      "['hello', 304] <class 'list'>\n",
      "True <class 'bool'>\n"
     ]
    }
   ],
   "source": [
    "# slicing\n",
    "print(a[0], type(a[0]))        # returns the element 10 (Python is zero indexed)\n",
    "print(a[1:3], type(a[1:3]))    # returns the sublist [\"hello\", 304] (inclusive of first index but exclusive of second)\n",
    "print(a[-1], type(a[-1]))      # returns True (last element)"
   ]
  },
  {
   "cell_type": "markdown",
   "metadata": {},
   "source": [
    "It is very important to always remember when you're writing code in `Python` that its indexes are always **zero-based**. \n",
    "\n",
    "This means that **any object that you can index (select individual components of) always has an index that starts at zero**"
   ]
  },
  {
   "cell_type": "markdown",
   "metadata": {},
   "source": [
    "You can also add to the back or (`append`) to the front of (`prepend`) lists:"
   ]
  },
  {
   "cell_type": "code",
   "execution_count": 32,
   "metadata": {},
   "outputs": [
    {
     "name": "stdout",
     "output_type": "stream",
     "text": [
      "a before appending: [10, 'hello', 304, 3.631, True]\n",
      "a after appending: [10, 'hello', 304, 3.631, True, 6]\n",
      "a after appending [7]: [10, 'hello', 304, 3.631, True, 6, 7]\n",
      "a after prepending [dude]: ['dude', 10, 'hello', 304, 3.631, True, 6, 7]\n"
     ]
    }
   ],
   "source": [
    "print(\"a before appending:\",a)\n",
    "a.append(6)                   # list method that appends 6 to the end\n",
    "print(\"a after appending:\", a)\n",
    "a = a + [7]                   # use plus sign to combine lists\n",
    "print(\"a after appending [7]:\", a)\n",
    "a = [\"dude\"]+ a\n",
    "print(\"a after prepending [dude]:\", a)"
   ]
  },
  {
   "cell_type": "markdown",
   "metadata": {},
   "source": [
    "Keep in mind, you can't assign outside the existing range of the list (`Python` will throw an `IndexError` `Exception`):"
   ]
  },
  {
   "cell_type": "code",
   "execution_count": 33,
   "metadata": {},
   "outputs": [
    {
     "name": "stdout",
     "output_type": "stream",
     "text": [
      "8\n"
     ]
    },
    {
     "ename": "IndexError",
     "evalue": "list assignment index out of range",
     "output_type": "error",
     "traceback": [
      "\u001b[0;31m---------------------------------------------------------------------------\u001b[0m",
      "\u001b[0;31mIndexError\u001b[0m                                Traceback (most recent call last)",
      "\u001b[0;32m<ipython-input-33-f71b6175426f>\u001b[0m in \u001b[0;36m<module>\u001b[0;34m\u001b[0m\n\u001b[1;32m      1\u001b[0m \u001b[0mprint\u001b[0m\u001b[0;34m(\u001b[0m\u001b[0mlen\u001b[0m\u001b[0;34m(\u001b[0m\u001b[0ma\u001b[0m\u001b[0;34m)\u001b[0m\u001b[0;34m)\u001b[0m\u001b[0;34m\u001b[0m\u001b[0;34m\u001b[0m\u001b[0m\n\u001b[0;32m----> 2\u001b[0;31m \u001b[0ma\u001b[0m\u001b[0;34m[\u001b[0m\u001b[0mlen\u001b[0m\u001b[0;34m(\u001b[0m\u001b[0ma\u001b[0m\u001b[0;34m)\u001b[0m\u001b[0;34m]\u001b[0m \u001b[0;34m=\u001b[0m \u001b[0;34m\"this wont be added\"\u001b[0m\u001b[0;34m\u001b[0m\u001b[0;34m\u001b[0m\u001b[0m\n\u001b[0m",
      "\u001b[0;31mIndexError\u001b[0m: list assignment index out of range"
     ]
    }
   ],
   "source": [
    "print(len(a))\n",
    "a[len(a)] = \"this wont be added\""
   ]
  },
  {
   "cell_type": "markdown",
   "metadata": {},
   "source": [
    "### Lists and strings and how theyre very similar and very different"
   ]
  },
  {
   "cell_type": "markdown",
   "metadata": {},
   "source": [
    "There are actually a lot of similarities between `strings` and `lists` in `Python`.\n",
    "\n",
    "`Strings` can be indexed (and sliced) just like lists:"
   ]
  },
  {
   "cell_type": "code",
   "execution_count": 34,
   "metadata": {},
   "outputs": [
    {
     "name": "stdout",
     "output_type": "stream",
     "text": [
      "awesome\n",
      "wes\n",
      "a\n",
      "e\n"
     ]
    }
   ],
   "source": [
    "my_string = 'awesome'\n",
    "print(my_string)\n",
    "print(my_string[1:4])\n",
    "print(my_string[0])\n",
    "print(my_string[-1])"
   ]
  },
  {
   "cell_type": "markdown",
   "metadata": {},
   "source": [
    "And combined like `lists`:"
   ]
  },
  {
   "cell_type": "code",
   "execution_count": 35,
   "metadata": {},
   "outputs": [
    {
     "name": "stdout",
     "output_type": "stream",
     "text": [
      "awesome\n",
      "dudeawesome\n"
     ]
    }
   ],
   "source": [
    "print(my_string)\n",
    "my_string = \"dude\"+my_string\n",
    "print(my_string)"
   ]
  },
  {
   "cell_type": "markdown",
   "metadata": {},
   "source": [
    "You can even check their `length`, just like `lists`:"
   ]
  },
  {
   "cell_type": "code",
   "execution_count": 36,
   "metadata": {},
   "outputs": [
    {
     "name": "stdout",
     "output_type": "stream",
     "text": [
      "11\n"
     ]
    }
   ],
   "source": [
    "print(len(my_string))"
   ]
  },
  {
   "cell_type": "markdown",
   "metadata": {},
   "source": [
    "But, strings can also be `split`:"
   ]
  },
  {
   "cell_type": "code",
   "execution_count": 37,
   "metadata": {},
   "outputs": [
    {
     "data": {
      "text/plain": [
       "['Hello', 'my', 'name', 'is', 'Sergey!']"
      ]
     },
     "execution_count": 37,
     "metadata": {},
     "output_type": "execute_result"
    }
   ],
   "source": [
    "my_string = \"Hello my name is Sergey!\"\n",
    "my_string.split(\" \") #split on spaces"
   ]
  },
  {
   "cell_type": "markdown",
   "metadata": {},
   "source": [
    "And, remember that you always have to think about types when trying to combine `strings` with other objects:"
   ]
  },
  {
   "cell_type": "code",
   "execution_count": 38,
   "metadata": {},
   "outputs": [
    {
     "name": "stdout",
     "output_type": "stream",
     "text": [
      "Hello my name is Sergey! there\n"
     ]
    }
   ],
   "source": [
    "print(my_string + ' there') # you can totally do this because both objects are strings"
   ]
  },
  {
   "cell_type": "markdown",
   "metadata": {},
   "source": [
    "So the following won't work (`Python` will throw a `TypeError` `Exception`):"
   ]
  },
  {
   "cell_type": "code",
   "execution_count": 39,
   "metadata": {},
   "outputs": [
    {
     "ename": "TypeError",
     "evalue": "can only concatenate str (not \"int\") to str",
     "output_type": "error",
     "traceback": [
      "\u001b[0;31m---------------------------------------------------------------------------\u001b[0m",
      "\u001b[0;31mTypeError\u001b[0m                                 Traceback (most recent call last)",
      "\u001b[0;32m<ipython-input-39-ab6e100f2fa1>\u001b[0m in \u001b[0;36m<module>\u001b[0;34m\u001b[0m\n\u001b[0;32m----> 1\u001b[0;31m \u001b[0mmy_string\u001b[0m \u001b[0;34m+\u001b[0m \u001b[0;36m5\u001b[0m \u001b[0;31m# error because 5 is an int type and my_string is a string type\u001b[0m\u001b[0;34m\u001b[0m\u001b[0;34m\u001b[0m\u001b[0m\n\u001b[0m",
      "\u001b[0;31mTypeError\u001b[0m: can only concatenate str (not \"int\") to str"
     ]
    }
   ],
   "source": [
    "my_string + 5 # error because 5 is an int type and my_string is a string type"
   ]
  },
  {
   "cell_type": "markdown",
   "metadata": {},
   "source": [
    "However, although `lists` and `strings` appear very similar, **there is a critical difference between them**.\n",
    "\n",
    "You can replace subcomponents of `lists`, but you can't do the same for `strings`, you have to create new ones:"
   ]
  },
  {
   "cell_type": "code",
   "execution_count": 40,
   "metadata": {},
   "outputs": [
    {
     "name": "stdout",
     "output_type": "stream",
     "text": [
      "[1, 45, 'other_bros']\n",
      "[20, 45, 'other_bros']\n"
     ]
    },
    {
     "ename": "TypeError",
     "evalue": "'str' object does not support item assignment",
     "output_type": "error",
     "traceback": [
      "\u001b[0;31m---------------------------------------------------------------------------\u001b[0m",
      "\u001b[0;31mTypeError\u001b[0m                                 Traceback (most recent call last)",
      "\u001b[0;32m<ipython-input-40-c58aa6767567>\u001b[0m in \u001b[0;36m<module>\u001b[0;34m\u001b[0m\n\u001b[1;32m      5\u001b[0m \u001b[0ma_list\u001b[0m\u001b[0;34m[\u001b[0m\u001b[0;36m0\u001b[0m\u001b[0;34m]\u001b[0m \u001b[0;34m=\u001b[0m \u001b[0;36m20\u001b[0m               \u001b[0;31m#you can do this\u001b[0m\u001b[0;34m\u001b[0m\u001b[0;34m\u001b[0m\u001b[0m\n\u001b[1;32m      6\u001b[0m \u001b[0mprint\u001b[0m\u001b[0;34m(\u001b[0m\u001b[0ma_list\u001b[0m\u001b[0;34m)\u001b[0m\u001b[0;34m\u001b[0m\u001b[0;34m\u001b[0m\u001b[0m\n\u001b[0;32m----> 7\u001b[0;31m \u001b[0ma_string\u001b[0m\u001b[0;34m[\u001b[0m\u001b[0;36m0\u001b[0m\u001b[0;34m]\u001b[0m \u001b[0;34m=\u001b[0m \u001b[0;34m'c'\u001b[0m            \u001b[0;31m#this will throw a TypeError Exception\u001b[0m\u001b[0;34m\u001b[0m\u001b[0;34m\u001b[0m\u001b[0m\n\u001b[0m",
      "\u001b[0;31mTypeError\u001b[0m: 'str' object does not support item assignment"
     ]
    }
   ],
   "source": [
    "a_list = [1,45,\"other_bros\"]\n",
    "a_string = \"bros\"\n",
    "\n",
    "print(a_list)\n",
    "a_list[0] = 20               #you can do this\n",
    "print(a_list)\n",
    "a_string[0] = 'c'            #this will throw a TypeError Exception"
   ]
  },
  {
   "cell_type": "markdown",
   "metadata": {},
   "source": [
    "The reason this happens is because of the kinds of objects `lists` and `strings` are in `Python`. \n",
    "\n",
    "`Lists` are **mutable** objects in `Python`. This means you can change the same `list` object over and over again (this is called **mutating** it). \n",
    "\n",
    "You can't do that with `strings`. They're called **immutable** objects. So, when you \"change\" a string, you actually have to create a new version of it (with the changed part):"
   ]
  },
  {
   "cell_type": "code",
   "execution_count": 41,
   "metadata": {},
   "outputs": [
    {
     "name": "stdout",
     "output_type": "stream",
     "text": [
      "bros\n",
      "cros\n"
     ]
    }
   ],
   "source": [
    "print(a_string)\n",
    "a_string = \"c\" + a_string[1:] #this is how you would do what we tried to do above with \"bros\"\n",
    "print(a_string)"
   ]
  },
  {
   "cell_type": "markdown",
   "metadata": {},
   "source": [
    "You can do other stuff with `strings` that you can't do with `lists`:"
   ]
  },
  {
   "cell_type": "code",
   "execution_count": 42,
   "metadata": {},
   "outputs": [
    {
     "name": "stdout",
     "output_type": "stream",
     "text": [
      "CROS\n",
      "cros\n",
      "Cros\n"
     ]
    }
   ],
   "source": [
    "print(a_string.upper())\n",
    "print(a_string.lower())\n",
    "print(a_string.capitalize())"
   ]
  },
  {
   "cell_type": "markdown",
   "metadata": {},
   "source": [
    "Before we start talking about functions (which we are about to) and what they are, you should use a simple one that generates `lists` of sequential `ints` called `range`:"
   ]
  },
  {
   "cell_type": "code",
   "execution_count": 43,
   "metadata": {},
   "outputs": [
    {
     "name": "stdout",
     "output_type": "stream",
     "text": [
      "[2, 3, 4, 5, 6, 7, 8, 9]\n",
      "[0, 1, 2]\n",
      "[2, 4, 6, 8]\n"
     ]
    }
   ],
   "source": [
    "a = list(range(2, 10))  # creates a list of integers that includes first value but excludes second value and is ordered\n",
    "b = list(range(3))      # when you only pass a single number, it generates a generator starting at zero\n",
    "c = list(range(2,10,2)) # when you pass in 3 numbers, it generates a list where the \"step\" is the 3rd parameter\n",
    "print(a)\n",
    "print(b)\n",
    "print(c)"
   ]
  },
  {
   "cell_type": "markdown",
   "metadata": {},
   "source": [
    "#### Exercise Time!\n",
    "\n",
    "* create a variable `my_new_list` and set it to contain \"dude\" and the string \"55\"\n",
    "* create a new variable `dude55` that is the concatenation of \"dude\" and \"55\"\n",
    "* create a variable `my_int` that is the int representation of \"55\"\n",
    "* create a new string called `my_substring` that is the 3rd through 5th characters of `dude55`\n",
    "* create a list called `my_range` that is all the multiples of 3 from 3-26 "
   ]
  },
  {
   "cell_type": "code",
   "execution_count": 45,
   "metadata": {},
   "outputs": [
    {
     "name": "stdout",
     "output_type": "stream",
     "text": [
      "['dude', '55']\n",
      "dude55\n",
      "55\n",
      "de5\n",
      "[3, 6, 9, 12, 15, 18, 21, 24]\n"
     ]
    }
   ],
   "source": [
    "my_new_list = [\"dude\",\"55\"]\n",
    "print(my_new_list)\n",
    "dude55 = my_new_list[0]+my_new_list[1]\n",
    "print(dude55)\n",
    "my_int = int(my_new_list[1])\n",
    "print(my_int)\n",
    "my_substring = dude55[2:5]\n",
    "print(my_substring)\n",
    "my_range = range(3,26,3)\n",
    "print(list(my_range))"
   ]
  },
  {
   "cell_type": "markdown",
   "metadata": {},
   "source": [
    "### Dictionaries"
   ]
  },
  {
   "cell_type": "markdown",
   "metadata": {},
   "source": [
    "The last data type we are going to talk about in this whirlwind tour of `Python` are called dictionaries, or `dicts`. \n",
    "\n",
    "Dictionaries are `Python` objects that behave like real dictionaries in meatspace:\n",
    "* dictionaries are made of key-value pairs (word and definition)\n",
    "* dictionary keys must be unique (each word is only defined once)\n",
    "* you can use the key to look up the value, but not the other way around (you can't ask a dictionary give me the word whose definition is \"furry domesticated animal that's sometimes an asshole\" and get \"cat\")\n",
    "\n",
    "Dictionaries are similar to lists in that:\n",
    "* they can contain multiple data types\n",
    "* you can move through (iterate) them\n",
    "* they are mutable (meaning you can change, or mutate, them).\n",
    "\n",
    "However, dictionaries are different from lists in that they:\n",
    "* are unordered (lists are ordered on their index)\n",
    "\n",
    "Ok, enough of that, here's an actual `Python` dict:"
   ]
  },
  {
   "cell_type": "code",
   "execution_count": 47,
   "metadata": {},
   "outputs": [
    {
     "name": "stdout",
     "output_type": "stream",
     "text": [
      "<class 'dict'>\n",
      "play\n",
      "3\n",
      "dict_keys(['manhattan', 'brooklyn', 'best borough'])\n",
      "dict_values(['work', 'play', 'brooklyn'])\n",
      "dict_items([('manhattan', 'work'), ('brooklyn', 'play'), ('best borough', 'brooklyn')])\n",
      "play\n"
     ]
    }
   ],
   "source": [
    "nyc = {'manhattan':'work', 'brooklyn':'play', 'best borough':'brooklyn'}\n",
    "\n",
    "# examine the dictionary\n",
    "print(type(nyc))\n",
    "print(nyc['brooklyn'])\n",
    "print(len(nyc))\n",
    "print(nyc.keys())\n",
    "print(nyc.values())\n",
    "print(nyc.items())\n",
    "print(nyc[nyc[\"best borough\"]]) #what happened here?"
   ]
  },
  {
   "cell_type": "markdown",
   "metadata": {},
   "source": [
    "Remember, `dicts` are unordered. So, working with a dict like you do with a list FAILS:"
   ]
  },
  {
   "cell_type": "code",
   "execution_count": 48,
   "metadata": {},
   "outputs": [
    {
     "ename": "KeyError",
     "evalue": "0",
     "output_type": "error",
     "traceback": [
      "\u001b[0;31m---------------------------------------------------------------------------\u001b[0m",
      "\u001b[0;31mKeyError\u001b[0m                                  Traceback (most recent call last)",
      "\u001b[0;32m<ipython-input-48-416ad28cdf69>\u001b[0m in \u001b[0;36m<module>\u001b[0;34m\u001b[0m\n\u001b[0;32m----> 1\u001b[0;31m \u001b[0mprint\u001b[0m\u001b[0;34m(\u001b[0m\u001b[0mnyc\u001b[0m\u001b[0;34m[\u001b[0m\u001b[0;36m0\u001b[0m\u001b[0;34m]\u001b[0m\u001b[0;34m)\u001b[0m\u001b[0;34m\u001b[0m\u001b[0;34m\u001b[0m\u001b[0m\n\u001b[0m",
      "\u001b[0;31mKeyError\u001b[0m: 0"
     ]
    }
   ],
   "source": [
    "print(nyc[0])"
   ]
  },
  {
   "cell_type": "markdown",
   "metadata": {},
   "source": [
    "However, you can modify dictionaries in a similar way to how you can modify lists:"
   ]
  },
  {
   "cell_type": "code",
   "execution_count": 49,
   "metadata": {},
   "outputs": [
    {
     "data": {
      "text/plain": [
       "'staten island'"
      ]
     },
     "execution_count": 49,
     "metadata": {},
     "output_type": "execute_result"
    }
   ],
   "source": [
    "nyc['queens'] = 'baller status'                    # add a new entry\n",
    "nyc['best borough'] = 'queens'                     # edit an existing entry\n",
    "del nyc['manhattan']                               # delete an entry using its key\n",
    "nyc['other boroughs'] = ['bronx', 'staten island'] # value can be a list\n",
    "\n",
    "# accessing a list element within a dictionary\n",
    "nyc['other boroughs'][1]"
   ]
  },
  {
   "cell_type": "markdown",
   "metadata": {},
   "source": [
    "#### Exercise Time!\n",
    "* print the name of the best borough (in the dictionary).\n",
    "* create a new key-value pair for `new jersey` (give it any value you like)\n",
    "* fix the boroughs stored in the `other boroughs` object so that they're both upper case"
   ]
  },
  {
   "cell_type": "code",
   "execution_count": 50,
   "metadata": {},
   "outputs": [
    {
     "name": "stdout",
     "output_type": "stream",
     "text": [
      "queens\n"
     ]
    }
   ],
   "source": [
    "print(nyc[\"best borough\"])\n",
    "nyc[\"new jersey\"] = \"delaware water gap is beautiful\"\n",
    "nyc[\"other boroughs\"] = [nyc[\"other boroughs\"][0].upper(),\n",
    "                         nyc[\"other boroughs\"][1].upper()]"
   ]
  },
  {
   "cell_type": "markdown",
   "metadata": {},
   "source": [
    "### Functions"
   ]
  },
  {
   "cell_type": "markdown",
   "metadata": {},
   "source": [
    "Ok, so we've just been using functions (like `print`, `len`, `append`, `upper`, `capitalize`) without really explaining what they are or how they work. \n",
    "\n",
    "If you did the pre-work (you did it, right?), you should be pretty familiar with functions in Python. Nonetheless, here are some examples:"
   ]
  },
  {
   "cell_type": "code",
   "execution_count": 51,
   "metadata": {},
   "outputs": [],
   "source": [
    "def give_me_one(): # function definition begins with the keyword def, ends with colon\n",
    "    return 1       # indentation required for function body to create proper function scope"
   ]
  },
  {
   "cell_type": "markdown",
   "metadata": {},
   "source": [
    "This is a really dumb function. It simply returns the `int` 1. Lets look at how it would work:"
   ]
  },
  {
   "cell_type": "code",
   "execution_count": 52,
   "metadata": {},
   "outputs": [
    {
     "name": "stdout",
     "output_type": "stream",
     "text": [
      "1\n"
     ]
    }
   ],
   "source": [
    "print(give_me_one())"
   ]
  },
  {
   "cell_type": "markdown",
   "metadata": {},
   "source": [
    "To make a function \"do its work\", you need to **instantiate** it. That's what we did when we called `give_me_one` with `()` at the end. \n",
    "\n",
    "However, you can all a function without instantiating it too:"
   ]
  },
  {
   "cell_type": "code",
   "execution_count": 53,
   "metadata": {},
   "outputs": [
    {
     "name": "stdout",
     "output_type": "stream",
     "text": [
      "The type of give_me_one is: <class 'function'>\n"
     ]
    },
    {
     "data": {
      "text/plain": [
       "<function __main__.give_me_one()>"
      ]
     },
     "execution_count": 53,
     "metadata": {},
     "output_type": "execute_result"
    }
   ],
   "source": [
    "print(\"The type of give_me_one is:\",type(give_me_one))\n",
    "give_me_one"
   ]
  },
  {
   "cell_type": "markdown",
   "metadata": {},
   "source": [
    "And of course you can assign the result of a function to a new variable:"
   ]
  },
  {
   "cell_type": "code",
   "execution_count": 54,
   "metadata": {},
   "outputs": [
    {
     "name": "stdout",
     "output_type": "stream",
     "text": [
      "1\n"
     ]
    }
   ],
   "source": [
    "dude = give_me_one()\n",
    "print(dude)"
   ]
  },
  {
   "cell_type": "markdown",
   "metadata": {},
   "source": [
    "You can also assign an uninstantiated function to a variable, and then instantiate that:"
   ]
  },
  {
   "cell_type": "code",
   "execution_count": 55,
   "metadata": {},
   "outputs": [
    {
     "name": "stdout",
     "output_type": "stream",
     "text": [
      "<function give_me_one at 0x10eea6a60>\n",
      "Now we are going to instantiate another dude:\n"
     ]
    },
    {
     "data": {
      "text/plain": [
       "1"
      ]
     },
     "execution_count": 55,
     "metadata": {},
     "output_type": "execute_result"
    }
   ],
   "source": [
    "another_dude = give_me_one\n",
    "print(another_dude)\n",
    "print(\"Now we are going to instantiate another dude:\")\n",
    "another_dude()"
   ]
  },
  {
   "cell_type": "markdown",
   "metadata": {},
   "source": [
    "The function `print`, which can be called in a variety of ways in `Python`, prints to the screen (we've used it quite a lot so far):"
   ]
  },
  {
   "cell_type": "code",
   "execution_count": 56,
   "metadata": {},
   "outputs": [
    {
     "name": "stdout",
     "output_type": "stream",
     "text": [
      "5\n"
     ]
    }
   ],
   "source": [
    "print(5)"
   ]
  },
  {
   "cell_type": "markdown",
   "metadata": {},
   "source": [
    "Pay attention to the syntax of `give_me_one`. \n",
    "\n",
    "Every function definition starts with the keyword `def` and ends with a colon (:). The actual function body **must be indented** to work properly. Furthermore, a function can have an optional `return` keyword, which tells you what the function returns (in this case the `int` 1).\n",
    "\n",
    "Functions dont have to return anything. Here's a dumb function that just prints \"Python is awesome\" without a `return` statement and doesnt return anything that you can then store in a variable:"
   ]
  },
  {
   "cell_type": "code",
   "execution_count": 57,
   "metadata": {},
   "outputs": [],
   "source": [
    "def print_python():\n",
    "    print(\"Python is awesome!\")"
   ]
  },
  {
   "cell_type": "code",
   "execution_count": 58,
   "metadata": {},
   "outputs": [
    {
     "name": "stdout",
     "output_type": "stream",
     "text": [
      "Python is awesome!\n",
      "<class 'NoneType'>\n",
      "<class 'function'>\n",
      "Python is awesome!\n",
      "Python is awesome!\n",
      "None\n"
     ]
    }
   ],
   "source": [
    "print(type(print_python())) #The type of the instantiated function is NoneType because the function didnt return anything\n",
    "print(type(print_python))\n",
    "print_python()\n",
    "a_var = print_python()\n",
    "print(a_var)"
   ]
  },
  {
   "cell_type": "markdown",
   "metadata": {},
   "source": [
    "Here's another function. It's a bit more complicated, and has parameters that you pass into it:"
   ]
  },
  {
   "cell_type": "code",
   "execution_count": 59,
   "metadata": {},
   "outputs": [],
   "source": [
    "def calc(x, y, op):         # three parameters (without any defaults)\n",
    "    if op == 'add':         # conditional statement\n",
    "        return x + y\n",
    "    elif op == 'subtract':\n",
    "        return x - y\n",
    "    else:\n",
    "        print('Valid operations: add, subtract')"
   ]
  },
  {
   "cell_type": "markdown",
   "metadata": {},
   "source": [
    "Let's test it on some input:"
   ]
  },
  {
   "cell_type": "code",
   "execution_count": 60,
   "metadata": {},
   "outputs": [
    {
     "name": "stdout",
     "output_type": "stream",
     "text": [
      "8\n",
      "2\n",
      "Valid operations: add, subtract\n",
      "None\n"
     ]
    },
    {
     "ename": "TypeError",
     "evalue": "calc() missing 1 required positional argument: 'op'",
     "output_type": "error",
     "traceback": [
      "\u001b[0;31m---------------------------------------------------------------------------\u001b[0m",
      "\u001b[0;31mTypeError\u001b[0m                                 Traceback (most recent call last)",
      "\u001b[0;32m<ipython-input-60-bb3642710cab>\u001b[0m in \u001b[0;36m<module>\u001b[0;34m\u001b[0m\n\u001b[1;32m      2\u001b[0m \u001b[0mprint\u001b[0m\u001b[0;34m(\u001b[0m\u001b[0mcalc\u001b[0m\u001b[0;34m(\u001b[0m\u001b[0;36m5\u001b[0m\u001b[0;34m,\u001b[0m \u001b[0;36m3\u001b[0m\u001b[0;34m,\u001b[0m \u001b[0;34m'subtract'\u001b[0m\u001b[0;34m)\u001b[0m\u001b[0;34m)\u001b[0m\u001b[0;34m\u001b[0m\u001b[0;34m\u001b[0m\u001b[0m\n\u001b[1;32m      3\u001b[0m \u001b[0mprint\u001b[0m\u001b[0;34m(\u001b[0m\u001b[0mcalc\u001b[0m\u001b[0;34m(\u001b[0m\u001b[0;36m5\u001b[0m\u001b[0;34m,\u001b[0m \u001b[0;36m3\u001b[0m\u001b[0;34m,\u001b[0m \u001b[0;34m'multiply'\u001b[0m\u001b[0;34m)\u001b[0m\u001b[0;34m)\u001b[0m\u001b[0;34m\u001b[0m\u001b[0;34m\u001b[0m\u001b[0m\n\u001b[0;32m----> 4\u001b[0;31m \u001b[0mcalc\u001b[0m\u001b[0;34m(\u001b[0m\u001b[0;36m5\u001b[0m\u001b[0;34m,\u001b[0m \u001b[0;36m3\u001b[0m\u001b[0;34m)\u001b[0m\u001b[0;34m\u001b[0m\u001b[0;34m\u001b[0m\u001b[0m\n\u001b[0m",
      "\u001b[0;31mTypeError\u001b[0m: calc() missing 1 required positional argument: 'op'"
     ]
    }
   ],
   "source": [
    "print(calc(5, 3, 'add'))\n",
    "print(calc(5, 3, 'subtract'))\n",
    "print(calc(5, 3, 'multiply'))\n",
    "calc(5, 3)"
   ]
  },
  {
   "cell_type": "markdown",
   "metadata": {},
   "source": [
    "Why did we get a `TypeError Exception` for the last call here?\n",
    "\n",
    "This is because we had to pass 3 arguments to the `calc` function, as all of them were required (none of the parameters had default values). Let's make one of the parameters optional (by adding a default value) to fix this problem:"
   ]
  },
  {
   "cell_type": "code",
   "execution_count": 61,
   "metadata": {},
   "outputs": [],
   "source": [
    "def calc_default_add(x, y, op=\"add\"): # three parameters (with addition being the default value for the 3rd parameter)\n",
    "    if op == 'add':         # conditional statement\n",
    "        return x + y\n",
    "    elif op == 'subtract':\n",
    "        return x - y\n",
    "    else:\n",
    "        print('Valid operations: add, subtract')"
   ]
  },
  {
   "cell_type": "code",
   "execution_count": 62,
   "metadata": {},
   "outputs": [
    {
     "data": {
      "text/plain": [
       "8"
      ]
     },
     "execution_count": 62,
     "metadata": {},
     "output_type": "execute_result"
    }
   ],
   "source": [
    "calc_default_add(5, 3)"
   ]
  },
  {
   "cell_type": "markdown",
   "metadata": {},
   "source": [
    "Voila! It works as intended!\n",
    "\n",
    "Also, some more explanation. \n",
    "\n",
    "This function includes some **conditional** statements (`if`, `elif`, `else`) and tests for equality (the double equals sign `==`). Again, **pay attention to the indentation**. The indentation lets `Python` know about the scope of variables (where they can be used), and is required for your programs to work. If you don't indent properly, your code will throw errors."
   ]
  },
  {
   "cell_type": "markdown",
   "metadata": {},
   "source": [
    "#### Exercise Time!\n",
    "\n",
    "Write a couple functions:\n",
    "* One called `compute_pay` that takes two parameters (`hours` and `rate`), and returns the total pay.\n",
    "* One called `get_hours_worked` that takes two parameters (`total_pay` and `rate`) and returns the total hours worked."
   ]
  },
  {
   "cell_type": "code",
   "execution_count": 51,
   "metadata": {},
   "outputs": [
    {
     "name": "stdout",
     "output_type": "stream",
     "text": [
      "420.0\n"
     ]
    }
   ],
   "source": [
    "def compute_pay(hours, rate):\n",
    "    return hours * rate\n",
    "\n",
    "print(compute_pay(40, 10.50))"
   ]
  },
  {
   "cell_type": "code",
   "execution_count": 52,
   "metadata": {},
   "outputs": [
    {
     "name": "stdout",
     "output_type": "stream",
     "text": [
      "38.095238095238095\n",
      "50.0\n"
     ]
    }
   ],
   "source": [
    "def hours_worked(total_pay,rate):\n",
    "    return float(total_pay) / rate\n",
    "\n",
    "print(hours_worked(400,10.5))\n",
    "print(hours_worked(500,10))"
   ]
  },
  {
   "cell_type": "markdown",
   "metadata": {},
   "source": [
    "### For loops"
   ]
  },
  {
   "cell_type": "markdown",
   "metadata": {},
   "source": [
    "Ok, now we are going to talk about loops, which allow you to iterate (move across) objects like lists and strings.\n",
    "\n",
    "The basic loop in `Python` is what is called the `for` loop. It starts with the reserved keyword `for`:"
   ]
  },
  {
   "cell_type": "code",
   "execution_count": 65,
   "metadata": {},
   "outputs": [
    {
     "name": "stdout",
     "output_type": "stream",
     "text": [
      "0\n",
      "1\n",
      "2\n",
      "3\n",
      "4\n"
     ]
    }
   ],
   "source": [
    "for i in range(5):\n",
    "    print(i)"
   ]
  },
  {
   "cell_type": "markdown",
   "metadata": {},
   "source": [
    "Here we are simply printing the numbers 0-4 inclusive to the screen, one per line. \n",
    "\n",
    "Here's another example. This time, we are doing something to each `string` object we get from a `list` of `strings`:"
   ]
  },
  {
   "cell_type": "code",
   "execution_count": 66,
   "metadata": {},
   "outputs": [
    {
     "name": "stdout",
     "output_type": "stream",
     "text": [
      "SERGEY\n",
      "SUZIE\n",
      "HARRY\n",
      "SERGEY\n",
      "SUZIE\n",
      "HARRY\n",
      "1\n",
      "2\n",
      "3\n",
      "4\n",
      "5\n",
      "1\n",
      "3\n",
      "5\n"
     ]
    }
   ],
   "source": [
    "# print each list element in uppercase\n",
    "people = ['sergey', 'suzie', 'harry']\n",
    "for i in range(len(people)):\n",
    "    print(people[i].upper())\n",
    "\n",
    "# does the same thing, BUT WAY WAY BETTER\n",
    "for i in people:\n",
    "    print(i.upper())\n",
    "\n",
    "# for loop to print 1 through 5\n",
    "nums = range(1, 6)      # create a list of 1 through 5\n",
    "for num in nums:        # num 'becomes' each list element for one loop\n",
    "    print(num)\n",
    "\n",
    "# for loop to print 1, 3, 5\n",
    "other = [1, 3, 5]       # create a different list\n",
    "for x in other:         # name 'x' does not matter\n",
    "    print(x)            # this loop only executes 3 times (not 5)"
   ]
  },
  {
   "cell_type": "markdown",
   "metadata": {},
   "source": [
    "#### Exercise Time!\n",
    "\n",
    "* write a for loop that adds 7 to each of the numbers 1-10 inclusive and prints the result to the screen"
   ]
  },
  {
   "cell_type": "code",
   "execution_count": 53,
   "metadata": {},
   "outputs": [
    {
     "name": "stdout",
     "output_type": "stream",
     "text": [
      "8\n",
      "9\n",
      "10\n",
      "11\n",
      "12\n",
      "13\n",
      "14\n",
      "15\n",
      "16\n",
      "17\n"
     ]
    }
   ],
   "source": [
    "for i in range(1,11):\n",
    "    print(i + 7)"
   ]
  },
  {
   "cell_type": "markdown",
   "metadata": {},
   "source": [
    "### List comprehensions"
   ]
  },
  {
   "cell_type": "markdown",
   "metadata": {},
   "source": [
    "Many `for` loops can actually be converted into what are called list comprehensions, especially when you're trying to store the result of the `for` loop in a list.\n",
    "\n",
    "Imagine you wanted to collect all of the squares of the numbers 1-10 in a `list`. You could accomplish this in several ways.\n",
    "\n",
    "Here's a way to do it with `for` loops:"
   ]
  },
  {
   "cell_type": "code",
   "execution_count": 68,
   "metadata": {},
   "outputs": [
    {
     "name": "stdout",
     "output_type": "stream",
     "text": [
      "For loop result: [1, 4, 9, 16, 25, 36, 49, 64, 81, 100]\n"
     ]
    }
   ],
   "source": [
    "squares = []                # create empty list to store results\n",
    "for num in range(1,11):     # loop through nums (will execute 10 times)\n",
    "    squares.append(num*num) # append the square of the current value of num\n",
    "print(\"For loop result:\",squares)"
   ]
  },
  {
   "cell_type": "markdown",
   "metadata": {},
   "source": [
    "And here's the equivalent list comprehension:"
   ]
  },
  {
   "cell_type": "code",
   "execution_count": 69,
   "metadata": {},
   "outputs": [
    {
     "name": "stdout",
     "output_type": "stream",
     "text": [
      "List comprehension result: [1, 4, 9, 16, 25, 36, 49, 64, 81, 100]\n"
     ]
    }
   ],
   "source": [
    "better_squares = [num*num for num in range(1,11)] #exact same computation as above\n",
    "print(\"List comprehension result:\", better_squares)"
   ]
  },
  {
   "cell_type": "markdown",
   "metadata": {},
   "source": [
    "#### Exercise Time!\n",
    "\n",
    "* Given `words = ['yo','hello','awesome']` write a list comprehension that returns `[\"YO\",\"HELLO\",\"AWESOME\"]`\n",
    "* Given `word = \"fancy\"` write a list comprehension that returns `['F','A','N','C','Y']`\n",
    "* Write a function called `awesome_sauce` that prints the numbers from 1 to 100. However, for multiples of 2 it should print 'awesome' instead of the number, and for multiples of 7 it should print 'sauce' instead of the number, and dor numbers which are multiples of both 2 and 7 it must print 'awesome sauce!'."
   ]
  },
  {
   "cell_type": "code",
   "execution_count": 54,
   "metadata": {},
   "outputs": [
    {
     "name": "stdout",
     "output_type": "stream",
     "text": [
      "['YO', 'HELLO', 'AWESOME']\n"
     ]
    }
   ],
   "source": [
    "words = [\"yo\",\"hello\",\"awesome\"]\n",
    "words_upper = [word.upper() for word in words]\n",
    "print(words_upper)"
   ]
  },
  {
   "cell_type": "code",
   "execution_count": 55,
   "metadata": {},
   "outputs": [
    {
     "name": "stdout",
     "output_type": "stream",
     "text": [
      "['F', 'A', 'N', 'C', 'Y']\n",
      "['F', 'A', 'N', 'C', 'Y']\n"
     ]
    }
   ],
   "source": [
    "#for comprehension approach\n",
    "word = \"fancy\"\n",
    "split_word = [letter.upper() for letter in word]\n",
    "print(split_word)\n",
    "\n",
    "#for loop approach\n",
    "split_word2 = []\n",
    "for awesomesauce in word:\n",
    "    split_word2.append(awesomesauce.upper())\n",
    "print(split_word2)"
   ]
  },
  {
   "cell_type": "code",
   "execution_count": 56,
   "metadata": {},
   "outputs": [
    {
     "name": "stdout",
     "output_type": "stream",
     "text": [
      "1\n",
      "awesome\n",
      "3\n",
      "awesome\n",
      "5\n",
      "awesome\n",
      "sauce\n",
      "awesome\n",
      "9\n",
      "awesome\n",
      "11\n",
      "awesome\n",
      "13\n",
      "awesome sauce!\n",
      "15\n",
      "awesome\n",
      "17\n",
      "awesome\n",
      "19\n",
      "awesome\n",
      "sauce\n",
      "awesome\n",
      "23\n",
      "awesome\n",
      "25\n",
      "awesome\n",
      "27\n",
      "awesome sauce!\n",
      "29\n",
      "awesome\n",
      "31\n",
      "awesome\n",
      "33\n",
      "awesome\n",
      "sauce\n",
      "awesome\n",
      "37\n",
      "awesome\n",
      "39\n",
      "awesome\n",
      "41\n",
      "awesome sauce!\n",
      "43\n",
      "awesome\n",
      "45\n",
      "awesome\n",
      "47\n",
      "awesome\n",
      "sauce\n",
      "awesome\n",
      "51\n",
      "awesome\n",
      "53\n",
      "awesome\n",
      "55\n",
      "awesome sauce!\n",
      "57\n",
      "awesome\n",
      "59\n",
      "awesome\n",
      "61\n",
      "awesome\n",
      "sauce\n",
      "awesome\n",
      "65\n",
      "awesome\n",
      "67\n",
      "awesome\n",
      "69\n",
      "awesome sauce!\n",
      "71\n",
      "awesome\n",
      "73\n",
      "awesome\n",
      "75\n",
      "awesome\n",
      "sauce\n",
      "awesome\n",
      "79\n",
      "awesome\n",
      "81\n",
      "awesome\n",
      "83\n",
      "awesome sauce!\n",
      "85\n",
      "awesome\n",
      "87\n",
      "awesome\n",
      "89\n",
      "awesome\n",
      "sauce\n",
      "awesome\n",
      "93\n",
      "awesome\n",
      "95\n",
      "awesome\n",
      "97\n",
      "awesome sauce!\n",
      "99\n",
      "awesome\n"
     ]
    }
   ],
   "source": [
    "def awesome_sauce():\n",
    "    for value in range(1,101):\n",
    "        if value % 2 == 0 and value % 7 == 0:\n",
    "            print(\"awesome sauce!\")\n",
    "        elif value % 2 == 0:\n",
    "            print(\"awesome\")\n",
    "        elif value % 7 == 0:\n",
    "            print(\"sauce\")\n",
    "        else:\n",
    "            print(value)\n",
    "\n",
    "awesome_sauce()"
   ]
  },
  {
   "cell_type": "markdown",
   "metadata": {},
   "source": [
    "### Loading things in from a file or the internet"
   ]
  },
  {
   "cell_type": "markdown",
   "metadata": {},
   "source": [
    "The data you work with as a data scientist needs to come from somewhere.\n",
    "\n",
    "Here's a simple way to get some data from a file:"
   ]
  },
  {
   "cell_type": "code",
   "execution_count": 57,
   "metadata": {},
   "outputs": [
    {
     "name": "stdout",
     "output_type": "stream",
     "text": [
      "['63.03 22.55 39.61 40.48 98.67 -0.25 AB']\n",
      "['39.06 10.06 25.02 29 114.41 4.56 AB']\n",
      "['68.83 22.22 50.09 46.61 105.99 -3.53 AB']\n",
      "['69.3 24.65 44.31 44.64 101.87 11.21 AB']\n",
      "['49.71 9.65 28.32 40.06 108.17 7.92 AB']\n"
     ]
    }
   ],
   "source": [
    "#imports to make things work properly\n",
    "import csv\n",
    "import requests\n",
    "\n",
    "with open('../data/vertebral_column_2_categories.dat', 'r') as f:\n",
    "    vertebral_data = [row for row in csv.reader(f)]\n",
    "\n",
    "#print the first five elements in vertebral_data\n",
    "for line in vertebral_data[:5]:\n",
    "    print(line)"
   ]
  },
  {
   "cell_type": "markdown",
   "metadata": {},
   "source": [
    "And heres a way to get data from the internet:"
   ]
  },
  {
   "cell_type": "code",
   "execution_count": 61,
   "metadata": {},
   "outputs": [
    {
     "name": "stdout",
     "output_type": "stream",
     "text": [
      "5.1,3.5,1.4,0.2,Iris-setosa\n",
      "4.9,3.0,1.4,0.2,Iris-setosa\n",
      "4.7,3.2,1.3,0.2,Iris-setosa\n",
      "4.6,3.1,1.5,0.2,Iris-setosa\n",
      "5.0,3.6,1.4,0.2,Iris-setosa\n"
     ]
    }
   ],
   "source": [
    "r = requests.get('https://archive.ics.uci.edu/ml/machine-learning-databases/iris/iris.data') #iris dataset on the internet\n",
    "iris_data = [row.decode('utf-8') for row in r.iter_lines()]\n",
    "\n",
    "#print the first five elements in iris_data\n",
    "for line in iris_data[:5]:\n",
    "    print(line)"
   ]
  },
  {
   "cell_type": "markdown",
   "metadata": {},
   "source": [
    "[**Requests**](http://docs.python-requests.org/en/master/) is an incredibly useful library for getting data from the internet (or just handling http requests generally). We will use it a lot when getting example data to play with off the internet."
   ]
  },
  {
   "cell_type": "markdown",
   "metadata": {},
   "source": [
    "#### Exercise Time!\n",
    "* Split every item in `iris_data` on the commas\n",
    "* Split every item in `vertebral_data` on the spaces\n",
    "* Get only the numeric entries in each item in `iris_data`"
   ]
  },
  {
   "cell_type": "code",
   "execution_count": 62,
   "metadata": {},
   "outputs": [
    {
     "name": "stdout",
     "output_type": "stream",
     "text": [
      "list comprehension version:\n",
      "['5.1', '3.5', '1.4', '0.2', 'Iris-setosa']\n",
      "['4.9', '3.0', '1.4', '0.2', 'Iris-setosa']\n",
      "['4.7', '3.2', '1.3', '0.2', 'Iris-setosa']\n",
      "['4.6', '3.1', '1.5', '0.2', 'Iris-setosa']\n",
      "['5.0', '3.6', '1.4', '0.2', 'Iris-setosa']\n",
      "For loop version:\n",
      "['5.1', '3.5', '1.4', '0.2', 'Iris-setosa']\n",
      "['4.9', '3.0', '1.4', '0.2', 'Iris-setosa']\n",
      "['4.7', '3.2', '1.3', '0.2', 'Iris-setosa']\n",
      "['4.6', '3.1', '1.5', '0.2', 'Iris-setosa']\n",
      "['5.0', '3.6', '1.4', '0.2', 'Iris-setosa']\n",
      "Are they equivalent:True\n"
     ]
    }
   ],
   "source": [
    "#first bullet in exercise\n",
    "\n",
    "#list comprehension\n",
    "iris_data_split1 = [ dude.split(\",\") for dude in iris_data ]\n",
    "\n",
    "#for loop\n",
    "iris_data_split2 = []\n",
    "for line in iris_data:\n",
    "    split_line = line.split(\",\")\n",
    "    iris_data_split2.append(split_line)\n",
    "\n",
    "#check both of them\n",
    "print(\"list comprehension version:\")\n",
    "for line in iris_data_split1[:5]:\n",
    "    print(line)\n",
    "\n",
    "print(\"For loop version:\")\n",
    "for line in iris_data_split2[:5]:\n",
    "    print(line)\n",
    "\n",
    "print(\"Are they equivalent:\"+str(iris_data_split1 == iris_data_split2))"
   ]
  },
  {
   "cell_type": "code",
   "execution_count": 65,
   "metadata": {},
   "outputs": [
    {
     "name": "stdout",
     "output_type": "stream",
     "text": [
      "List comprehension version:\n",
      "['63.03', '22.55', '39.61', '40.48', '98.67', '-0.25', 'AB']\n",
      "['39.06', '10.06', '25.02', '29', '114.41', '4.56', 'AB']\n",
      "['68.83', '22.22', '50.09', '46.61', '105.99', '-3.53', 'AB']\n",
      "['69.3', '24.65', '44.31', '44.64', '101.87', '11.21', 'AB']\n",
      "['49.71', '9.65', '28.32', '40.06', '108.17', '7.92', 'AB']\n",
      "For loop version:\n",
      "['63.03', '22.55', '39.61', '40.48', '98.67', '-0.25', 'AB']\n",
      "['39.06', '10.06', '25.02', '29', '114.41', '4.56', 'AB']\n",
      "['68.83', '22.22', '50.09', '46.61', '105.99', '-3.53', 'AB']\n",
      "['69.3', '24.65', '44.31', '44.64', '101.87', '11.21', 'AB']\n",
      "['49.71', '9.65', '28.32', '40.06', '108.17', '7.92', 'AB']\n",
      "Are they the same: True\n"
     ]
    }
   ],
   "source": [
    "#second bullet in exercise\n",
    "#list comprehension\n",
    "vertebral_data_split1 = [line[0].split(\" \") for line in vertebral_data]\n",
    "\n",
    "#for loop\n",
    "vertebral_data_split2 = []\n",
    "for line in vertebral_data:\n",
    "    split_line = line[0].split(\" \")\n",
    "    vertebral_data_split2.append(split_line)\n",
    "\n",
    "print(\"List comprehension version:\")\n",
    "for line in vertebral_data_split1[:5]:\n",
    "    print(line)\n",
    "\n",
    "print(\"For loop version:\")\n",
    "for line in vertebral_data_split2[:5]:\n",
    "    print(line)\n",
    "\n",
    "print(\"Are they the same:\",vertebral_data_split1 == vertebral_data_split2)"
   ]
  },
  {
   "cell_type": "code",
   "execution_count": 66,
   "metadata": {},
   "outputs": [
    {
     "name": "stdout",
     "output_type": "stream",
     "text": [
      "List comprehension version:\n",
      "[5.1, 3.5, 1.4, 0.2]\n",
      "[4.9, 3.0, 1.4, 0.2]\n",
      "[4.7, 3.2, 1.3, 0.2]\n",
      "[4.6, 3.1, 1.5, 0.2]\n",
      "[5.0, 3.6, 1.4, 0.2]\n",
      "For loop version:\n",
      "[5.1, 3.5, 1.4, 0.2]\n",
      "[4.9, 3.0, 1.4, 0.2]\n",
      "[4.7, 3.2, 1.3, 0.2]\n",
      "[4.6, 3.1, 1.5, 0.2]\n",
      "[5.0, 3.6, 1.4, 0.2]\n"
     ]
    }
   ],
   "source": [
    "#3rd bullet in exercises\n",
    "#list comprehension\n",
    "iris_data_numbers_only1 = [[float(val) for val in line.split(\",\")[:-1]] for line in iris_data]\n",
    "\n",
    "#for loop\n",
    "iris_data_numbers_only2 = []\n",
    "for line in iris_data:\n",
    "    split_line_numbers_only = line.split(\",\")[:-1]\n",
    "    converted_numbers = [float(num) for num in split_line_numbers_only]\n",
    "    iris_data_numbers_only2.append(converted_numbers)\n",
    "    \n",
    "print(\"List comprehension version:\")\n",
    "for line in iris_data_numbers_only1[:5]:\n",
    "    print(line)\n",
    "\n",
    "print(\"For loop version:\")\n",
    "for line in iris_data_numbers_only2[:5]:\n",
    "    print(line)"
   ]
  },
  {
   "cell_type": "markdown",
   "metadata": {},
   "source": [
    "Awesome, that's all we have for today. Except...did you finish the **Python** prework?\n",
    "\n",
    "If not:\n",
    "\n",
    "* head to [learn python the hard way](http://learnpythonthehardway.org/book/) and do all of the exercises you havent done.\n",
    "* get more Python practice at all of these sites:\n",
    "    * [Codecademy's Python course](http://www.codecademy.com/en/tracks/python): Good beginner material, including tons of in-browser exercises.\n",
    "    * [DataQuest](https://dataquest.io/): Similar interface to Codecademy, but focused on teaching Python in the     context of data science.\n",
    "    * [Google's Python Class](https://developers.google.com/edu/python/): Slightly more advanced, including hours of useful lecture videos and downloadable exercises (with solutions).\n",
    "    * [A Crash Course in Python for Scientists](http://nbviewer.ipython.org/gist/rpmuller/5920182): Read through the Overview section for a quick introduction to Python.\n",
    "    * [Python for Informatics](http://www.pythonlearn.com/book.php): A very beginner-oriented book, with associated [slides](https://drive.google.com/folderview?id=0B7X1ycQalUnyal9yeUx3VW81VDg&usp=sharing) and [videos](https://www.youtube.com/playlist?list=PLlRFEj9H3Oj4JXIwMwN1_ss1Tk8wZShEJ).\n",
    "    * [Python Tutor](http://pythontutor.com/): Allows you to visualize the execution of Python code.\n",
    "\n"
   ]
  }
 ],
 "metadata": {
  "kernelspec": {
   "display_name": "Python 2",
   "language": "python",
   "name": "python2"
  },
  "language_info": {
   "codemirror_mode": {
    "name": "ipython",
    "version": 3
   },
   "file_extension": ".py",
   "mimetype": "text/x-python",
   "name": "python",
   "nbconvert_exporter": "python",
   "pygments_lexer": "ipython3",
   "version": "3.7.3"
  }
 },
 "nbformat": 4,
 "nbformat_minor": 1
}
