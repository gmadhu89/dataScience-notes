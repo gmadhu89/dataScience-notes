{
 "cells": [
  {
   "cell_type": "markdown",
   "metadata": {},
   "source": [
    "# OH GOD WHAT NOW? \n",
    "# or \n",
    "# Data Science Topics I Didn't Cover and Where To Go From Here\n"
   ]
  },
  {
   "cell_type": "markdown",
   "metadata": {},
   "source": [
    "## API Example\n",
    "\n",
    "Let's say we want to extract some data from some api, like the google maps api. You will need several components for this process to work:\n",
    "\n",
    "1. A library that can handle and process requests to the api (we will use `requests`)\n",
    "2. A way to convert the data we get into a dictionary (since the json object itself is a string)\n",
    "3. A way to convert the json object into a dataframe\n",
    "\n",
    "Lets start by importing what we need:"
   ]
  },
  {
   "cell_type": "code",
   "execution_count": 1,
   "metadata": {},
   "outputs": [],
   "source": [
    "import requests\n",
    "from pandas.io.json import json_normalize"
   ]
  },
  {
   "cell_type": "markdown",
   "metadata": {},
   "source": [
    "The example I will show you involves an api that doesnt require any keys (most api's require some authentication, but the iss position api does not).\n",
    "\n",
    "This api simply returns the current lat/long coordinates of the International Space Station:"
   ]
  },
  {
   "cell_type": "code",
   "execution_count": 13,
   "metadata": {},
   "outputs": [],
   "source": [
    "url = \"http://api.open-notify.org/iss-now.json\"\n",
    "my_r = requests.get(url)"
   ]
  },
  {
   "cell_type": "code",
   "execution_count": 14,
   "metadata": {},
   "outputs": [
    {
     "data": {
      "text/plain": [
       "{'iss_position': {'latitude': '-14.2017', 'longitude': '116.2056'},\n",
       " 'timestamp': 1557625551,\n",
       " 'message': 'success'}"
      ]
     },
     "execution_count": 14,
     "metadata": {},
     "output_type": "execute_result"
    }
   ],
   "source": [
    "my_r.json()"
   ]
  },
  {
   "cell_type": "code",
   "execution_count": 15,
   "metadata": {},
   "outputs": [
    {
     "data": {
      "text/plain": [
       "dict_keys(['iss_position', 'timestamp', 'message'])"
      ]
     },
     "execution_count": 15,
     "metadata": {},
     "output_type": "execute_result"
    }
   ],
   "source": [
    "my_r.json().keys()"
   ]
  },
  {
   "cell_type": "code",
   "execution_count": 16,
   "metadata": {},
   "outputs": [
    {
     "data": {
      "text/plain": [
       "{'latitude': '-14.2017', 'longitude': '116.2056'}"
      ]
     },
     "execution_count": 16,
     "metadata": {},
     "output_type": "execute_result"
    }
   ],
   "source": [
    "my_r.json()[\"iss_position\"]"
   ]
  },
  {
   "cell_type": "code",
   "execution_count": 17,
   "metadata": {},
   "outputs": [
    {
     "data": {
      "text/html": [
       "<div>\n",
       "<style scoped>\n",
       "    .dataframe tbody tr th:only-of-type {\n",
       "        vertical-align: middle;\n",
       "    }\n",
       "\n",
       "    .dataframe tbody tr th {\n",
       "        vertical-align: top;\n",
       "    }\n",
       "\n",
       "    .dataframe thead th {\n",
       "        text-align: right;\n",
       "    }\n",
       "</style>\n",
       "<table border=\"1\" class=\"dataframe\">\n",
       "  <thead>\n",
       "    <tr style=\"text-align: right;\">\n",
       "      <th></th>\n",
       "      <th>latitude</th>\n",
       "      <th>longitude</th>\n",
       "    </tr>\n",
       "  </thead>\n",
       "  <tbody>\n",
       "    <tr>\n",
       "      <th>0</th>\n",
       "      <td>-14.2017</td>\n",
       "      <td>116.2056</td>\n",
       "    </tr>\n",
       "  </tbody>\n",
       "</table>\n",
       "</div>"
      ],
      "text/plain": [
       "   latitude longitude\n",
       "0  -14.2017  116.2056"
      ]
     },
     "execution_count": 17,
     "metadata": {},
     "output_type": "execute_result"
    }
   ],
   "source": [
    "json_normalize(my_r.json()[\"iss_position\"])"
   ]
  },
  {
   "cell_type": "markdown",
   "metadata": {},
   "source": [
    "## Basic Scraping Using BeautifulSoup\n",
    "\n",
    "BeautifulSoup is a web scraping library that allows you to parse webpages and extract useful data from html (the format in which all webpages are displayed on the web).\n",
    "\n",
    "Let's use `BeautifulSoup` on an example website (the reddit front page):"
   ]
  },
  {
   "cell_type": "code",
   "execution_count": 18,
   "metadata": {},
   "outputs": [],
   "source": [
    "from bs4 import BeautifulSoup"
   ]
  },
  {
   "cell_type": "markdown",
   "metadata": {},
   "source": [
    "First, we request the webpage and extract the content:"
   ]
  },
  {
   "cell_type": "code",
   "execution_count": 19,
   "metadata": {},
   "outputs": [],
   "source": [
    "a_website = requests.get(\"http://google.com\")\n",
    "data = BeautifulSoup(a_website.content, \"html5lib\")"
   ]
  },
  {
   "cell_type": "markdown",
   "metadata": {},
   "source": [
    "Let's take a look at what our data is:"
   ]
  },
  {
   "cell_type": "code",
   "execution_count": 20,
   "metadata": {},
   "outputs": [
    {
     "data": {
      "text/plain": [
       "<!DOCTYPE html>\n",
       "<html itemscope=\"\" itemtype=\"http://schema.org/WebPage\" lang=\"en\"><head><meta content=\"Search the world's information, including webpages, images, videos and more. Google has many special features to help you find exactly what you're looking for.\" name=\"description\"/><meta content=\"noodp\" name=\"robots\"/><meta content=\"text/html; charset=utf-8\" http-equiv=\"Content-Type\"/><meta content=\"/images/branding/googleg/1x/googleg_standard_color_128dp.png\" itemprop=\"image\"/><title>Google</title><script nonce=\"ogJjaanagrbnOkSuhB9uPg==\">(function(){window.google={kEI:'33rXXLfzIeHB_Qaw6J7IDQ',kEXPI:'0,1353747,57,1957,2423,698,527,591,139,224,509,19,1047,1257,824,1070,58,320,207,145,872,535,70,31,69,338,2332552,329529,1294,12383,4855,22723,9969,15247,867,12163,5281,1100,3335,2,2,6801,363,3320,1262,4243,224,2212,266,4203,906,573,835,284,2,579,727,2432,58,2,1,3,1297,4323,3700,1267,774,2250,1407,3337,1146,5,2,2,1963,2595,3601,669,1050,1808,1397,81,7,1,2,488,620,29,1395,978,2632,4138,1161,1288,2,3107,900,796,101,1119,38,920,753,120,1217,1212,152,1611,2736,1558,1503,2,631,1137,2,1423,2,4,2,670,44,1767,84,2807,124,527,2081,12,620,804,294,41,1089,656,20,318,1565,416,1389,777,1,2,366,1017,300,486,219,756,98,392,30,229,170,376,1,615,509,598,10,168,8,109,187,831,235,443,367,450,174,563,404,48,553,11,14,10,574,395,693,836,456,518,9,25,177,167,156,5,1165,87,66,91,141,28,215,299,92,1,231,165,28,110,422,261,16,93,169,105,24,227,39,18,38,158,169,276,1454,328,71,15,10,127,1,489,22,53,267,818,260,661,526,1,3,7,7,1,2,502,175,467,11,96,241,512,42,605,469,170,128,12,184,7,537,1,206,41,77,36,173,27,1038,464,389,1593,37,296,170,1,5935860,2920,20,5997495,42,2799863,4,1572,549,333,444,1,2,80,1,900,583,2,311,1,8,1,2,2132,1,1,1,1,1,414,1,748,141,785,3,7,10,553,1,2047,7,21,6,2,8,1,1,14,17,1,14,5,4,22304990',authuser:0,kscs:'c9c918f0_33rXXLfzIeHB_Qaw6J7IDQ',kGL:'US'};google.sn='webhp';google.kHL='en';})();(function(){google.lc=[];google.li=0;google.getEI=function(a){for(var b;a&&(!a.getAttribute||!(b=a.getAttribute(\"eid\")));)a=a.parentNode;return b||google.kEI};google.getLEI=function(a){for(var b=null;a&&(!a.getAttribute||!(b=a.getAttribute(\"leid\")));)a=a.parentNode;return b};google.https=function(){return\"https:\"==window.location.protocol};google.ml=function(){return null};google.time=function(){return(new Date).getTime()};google.log=function(a,b,e,c,g){if(a=google.logUrl(a,b,e,c,g)){b=new Image;var d=google.lc,f=google.li;d[f]=b;b.onerror=b.onload=b.onabort=function(){delete d[f]};google.vel&&google.vel.lu&&google.vel.lu(a);b.src=a;google.li=f+1}};google.logUrl=function(a,b,e,c,g){var d=\"\",f=google.ls||\"\";e||-1!=b.search(\"&ei=\")||(d=\"&ei=\"+google.getEI(c),-1==b.search(\"&lei=\")&&(c=google.getLEI(c))&&(d+=\"&lei=\"+c));c=\"\";!e&&google.cshid&&-1==b.search(\"&cshid=\")&&\"slh\"!=a&&(c=\"&cshid=\"+google.cshid);a=e||\"/\"+(g||\"gen_204\")+\"?atyp=i&ct=\"+a+\"&cad=\"+b+d+f+\"&zx=\"+google.time()+c;/^http:/i.test(a)&&google.https()&&(google.ml(Error(\"a\"),!1,{src:a,glmm:1}),a=\"\");return a};}).call(this);(function(){google.y={};google.x=function(a,b){if(a)var c=a.id;else{do c=Math.random();while(google.y[c])}google.y[c]=[a,b];return!1};google.lm=[];google.plm=function(a){google.lm.push.apply(google.lm,a)};google.lq=[];google.load=function(a,b,c){google.lq.push([[a],b,c])};google.loadAll=function(a,b){google.lq.push([a,b])};}).call(this);google.f={};var a=window.location,b=a.href.indexOf(\"#\");if(0<=b){var c=a.href.substring(b+1);/(^|&)q=/.test(c)&&-1==c.indexOf(\"#\")&&a.replace(\"/search?\"+c.replace(/(^|&)fp=[^&]*/g,\"\")+\"&cad=h\")};</script><style>#gbar,#guser{font-size:13px;padding-top:1px !important;}#gbar{height:22px}#guser{padding-bottom:7px !important;text-align:right}.gbh,.gbd{border-top:1px solid #c9d7f1;font-size:1px}.gbh{height:0;position:absolute;top:24px;width:100%}@media all{.gb1{height:22px;margin-right:.5em;vertical-align:top}#gbar{float:left}}a.gb1,a.gb4{text-decoration:underline !important}a.gb1,a.gb4{color:#00c !important}.gbi .gb4{color:#dd8e27 !important}.gbf .gb4{color:#900 !important}\n",
       "</style><style>body,td,a,p,.h{font-family:arial,sans-serif}body{margin:0;overflow-y:scroll}#gog{padding:3px 8px 0}td{line-height:.8em}.gac_m td{line-height:17px}form{margin-bottom:20px}.h{color:#36c}.q{color:#00c}.ts td{padding:0}.ts{border-collapse:collapse}em{font-weight:bold;font-style:normal}.lst{height:25px;width:496px}.gsfi,.lst{font:18px arial,sans-serif}.gsfs{font:17px arial,sans-serif}.ds{display:inline-box;display:inline-block;margin:3px 0 4px;margin-left:4px}input{font-family:inherit}a.gb1,a.gb2,a.gb3,a.gb4{color:#11c !important}body{background:#fff;color:black}a{color:#11c;text-decoration:none}a:hover,a:active{text-decoration:underline}.fl a{color:#36c}a:visited{color:#551a8b}a.gb1,a.gb4{text-decoration:underline}a.gb3:hover{text-decoration:none}#ghead a.gb2:hover{color:#fff !important}.sblc{padding-top:5px}.sblc a{display:block;margin:2px 0;margin-left:13px;font-size:11px}.lsbb{background:#eee;border:solid 1px;border-color:#ccc #999 #999 #ccc;height:30px}.lsbb{display:block}.ftl,#fll a{display:inline-block;margin:0 12px}.lsb{background:url(/images/nav_logo229.png) 0 -261px repeat-x;border:none;color:#000;cursor:pointer;height:30px;margin:0;outline:0;font:15px arial,sans-serif;vertical-align:top}.lsb:active{background:#ccc}.lst:focus{outline:none}</style><script nonce=\"ogJjaanagrbnOkSuhB9uPg==\"></script></head><body bgcolor=\"#fff\"><script nonce=\"ogJjaanagrbnOkSuhB9uPg==\">(function(){var src='/images/nav_logo229.png';var iesg=false;document.body.onload = function(){window.n && window.n();if (document.images){new Image().src=src;}\n",
       "if (!iesg){document.f&&document.f.q.focus();document.gbqf&&document.gbqf.q.focus();}\n",
       "}\n",
       "})();</script><div id=\"mngb\"> <div id=\"gbar\"><nobr><b class=\"gb1\">Search</b> <a class=\"gb1\" href=\"http://www.google.com/imghp?hl=en&amp;tab=wi\">Images</a> <a class=\"gb1\" href=\"http://maps.google.com/maps?hl=en&amp;tab=wl\">Maps</a> <a class=\"gb1\" href=\"https://play.google.com/?hl=en&amp;tab=w8\">Play</a> <a class=\"gb1\" href=\"http://www.youtube.com/?gl=US&amp;tab=w1\">YouTube</a> <a class=\"gb1\" href=\"http://news.google.com/nwshp?hl=en&amp;tab=wn\">News</a> <a class=\"gb1\" href=\"https://mail.google.com/mail/?tab=wm\">Gmail</a> <a class=\"gb1\" href=\"https://drive.google.com/?tab=wo\">Drive</a> <a class=\"gb1\" href=\"https://www.google.com/intl/en/about/products?tab=wh\" style=\"text-decoration:none\"><u>More</u> »</a></nobr></div><div id=\"guser\" width=\"100%\"><nobr><span class=\"gbi\" id=\"gbn\"></span><span class=\"gbf\" id=\"gbf\"></span><span id=\"gbe\"></span><a class=\"gb4\" href=\"http://www.google.com/history/optout?hl=en\">Web History</a> | <a class=\"gb4\" href=\"/preferences?hl=en\">Settings</a> | <a class=\"gb4\" href=\"https://accounts.google.com/ServiceLogin?hl=en&amp;passive=true&amp;continue=http://www.google.com/\" id=\"gb_70\" target=\"_top\">Sign in</a></nobr></div><div class=\"gbh\" style=\"left:0\"></div><div class=\"gbh\" style=\"right:0\"></div> </div><center><br clear=\"all\" id=\"lgpd\"/><div id=\"lga\"><img alt=\"Google\" height=\"92\" id=\"hplogo\" onload=\"window.lol&amp;&amp;lol()\" src=\"/images/branding/googlelogo/1x/googlelogo_white_background_color_272x92dp.png\" style=\"padding:28px 0 14px\" width=\"272\"/><br/><br/></div><form action=\"/search\" name=\"f\"><table cellpadding=\"0\" cellspacing=\"0\"><tbody><tr valign=\"top\"><td width=\"25%\"> </td><td align=\"center\" nowrap=\"\"><input name=\"ie\" type=\"hidden\" value=\"ISO-8859-1\"/><input name=\"hl\" type=\"hidden\" value=\"en\"/><input name=\"source\" type=\"hidden\" value=\"hp\"/><input name=\"biw\" type=\"hidden\"/><input name=\"bih\" type=\"hidden\"/><div class=\"ds\" style=\"height:32px;margin:4px 0\"><input autocomplete=\"off\" class=\"lst\" maxlength=\"2048\" name=\"q\" size=\"57\" style=\"color:#000;margin:0;padding:5px 8px 0 6px;vertical-align:top\" title=\"Google Search\" value=\"\"/></div><br style=\"line-height:0\"/><span class=\"ds\"><span class=\"lsbb\"><input class=\"lsb\" name=\"btnG\" type=\"submit\" value=\"Google Search\"/></span></span><span class=\"ds\"><span class=\"lsbb\"><input class=\"lsb\" name=\"btnI\" onclick=\"if(this.form.q.value)this.checked=1; else top.location='/doodles/'\" type=\"submit\" value=\"I'm Feeling Lucky\"/></span></span></td><td align=\"left\" class=\"fl sblc\" nowrap=\"\" width=\"25%\"><a href=\"/advanced_search?hl=en&amp;authuser=0\">Advanced search</a><a href=\"/language_tools?hl=en&amp;authuser=0\">Language tools</a></td></tr></tbody></table><input id=\"gbv\" name=\"gbv\" type=\"hidden\" value=\"1\"/><script nonce=\"ogJjaanagrbnOkSuhB9uPg==\">(function(){var a,b=\"1\";if(document&&document.getElementById)if(\"undefined\"!=typeof XMLHttpRequest)b=\"2\";else if(\"undefined\"!=typeof ActiveXObject){var c,d,e=[\"MSXML2.XMLHTTP.6.0\",\"MSXML2.XMLHTTP.3.0\",\"MSXML2.XMLHTTP\",\"Microsoft.XMLHTTP\"];for(c=0;d=e[c++];)try{new ActiveXObject(d),b=\"2\"}catch(h){}}a=b;if(\"2\"==a&&-1==location.search.indexOf(\"&gbv=2\")){var f=google.gbvu,g=document.getElementById(\"gbv\");g&&(g.value=a);f&&window.setTimeout(function(){location.href=f},0)};}).call(this);</script></form><div id=\"gac_scont\"></div><div style=\"font-size:83%;min-height:3.5em\"><br/></div><span id=\"footer\"><div style=\"font-size:10pt\"><div id=\"fll\" style=\"margin:19px auto;text-align:center\"><a href=\"/intl/en/ads/\">Advertising�Programs</a><a href=\"/services/\">Business Solutions</a><a href=\"/intl/en/about.html\">About Google</a></div></div><p style=\"color:#767676;font-size:8pt\">© 2019 - <a href=\"/intl/en/policies/privacy/\">Privacy</a> - <a href=\"/intl/en/policies/terms/\">Terms</a></p></span></center><script nonce=\"ogJjaanagrbnOkSuhB9uPg==\">(function(){window.google.cdo={height:0,width:0};(function(){var a=window.innerWidth,b=window.innerHeight;if(!a||!b){var c=window.document,d=\"CSS1Compat\"==c.compatMode?c.documentElement:c.body;a=d.clientWidth;b=d.clientHeight}a&&b&&(a!=google.cdo.width||b!=google.cdo.height)&&google.log(\"\",\"\",\"/client_204?&atyp=i&biw=\"+a+\"&bih=\"+b+\"&ei=\"+google.kEI);}).call(this);})();(function(){var u='/xjs/_/js/k\\x3dxjs.hp.en_US.5NmAjqLFUZo.O/m\\x3dsb_he,d/am\\x3dYFAL/rt\\x3dj/d\\x3d1/rs\\x3dACT90oF0xMXsrKjVhGEEn35ppLFR4bDmFw';setTimeout(function(){var a=document.createElement(\"script\");a.src=u;google.timers&&google.timers.load&&google.tick&&google.tick(\"load\",\"xjsls\");document.body.appendChild(a)},0);})();(function(){window.google.xjsu='/xjs/_/js/k\\x3dxjs.hp.en_US.5NmAjqLFUZo.O/m\\x3dsb_he,d/am\\x3dYFAL/rt\\x3dj/d\\x3d1/rs\\x3dACT90oF0xMXsrKjVhGEEn35ppLFR4bDmFw';})();function _DumpException(e){throw e;}\n",
       "function _F_installCss(c){}\n",
       "(function(){google.spjs=false;})();google.sm=1;(function(){var pmc='{\\x22Qnk92g\\x22:{},\\x22RWGcrA\\x22:{},\\x22U5B21g\\x22:{},\\x22YFCs/g\\x22:{},\\x22ZI/YVQ\\x22:{},\\x22d\\x22:{},\\x22sb_he\\x22:{\\x22agen\\x22:true,\\x22cgen\\x22:true,\\x22client\\x22:\\x22heirloom-hp\\x22,\\x22dh\\x22:true,\\x22dhqt\\x22:true,\\x22ds\\x22:\\x22\\x22,\\x22ffql\\x22:\\x22en\\x22,\\x22fl\\x22:true,\\x22host\\x22:\\x22google.com\\x22,\\x22isbh\\x22:28,\\x22jsonp\\x22:true,\\x22msgs\\x22:{\\x22cibl\\x22:\\x22Clear Search\\x22,\\x22dym\\x22:\\x22Did you mean:\\x22,\\x22lcky\\x22:\\x22I\\\\u0026#39;m Feeling Lucky\\x22,\\x22lml\\x22:\\x22Learn more\\x22,\\x22oskt\\x22:\\x22Input tools\\x22,\\x22psrc\\x22:\\x22This search was removed from your \\\\u003Ca href\\x3d\\\\\\x22/history\\\\\\x22\\\\u003EWeb History\\\\u003C/a\\\\u003E\\x22,\\x22psrl\\x22:\\x22Remove\\x22,\\x22sbit\\x22:\\x22Search by image\\x22,\\x22srch\\x22:\\x22Google Search\\x22},\\x22ovr\\x22:{},\\x22pq\\x22:\\x22\\x22,\\x22refpd\\x22:true,\\x22rfs\\x22:[],\\x22sbpl\\x22:24,\\x22sbpr\\x22:24,\\x22scd\\x22:10,\\x22sce\\x22:5,\\x22stok\\x22:\\x22Etq_V4PLEqaAxAgyk6AKRJm1_gY\\x22,\\x22uhde\\x22:false}}';google.pmc=JSON.parse(pmc);})();</script>        </body></html>"
      ]
     },
     "execution_count": 20,
     "metadata": {},
     "output_type": "execute_result"
    }
   ],
   "source": [
    "data"
   ]
  },
  {
   "cell_type": "code",
   "execution_count": 21,
   "metadata": {},
   "outputs": [],
   "source": [
    "link_list = data.find_all('a')"
   ]
  },
  {
   "cell_type": "markdown",
   "metadata": {},
   "source": [
    "The data is the raw html from the website we just obtained. Now, what if we could extract specific things from that html, like all of the other webpages it links:"
   ]
  },
  {
   "cell_type": "code",
   "execution_count": 22,
   "metadata": {},
   "outputs": [
    {
     "name": "stdout",
     "output_type": "stream",
     "text": [
      "http://www.google.com/imghp?hl=en&tab=wi\n",
      "http://maps.google.com/maps?hl=en&tab=wl\n",
      "https://play.google.com/?hl=en&tab=w8\n",
      "http://www.youtube.com/?gl=US&tab=w1\n",
      "http://news.google.com/nwshp?hl=en&tab=wn\n",
      "https://mail.google.com/mail/?tab=wm\n",
      "https://drive.google.com/?tab=wo\n",
      "https://www.google.com/intl/en/about/products?tab=wh\n",
      "http://www.google.com/history/optout?hl=en\n",
      "/preferences?hl=en\n",
      "https://accounts.google.com/ServiceLogin?hl=en&passive=true&continue=http://www.google.com/\n",
      "/advanced_search?hl=en&authuser=0\n",
      "/language_tools?hl=en&authuser=0\n",
      "/intl/en/ads/\n",
      "/services/\n",
      "/intl/en/about.html\n",
      "/intl/en/policies/privacy/\n",
      "/intl/en/policies/terms/\n"
     ]
    }
   ],
   "source": [
    "for links in data.find_all('a'):\n",
    "    print (links.get('href'))"
   ]
  },
  {
   "cell_type": "code",
   "execution_count": 23,
   "metadata": {},
   "outputs": [
    {
     "data": {
      "text/plain": [
       "[<a class=\"gb1\" href=\"http://www.google.com/imghp?hl=en&amp;tab=wi\">Images</a>,\n",
       " <a class=\"gb1\" href=\"http://maps.google.com/maps?hl=en&amp;tab=wl\">Maps</a>,\n",
       " <a class=\"gb1\" href=\"https://play.google.com/?hl=en&amp;tab=w8\">Play</a>,\n",
       " <a class=\"gb1\" href=\"http://www.youtube.com/?gl=US&amp;tab=w1\">YouTube</a>,\n",
       " <a class=\"gb1\" href=\"http://news.google.com/nwshp?hl=en&amp;tab=wn\">News</a>,\n",
       " <a class=\"gb1\" href=\"https://mail.google.com/mail/?tab=wm\">Gmail</a>,\n",
       " <a class=\"gb1\" href=\"https://drive.google.com/?tab=wo\">Drive</a>,\n",
       " <a class=\"gb1\" href=\"https://www.google.com/intl/en/about/products?tab=wh\" style=\"text-decoration:none\"><u>More</u> »</a>,\n",
       " <a class=\"gb4\" href=\"http://www.google.com/history/optout?hl=en\">Web History</a>,\n",
       " <a class=\"gb4\" href=\"/preferences?hl=en\">Settings</a>,\n",
       " <a class=\"gb4\" href=\"https://accounts.google.com/ServiceLogin?hl=en&amp;passive=true&amp;continue=http://www.google.com/\" id=\"gb_70\" target=\"_top\">Sign in</a>,\n",
       " <a href=\"/advanced_search?hl=en&amp;authuser=0\">Advanced search</a>,\n",
       " <a href=\"/language_tools?hl=en&amp;authuser=0\">Language tools</a>,\n",
       " <a href=\"/intl/en/ads/\">Advertising�Programs</a>,\n",
       " <a href=\"/services/\">Business Solutions</a>,\n",
       " <a href=\"/intl/en/about.html\">About Google</a>,\n",
       " <a href=\"/intl/en/policies/privacy/\">Privacy</a>,\n",
       " <a href=\"/intl/en/policies/terms/\">Terms</a>]"
      ]
     },
     "execution_count": 23,
     "metadata": {},
     "output_type": "execute_result"
    }
   ],
   "source": [
    "data.body.find_all(\"a\")"
   ]
  },
  {
   "cell_type": "markdown",
   "metadata": {},
   "source": [
    "## Recommendation Engines (or Recommendation Systems)\n",
    "\n",
    "![recommendation engine example](./images/recommendation_engine.png)\n",
    "\n",
    "### Problem: How can we recommend the \"most useful\" or \"most likely to be consumed and enjoyed\" items (books/movies/songs/media/clothing/investment products/etc.) to people?\n",
    "\n",
    "### 2 Basic Types of Recommendation Engines:\n",
    "\n",
    "### **Content-based:** Use the properties of items to recommend \"similar\" items (PANDORA DOES THIS)\n",
    "\n",
    "### **Collaborative:** Use the user's ratings on items and the ratings of others on those same items to recommend other items that \"similar\" users have also given high ratings (AMAZON/NETFLIX DO THIS)\n",
    "\n",
    "### Are there Python libraries for this?\n",
    "\n",
    "### [Turi](https://turi.com/index.html) has a really easy to use recommendation engine module, but its NOT FREE (BOO) AND WAS ALSO RECENTLY ACQUIRED BY APPLE\n",
    "### In general, recommenders are built at scale using other languages (Python has pretty terrible support for recommendation engines/systems)"
   ]
  },
  {
   "cell_type": "markdown",
   "metadata": {},
   "source": [
    "## Deep Learning\n",
    "\n",
    "### What is it?\n",
    "\n",
    "### A really fancy supervised classification/regression method\n",
    "\n",
    "![artificial neural network example](./images/artificial_neural_network.png)\n",
    "\n",
    "### What is it used on? Datasets that are really really big that require learning really really complicated representations:\n",
    "\n",
    "### Pictures/Videos, Text:\n",
    "\n",
    "![facial recognition deep learning example](./images/calista-deepface.png)\n",
    "\n",
    "### What is it used for? Making object detection and labeling problems/classifying and rating text (sentiment analysis), low-level content \"understanding\"\n",
    "\n",
    "### Are there Python libraries for this?\n",
    "\n",
    "### [tensorflow](https://www.tensorflow.org) is google's new deep learning package. It just came out but everyone is going bonkers over it because GOOGLE.\n",
    "### [theano](http://deeplearning.net/software/theano/) this is much more established, works very well with both your CPU and your graphics card (whaaaaat??)\n",
    "### [keras](http://keras.io) is another Python library that you can use to build deep learning models and hook into either theano or tensorflow. "
   ]
  },
  {
   "cell_type": "markdown",
   "metadata": {},
   "source": [
    "## Natural Language Processing\n",
    "\n",
    "### How can I use machine learning when I have freeform text instead of a matrix with rows and columns? How can I cluster texts? How can I try to model useful things from text generally?\n",
    "\n",
    "### Are there Python libraries for this?\n",
    "### [nltk](http://www.nltk.org/) is the grandaddy NLP library in Python, but its kinda fallen behind a bit\n",
    "### [spacy](https://spacy.io/) is a newer, more modern NLP library\n",
    "### [gensim](https://radimrehurek.com/gensim/index.html) is a very cool new library that allows you to learn word vector representations from text (so you can create text topics and other really cool stuff)\n",
    "\n",
    "You can even do some basic NLP transformations in Scikit-learn:\n",
    "\n",
    "We will go over 2 simple transformations to convert text into vectors:\n",
    "\n",
    "1. **CountVectorizer**: Really large-scale \"One-hot-encoding\" across all tokens in the text\n",
    "2. **TF-IDF**: Term frequency/Inverse Document Frequency - label documents according to the tokens that best distinguish it. Tokens that only appear in this document relative to the other documents in your dataset have high values, tokens that appear frequently across all documents get low values.\n",
    "\n",
    "**Both of these approaches completely ignore word order and context, simply convert text into a dictionary of values.**\n",
    "\n",
    "A token can be anything: a word, a character, a continuous group of 2,3,4 words, etc."
   ]
  },
  {
   "cell_type": "code",
   "execution_count": 24,
   "metadata": {},
   "outputs": [],
   "source": [
    "import pandas as pd\n",
    "from sklearn.feature_extraction.text import CountVectorizer, TfidfVectorizer\n",
    "import numpy as np"
   ]
  },
  {
   "cell_type": "code",
   "execution_count": 25,
   "metadata": {},
   "outputs": [],
   "source": [
    "some_text = pd.DataFrame([[\"yowza thats awesome\"],[\"Yowza yowza that is an awesome sauce\"]],columns = [\"text\"])"
   ]
  },
  {
   "cell_type": "code",
   "execution_count": 26,
   "metadata": {},
   "outputs": [
    {
     "data": {
      "text/html": [
       "<div>\n",
       "<style scoped>\n",
       "    .dataframe tbody tr th:only-of-type {\n",
       "        vertical-align: middle;\n",
       "    }\n",
       "\n",
       "    .dataframe tbody tr th {\n",
       "        vertical-align: top;\n",
       "    }\n",
       "\n",
       "    .dataframe thead th {\n",
       "        text-align: right;\n",
       "    }\n",
       "</style>\n",
       "<table border=\"1\" class=\"dataframe\">\n",
       "  <thead>\n",
       "    <tr style=\"text-align: right;\">\n",
       "      <th></th>\n",
       "      <th>text</th>\n",
       "    </tr>\n",
       "  </thead>\n",
       "  <tbody>\n",
       "    <tr>\n",
       "      <th>0</th>\n",
       "      <td>yowza thats awesome</td>\n",
       "    </tr>\n",
       "    <tr>\n",
       "      <th>1</th>\n",
       "      <td>Yowza yowza that is an awesome sauce</td>\n",
       "    </tr>\n",
       "  </tbody>\n",
       "</table>\n",
       "</div>"
      ],
      "text/plain": [
       "                                   text\n",
       "0                   yowza thats awesome\n",
       "1  Yowza yowza that is an awesome sauce"
      ]
     },
     "execution_count": 26,
     "metadata": {},
     "output_type": "execute_result"
    }
   ],
   "source": [
    "some_text"
   ]
  },
  {
   "cell_type": "markdown",
   "metadata": {},
   "source": [
    "## Count Vectorizer\n",
    "\n",
    "Think of it as large-scale one-hot encoding with some catches:"
   ]
  },
  {
   "cell_type": "code",
   "execution_count": 27,
   "metadata": {},
   "outputs": [],
   "source": [
    "vectorizer = CountVectorizer(ngram_range=(1,6))#stop_words=\"english\",stop_words=\"english\")\n",
    "transformed_text = vectorizer.fit_transform(some_text.text)"
   ]
  },
  {
   "cell_type": "code",
   "execution_count": 28,
   "metadata": {},
   "outputs": [
    {
     "data": {
      "text/html": [
       "<div>\n",
       "<style scoped>\n",
       "    .dataframe tbody tr th:only-of-type {\n",
       "        vertical-align: middle;\n",
       "    }\n",
       "\n",
       "    .dataframe tbody tr th {\n",
       "        vertical-align: top;\n",
       "    }\n",
       "\n",
       "    .dataframe thead th {\n",
       "        text-align: right;\n",
       "    }\n",
       "</style>\n",
       "<table border=\"1\" class=\"dataframe\">\n",
       "  <thead>\n",
       "    <tr style=\"text-align: right;\">\n",
       "      <th></th>\n",
       "      <th>an</th>\n",
       "      <th>an awesome</th>\n",
       "      <th>an awesome sauce</th>\n",
       "      <th>awesome</th>\n",
       "      <th>awesome sauce</th>\n",
       "      <th>is</th>\n",
       "      <th>is an</th>\n",
       "      <th>is an awesome</th>\n",
       "      <th>is an awesome sauce</th>\n",
       "      <th>sauce</th>\n",
       "      <th>...</th>\n",
       "      <th>yowza that is an</th>\n",
       "      <th>yowza that is an awesome</th>\n",
       "      <th>yowza that is an awesome sauce</th>\n",
       "      <th>yowza thats</th>\n",
       "      <th>yowza thats awesome</th>\n",
       "      <th>yowza yowza</th>\n",
       "      <th>yowza yowza that</th>\n",
       "      <th>yowza yowza that is</th>\n",
       "      <th>yowza yowza that is an</th>\n",
       "      <th>yowza yowza that is an awesome</th>\n",
       "    </tr>\n",
       "  </thead>\n",
       "  <tbody>\n",
       "    <tr>\n",
       "      <th>0</th>\n",
       "      <td>0</td>\n",
       "      <td>0</td>\n",
       "      <td>0</td>\n",
       "      <td>1</td>\n",
       "      <td>0</td>\n",
       "      <td>0</td>\n",
       "      <td>0</td>\n",
       "      <td>0</td>\n",
       "      <td>0</td>\n",
       "      <td>0</td>\n",
       "      <td>...</td>\n",
       "      <td>0</td>\n",
       "      <td>0</td>\n",
       "      <td>0</td>\n",
       "      <td>1</td>\n",
       "      <td>1</td>\n",
       "      <td>0</td>\n",
       "      <td>0</td>\n",
       "      <td>0</td>\n",
       "      <td>0</td>\n",
       "      <td>0</td>\n",
       "    </tr>\n",
       "    <tr>\n",
       "      <th>1</th>\n",
       "      <td>1</td>\n",
       "      <td>1</td>\n",
       "      <td>1</td>\n",
       "      <td>1</td>\n",
       "      <td>1</td>\n",
       "      <td>1</td>\n",
       "      <td>1</td>\n",
       "      <td>1</td>\n",
       "      <td>1</td>\n",
       "      <td>1</td>\n",
       "      <td>...</td>\n",
       "      <td>1</td>\n",
       "      <td>1</td>\n",
       "      <td>1</td>\n",
       "      <td>0</td>\n",
       "      <td>0</td>\n",
       "      <td>1</td>\n",
       "      <td>1</td>\n",
       "      <td>1</td>\n",
       "      <td>1</td>\n",
       "      <td>1</td>\n",
       "    </tr>\n",
       "  </tbody>\n",
       "</table>\n",
       "<p>2 rows × 30 columns</p>\n",
       "</div>"
      ],
      "text/plain": [
       "   an  an awesome  an awesome sauce  awesome  awesome sauce  is  is an  \\\n",
       "0   0           0                 0        1              0   0      0   \n",
       "1   1           1                 1        1              1   1      1   \n",
       "\n",
       "   is an awesome  is an awesome sauce  sauce  ...  yowza that is an  \\\n",
       "0              0                    0      0  ...                 0   \n",
       "1              1                    1      1  ...                 1   \n",
       "\n",
       "   yowza that is an awesome  yowza that is an awesome sauce  yowza thats  \\\n",
       "0                         0                               0            1   \n",
       "1                         1                               1            0   \n",
       "\n",
       "   yowza thats awesome  yowza yowza  yowza yowza that  yowza yowza that is  \\\n",
       "0                    1            0                 0                    0   \n",
       "1                    0            1                 1                    1   \n",
       "\n",
       "   yowza yowza that is an  yowza yowza that is an awesome  \n",
       "0                       0                               0  \n",
       "1                       1                               1  \n",
       "\n",
       "[2 rows x 30 columns]"
      ]
     },
     "execution_count": 28,
     "metadata": {},
     "output_type": "execute_result"
    }
   ],
   "source": [
    "pd.DataFrame(transformed_text.todense(),columns =vectorizer.get_feature_names())"
   ]
  },
  {
   "cell_type": "code",
   "execution_count": 29,
   "metadata": {},
   "outputs": [
    {
     "data": {
      "text/plain": [
       "['an',\n",
       " 'an awesome',\n",
       " 'an awesome sauce',\n",
       " 'awesome',\n",
       " 'awesome sauce',\n",
       " 'is',\n",
       " 'is an',\n",
       " 'is an awesome',\n",
       " 'is an awesome sauce',\n",
       " 'sauce',\n",
       " 'that',\n",
       " 'that is',\n",
       " 'that is an',\n",
       " 'that is an awesome',\n",
       " 'that is an awesome sauce',\n",
       " 'thats',\n",
       " 'thats awesome',\n",
       " 'yowza',\n",
       " 'yowza that',\n",
       " 'yowza that is',\n",
       " 'yowza that is an',\n",
       " 'yowza that is an awesome',\n",
       " 'yowza that is an awesome sauce',\n",
       " 'yowza thats',\n",
       " 'yowza thats awesome',\n",
       " 'yowza yowza',\n",
       " 'yowza yowza that',\n",
       " 'yowza yowza that is',\n",
       " 'yowza yowza that is an',\n",
       " 'yowza yowza that is an awesome']"
      ]
     },
     "execution_count": 29,
     "metadata": {},
     "output_type": "execute_result"
    }
   ],
   "source": [
    "vectorizer.get_feature_names()"
   ]
  },
  {
   "cell_type": "markdown",
   "metadata": {},
   "source": [
    "## TfidfVectorizer\n",
    "\n",
    "- This computes \"relative frequency\" that a word appears in a document compared to its frequency across all documents\n",
    "- Much more useful than \"term frequency\" for identifying \"important\" words in each document (high frequency in that document, low frequency in other documents). A term that appears across all documents is incredibly uninformative, a term that appears \n",
    "- Commonly used for search engine scoring, text summarization, document clustering until ~2013-2014."
   ]
  },
  {
   "cell_type": "code",
   "execution_count": 30,
   "metadata": {},
   "outputs": [
    {
     "data": {
      "text/html": [
       "<div>\n",
       "<style scoped>\n",
       "    .dataframe tbody tr th:only-of-type {\n",
       "        vertical-align: middle;\n",
       "    }\n",
       "\n",
       "    .dataframe tbody tr th {\n",
       "        vertical-align: top;\n",
       "    }\n",
       "\n",
       "    .dataframe thead th {\n",
       "        text-align: right;\n",
       "    }\n",
       "</style>\n",
       "<table border=\"1\" class=\"dataframe\">\n",
       "  <thead>\n",
       "    <tr style=\"text-align: right;\">\n",
       "      <th></th>\n",
       "      <th>an</th>\n",
       "      <th>an awesome</th>\n",
       "      <th>an awesome sauce</th>\n",
       "      <th>awesome</th>\n",
       "      <th>awesome sauce</th>\n",
       "      <th>is</th>\n",
       "      <th>is an</th>\n",
       "      <th>is an awesome</th>\n",
       "      <th>is an awesome sauce</th>\n",
       "      <th>sauce</th>\n",
       "      <th>...</th>\n",
       "      <th>yowza that is an</th>\n",
       "      <th>yowza that is an awesome</th>\n",
       "      <th>yowza that is an awesome sauce</th>\n",
       "      <th>yowza thats</th>\n",
       "      <th>yowza thats awesome</th>\n",
       "      <th>yowza yowza</th>\n",
       "      <th>yowza yowza that</th>\n",
       "      <th>yowza yowza that is</th>\n",
       "      <th>yowza yowza that is an</th>\n",
       "      <th>yowza yowza that is an awesome</th>\n",
       "    </tr>\n",
       "  </thead>\n",
       "  <tbody>\n",
       "    <tr>\n",
       "      <th>0</th>\n",
       "      <td>0.000000</td>\n",
       "      <td>0.000000</td>\n",
       "      <td>0.000000</td>\n",
       "      <td>0.317800</td>\n",
       "      <td>0.000000</td>\n",
       "      <td>0.000000</td>\n",
       "      <td>0.000000</td>\n",
       "      <td>0.000000</td>\n",
       "      <td>0.000000</td>\n",
       "      <td>0.000000</td>\n",
       "      <td>...</td>\n",
       "      <td>0.000000</td>\n",
       "      <td>0.000000</td>\n",
       "      <td>0.000000</td>\n",
       "      <td>0.446656</td>\n",
       "      <td>0.446656</td>\n",
       "      <td>0.000000</td>\n",
       "      <td>0.000000</td>\n",
       "      <td>0.000000</td>\n",
       "      <td>0.000000</td>\n",
       "      <td>0.000000</td>\n",
       "    </tr>\n",
       "    <tr>\n",
       "      <th>1</th>\n",
       "      <td>0.194143</td>\n",
       "      <td>0.194143</td>\n",
       "      <td>0.194143</td>\n",
       "      <td>0.138134</td>\n",
       "      <td>0.194143</td>\n",
       "      <td>0.194143</td>\n",
       "      <td>0.194143</td>\n",
       "      <td>0.194143</td>\n",
       "      <td>0.194143</td>\n",
       "      <td>0.194143</td>\n",
       "      <td>...</td>\n",
       "      <td>0.194143</td>\n",
       "      <td>0.194143</td>\n",
       "      <td>0.194143</td>\n",
       "      <td>0.000000</td>\n",
       "      <td>0.000000</td>\n",
       "      <td>0.194143</td>\n",
       "      <td>0.194143</td>\n",
       "      <td>0.194143</td>\n",
       "      <td>0.194143</td>\n",
       "      <td>0.194143</td>\n",
       "    </tr>\n",
       "  </tbody>\n",
       "</table>\n",
       "<p>2 rows × 30 columns</p>\n",
       "</div>"
      ],
      "text/plain": [
       "         an  an awesome  an awesome sauce   awesome  awesome sauce        is  \\\n",
       "0  0.000000    0.000000          0.000000  0.317800       0.000000  0.000000   \n",
       "1  0.194143    0.194143          0.194143  0.138134       0.194143  0.194143   \n",
       "\n",
       "      is an  is an awesome  is an awesome sauce     sauce  ...  \\\n",
       "0  0.000000       0.000000             0.000000  0.000000  ...   \n",
       "1  0.194143       0.194143             0.194143  0.194143  ...   \n",
       "\n",
       "   yowza that is an  yowza that is an awesome  yowza that is an awesome sauce  \\\n",
       "0          0.000000                  0.000000                        0.000000   \n",
       "1          0.194143                  0.194143                        0.194143   \n",
       "\n",
       "   yowza thats  yowza thats awesome  yowza yowza  yowza yowza that  \\\n",
       "0     0.446656             0.446656     0.000000          0.000000   \n",
       "1     0.000000             0.000000     0.194143          0.194143   \n",
       "\n",
       "   yowza yowza that is  yowza yowza that is an  yowza yowza that is an awesome  \n",
       "0             0.000000                0.000000                        0.000000  \n",
       "1             0.194143                0.194143                        0.194143  \n",
       "\n",
       "[2 rows x 30 columns]"
      ]
     },
     "execution_count": 30,
     "metadata": {},
     "output_type": "execute_result"
    }
   ],
   "source": [
    "vect = TfidfVectorizer(ngram_range=(1,6))#\n",
    "pd.DataFrame(vect.fit_transform(some_text.text).toarray(), columns=vect.get_feature_names())"
   ]
  },
  {
   "cell_type": "markdown",
   "metadata": {},
   "source": [
    "## BIG DATA\n",
    "\n",
    "### Problem: Data Science is great and all on my little laptop, but can it scale to billions/trillions/septillions of examples?\n",
    "\n",
    "## YES! JUST ADD BIG DATA\n",
    "\n",
    "![big data](./images/big_data.jpg)\n",
    "\n",
    "### What this really means is, use api's that can scale across many many interconnected computers (servers)\n",
    "\n",
    "### Can you BIG DATA in Python?\n",
    "\n",
    "### [SPARK](http://spark.apache.org) has a Python api. It's a big data framework (currently the hottest big data framework) that takes many of the algorithms and approaches we learned (data analysis, exploration, etc.) and scales them to work across many computers (DataFrames are implemented in Spark, so is Logistic Regression/Linear Regression and Random Forests)\n",
    "### [H20.ai](http://www.h2o.ai/) "
   ]
  },
  {
   "cell_type": "markdown",
   "metadata": {},
   "source": [
    "## OK WHAT DO I DO NEXT?\n",
    "\n",
    "### 1. Use what you've learned (code in Python when you want to use Excel)\n",
    "### 2. Go a bit deeper into the mathematics behind some of these algorithms (you need to know a little bit of 1st year calculus and a bit more linear algebra) by [reading one of the classic texts on the topic FOR FREE](http://statweb.stanford.edu/~tibs/ElemStatLearn/)\n",
    "### 3. Learn more! Check [DataTau](http://www.datatau.com) every day. lurk on the [machine learning](https://www.reddit.com/r/MachineLearning/) and [statistics](https://www.reddit.com/r/statistics) subreddits (yes there are useful things on reddit).\n",
    "### 4. Keep coding. As frequently as you can (or want).\n",
    "### 5. Keep learning. Check out [metacademy](http://www.metacademy.org/roadmaps/). They have self-directed, free course road maps to LEVEL UP.\n",
    "### 6. All of you are very capable of doing this. Keep going, because I personally think this stuff is really fun (and these skills will probably inform the future of every freaking industry)."
   ]
  }
 ],
 "metadata": {
  "kernelspec": {
   "display_name": "Python 3",
   "language": "python",
   "name": "python3"
  },
  "language_info": {
   "codemirror_mode": {
    "name": "ipython",
    "version": 3
   },
   "file_extension": ".py",
   "mimetype": "text/x-python",
   "name": "python",
   "nbconvert_exporter": "python",
   "pygments_lexer": "ipython3",
   "version": "3.7.8"
  }
 },
 "nbformat": 4,
 "nbformat_minor": 1
}
