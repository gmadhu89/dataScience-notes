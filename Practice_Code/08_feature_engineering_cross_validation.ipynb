{
 "cells": [
  {
   "cell_type": "markdown",
   "metadata": {},
   "source": [
    "## Class 8 Agenda:\n",
    "  * **Feature Engineering: Standard Scaling/MinMaxScaling**\n",
    "  * **Feature Engineering: Eliminating Skew/Normalizing Features**\n",
    "  * **Feature Engineering: Handling Categorical Features**\n",
    "  * **Feature Engineering: Handling Missing Values**\n",
    "  * **Feature Engineering: Creating Derived Features - Polynomial Features**\n",
    "  * **Cross Validation vs. Train/Test Split**\n",
    "  * **Cross Validation for Parameter Tuning**\n",
    "  * **Searching over Parameters using GridSearchCV**"
   ]
  },
  {
   "cell_type": "markdown",
   "metadata": {},
   "source": [
    "We are going to make a big step today in the sophistication and kinds of models we will be capable of building. We will talk about several common feature transformations that you can/should perform when preparing most data for machine learning models.\n",
    "\n",
    "We're also going to learn how to improve the evaluation of the performance of any supervised machine learning models we build using a much better (more accurate) method than train-test split, one that gives more reliable estimates of error on unseen data.\n",
    "\n",
    "#### Outcomes\n",
    "By the end of this lesson you will be able to:\n",
    "- articulate why feature scaling is important, and be able to do it using sklearn\n",
    "- use a variety of transformation methods to reduce non-normality in features\n",
    "- handle categorical features when building a machine learning model\n",
    "- handle null/missing values when building a machine learning model\n",
    "- use cross validation to accurately estimate model performance\n",
    "- articulate the strengths and weaknesses of basic cross validation\n",
    "- use cross validation to choose optimal model parameters by searching across many models simultaneously"
   ]
  },
  {
   "cell_type": "markdown",
   "metadata": {},
   "source": [
    "### Feature Engineering\n",
    "\n",
    "When we talk about feature engineering, we are really talking about two things:\n",
    "* transforming the values at our disposal into a representation that a given machine learning algorithm can use and understand\n",
    "* creating new, derived features from the available features (using domain expertise) and use them when training a model\n",
    "* dealing with missing values, as most ML algorithms can't handle unknown values. They must be filled in.\n",
    "\n",
    "We will begin with the first case, transformation, and talk about the three most common transformations necessary to get data into a state where it can be used to train most ML models:\n",
    "* **feature scaling**: making it so that all columns (features) range over the same values is very helpful for many (but not all) machine learning models. In some cases, scaling along samples is useful, as well.\n",
    "* **turning categorical values into numerical values**: machine learning algorithms only understand numbers, not categories.\n",
    "* **handling missing values**: Models break when you give them `NaN`s, what are some strategies to replace `NaN`s with \"good\" (i.e. useful) numbers?"
   ]
  },
  {
   "cell_type": "markdown",
   "metadata": {},
   "source": [
    "Let's import the basics (those things we've seen in the past) like always, and generate some fake data:"
   ]
  },
  {
   "cell_type": "code",
   "execution_count": null,
   "metadata": {},
   "outputs": [],
   "source": [
    "#data handling, model creation/evaluation\n",
    "import pandas as pd\n",
    "import numpy as np\n",
    "from sklearn.model_selection import train_test_split\n",
    "from sklearn import metrics\n",
    "from sklearn.linear_model import LogisticRegression\n",
    "from sklearn.ensemble import RandomForestClassifier\n",
    "from scipy import stats\n",
    "\n",
    "#make it so that we only show first 4 decimals for floats\n",
    "np.set_printoptions(precision=4,suppress=True)\n",
    "\n",
    "# visualization\n",
    "%matplotlib inline\n",
    "import seaborn as sns"
   ]
  },
  {
   "cell_type": "code",
   "execution_count": null,
   "metadata": {},
   "outputs": [],
   "source": [
    "# fake data\n",
    "train = pd.DataFrame({'id':[0,1,2], 'length':[0.9,0.3,0.6], 'mass':[0.1,0.2,0.8], 'rings':[40,50,60]})\n",
    "test = pd.DataFrame({'length':[0.59], 'mass':[0.79], 'rings':[54.9]})"
   ]
  },
  {
   "cell_type": "markdown",
   "metadata": {},
   "source": [
    "### Feature scaling\n",
    "\n",
    "Let's try to predict the `id` of each sample using the `length`, `mass`, and `rings` columns without doing any feature scaling:"
   ]
  },
  {
   "cell_type": "code",
   "execution_count": null,
   "metadata": {},
   "outputs": [],
   "source": [
    "# define X and y\n",
    "feature_cols = ['length', 'mass', 'rings']\n",
    "X = train[feature_cols].astype(float)\n",
    "y = train.id"
   ]
  },
  {
   "cell_type": "markdown",
   "metadata": {},
   "source": [
    "To demonstrate this, we are going to be using a different classifier from the one's we've learned about so far. \n",
    "\n",
    "This algorithm is called [K-nearest-neighbors](https://en.wikipedia.org/wiki/K-nearest_neighbors_algorithm) and simply selects either the category (classification) or average of the K closest samples to it (computed using Euclidean distance).\n",
    "\n",
    "We are going to use K-nearest-neighbors where k=1 (the single nearest neighbor, so it will simply assume the output of that sample):"
   ]
  },
  {
   "cell_type": "code",
   "execution_count": null,
   "metadata": {},
   "outputs": [],
   "source": [
    "# KNN with k=1\n",
    "from sklearn.neighbors import KNeighborsClassifier\n",
    "knn = KNeighborsClassifier(n_neighbors=1)\n",
    "knn.fit(X, y)\n",
    "\n",
    "print(\"Training data:\\n\",train,\"\\n\")\n",
    "print(\"Single test sample:\\n\",test)"
   ]
  },
  {
   "cell_type": "markdown",
   "metadata": {},
   "source": [
    "**what id \"should\" the classifier predict?**\n",
    "\n",
    "Hopefully, you said id 2."
   ]
  },
  {
   "cell_type": "code",
   "execution_count": null,
   "metadata": {},
   "outputs": [],
   "source": [
    "print(\"Prediction: \",knn.predict(test))"
   ]
  },
  {
   "cell_type": "markdown",
   "metadata": {},
   "source": [
    "The classifier predicts id `1` instead of id `2` because the portion of the distance in the `rings` column **dominates** all of the other distances (it varies over ~10 units, whereas both of the other features vary over ~1 unit).\n",
    "\n",
    "How to get around this?\n",
    "\n",
    "**You scale all of the features so that they all range over the same values.**\n",
    "\n",
    "There are lots of ways to do this, we will talk about/use **Standard Scaling**. \n",
    "\n",
    "We simply compute the mean and standard deviation of each column, and for every value, subtract the mean of that column from the value, and divide by the standard deviation:\n",
    "$$zscore(x_i)=\\frac {x_i-\\mu}{\\sigma}$$\n",
    "\n",
    "Let's do that using `sklearn`'s `StandardScaler`:"
   ]
  },
  {
   "cell_type": "code",
   "execution_count": null,
   "metadata": {},
   "outputs": [],
   "source": [
    "from sklearn.preprocessing import StandardScaler\n",
    "\n",
    "scaler = StandardScaler() #create a scaler object\n",
    "scaler.fit(X) #fit the scaler\n",
    "X_scaled = scaler.transform(X) #transform the data with it\n",
    "\n",
    "# compare original to standardized\n",
    "print(\"original values:\\n\",X.values,\"\\n\")\n",
    "print(\"scaled values:\\n\",X_scaled,\"\\n\")\n",
    "\n",
    "# figure out how the standardization worked\n",
    "print(\"Mean of each column:\\n\",scaler.mean_,\"\\n\")\n",
    "print(\"standard deviation of each column:\\n\",scaler.scale_,\"\\n\")\n",
    "print(\"Z-scoring the values by hand to make sure we arent crazy:\\n\",(X.values - scaler.mean_) / scaler.scale_)\n",
    "print(\"Final Means of scaled data, per column:\\n\",X_scaled.mean(axis=0))\n",
    "print(\"Final SD's of scaled data, per column:\\n\",X_scaled.std(axis=0))"
   ]
  },
  {
   "cell_type": "markdown",
   "metadata": {},
   "source": [
    "You can also scale the data to an arbitrary range of values (instead of scaling them to have 0 mean and unit variance), we specify the minimum and maximum values that the column can take on, using `MinMaxScaler`. By default, `MinMaxScaler` scales the data to the range (0,1):"
   ]
  },
  {
   "cell_type": "code",
   "execution_count": null,
   "metadata": {},
   "outputs": [],
   "source": [
    "from sklearn.preprocessing import MinMaxScaler\n",
    "minmax= MinMaxScaler()\n",
    "\n",
    "minmax.fit(X) #fit the scaler\n",
    "X_scaled_minmax = minmax.transform(X) #transform the data with it\n",
    "\n",
    "# compare original to standardized\n",
    "print(\"original values:\\n\",X.values,\"\\n\")\n",
    "print(\"scaled values:\\n\",X_scaled_minmax,\"\\n\")\n",
    "\n",
    "print(\"min and max of scaled values:\\n\",X_scaled_minmax.min(),\"\\n\",X_scaled_minmax.max())\n",
    "print(\"Mean of min/max scaled columns:\\n\", X_scaled_minmax.mean(axis=0))\n",
    "print(\"Std of min/max scaled columns:\\n\", X_scaled_minmax.std(axis=0))"
   ]
  },
  {
   "cell_type": "markdown",
   "metadata": {},
   "source": [
    "Other scaling approaches may be more appropriate in different circumstances, you can read about them here: [preprocessing and scaling data in scikit-learn](http://scikit-learn.org/stable/modules/preprocessing.html)"
   ]
  },
  {
   "cell_type": "markdown",
   "metadata": {},
   "source": [
    "One thing that is very important to keep in mind when scaling: \n",
    "\n",
    "**When you're creating a scaling object, you should first \"fit\" it to the training data, then transform both the training and testing data using the \"fit\" scaler. If you try to fit the training and testing data separately, you will get inaccurate results.**\n",
    "\n",
    "(Why?)"
   ]
  },
  {
   "cell_type": "markdown",
   "metadata": {},
   "source": [
    "#### Exercise Time!!!\n",
    "\n",
    "* load in the wine data located [here](http://archive.ics.uci.edu/ml/machine-learning-databases/wine/wine.data). The columns for the data are as follows:\n",
    "    1. Label\n",
    "    2. Alcohol\n",
    "    3. Malic acid\n",
    "    4. Ash\n",
    "    5. Alcalinity of ash  \n",
    "    6. Magnesium\n",
    "\t7. Total phenols\n",
    "    8. Flavonoids\n",
    "    9. Nonflavanoid phenols\n",
    "    10. Proanthocyanins\n",
    "    11. Color intensity\n",
    "    12. Hue\n",
    "    13. OD280/OD315 of diluted wines\n",
    "    14. Proline\n",
    "    \n",
    "* build a knn model with 3 nearest neighbors to predict the wine's `label` from the remaining columns. Don't scale the data, and check the test error when using 80/20 train/test split. (use `KNeighborsClassifier(n_neighbors=3)`)\n",
    "* now, build the same model, with the same train/test split, but scale the data using `StandardScaler` and `MinMaxScaler`. What is the test error for each of these scaled datasets (for `train_test_split use random_state=1234` for reproducibility)? "
   ]
  },
  {
   "cell_type": "code",
   "execution_count": null,
   "metadata": {},
   "outputs": [],
   "source": [
    "url = 'http://archive.ics.uci.edu/ml/machine-learning-databases/wine/wine.data'\n",
    "wine_column_names = [\"label\",\"alcohol\",\"malic\",\"ash\",\"ash_alcalinity\",\"magnesium\",\"total_phenols\",\n",
    "                \"flavonoids\",\"nonflavonoids\",\"proanth\",\"color\",\"hue\",\"dilute\",\"proline\"]\n",
    "wine_features = wine_column_names[1:]\n",
    "wine_target = wine_column_names[0]\n",
    "wine_data = pd.read_csv(url,names=wine_column_names)\n",
    "wine_data.head()"
   ]
  },
  {
   "cell_type": "code",
   "execution_count": null,
   "metadata": {},
   "outputs": [],
   "source": [
    "pass"
   ]
  },
  {
   "cell_type": "markdown",
   "metadata": {},
   "source": [
    "### Feature Transformation: Minimizing Skew in Numeric Features\n",
    "\n",
    "Many machine learning methods rely on the assumption that feature values are distributed normally and have a symmetrical shape. However, this is not usually (almost never) the case. \n",
    "\n",
    "We talked about skewness very briefly when we zoomed through the statistics intro at the beginning of the course, but now we will revisit the topic.\n",
    "\n",
    "The [normal distribution](https://en.wikipedia.org/wiki/Normal_distribution) is un-skewed. An un-skewed distribution is symmetric, which means that the probability of drawing a value to the right of the mean (larger than the mean) is as likely as the probability of drawing a value to the left of the mean (less than the mean). \n",
    "\n",
    "We can calculate the skew of a given collection of data as follows:\n",
    "\n",
    "$Skew = \\frac {m^3}{\\sigma^3}$\n",
    "where\n",
    "$m^3 = \\frac {\\sum_{i=1}^n (X_i -\\mu_x)^3} {n} $\n",
    "\n",
    "\n",
    "Let's take a look at the histograms of all of the features:"
   ]
  },
  {
   "cell_type": "code",
   "execution_count": null,
   "metadata": {},
   "outputs": [],
   "source": [
    "sns.pairplot(wine_data[wine_features]);"
   ]
  },
  {
   "cell_type": "markdown",
   "metadata": {},
   "source": [
    "Now lets take a look at one of the features in `wine_data`, called `malic`, which measures the malic acid content of a given wine, and then calculate its skew using `scipy.stats.skew`:"
   ]
  },
  {
   "cell_type": "code",
   "execution_count": null,
   "metadata": {},
   "outputs": [],
   "source": [
    "sns.mpl.pyplot.hist(wine_data.malic)\n",
    "sns.mpl.pyplot.xlabel(\"Malic Acid Content\")\n",
    "sns.mpl.pyplot.ylabel(\"Frequency\");"
   ]
  },
  {
   "cell_type": "code",
   "execution_count": null,
   "metadata": {},
   "outputs": [],
   "source": [
    "malic_skew = stats.skew(wine_data.malic)\n",
    "print(\"Skew in original data: \",malic_skew)"
   ]
  },
  {
   "cell_type": "markdown",
   "metadata": {},
   "source": [
    "This is what is called \"right-skewed data\" (because the skew value is positive). We can try to eliminate/reduce skew using a variety of transformations on the data. We will talk about 2 basic transformation types, and one typical method that \"figures out\" the best transformation to use:\n",
    "\n",
    "1. **Square root transformation:** take the square root of each value\n",
    "2. **Logarithmic transformation:** take the natural logarithm of each value\n",
    "3. **Box-Cox transformation:** Use the Box-Cox calculation to \"figure out\" the optimal power (exponent) to transform your data\n",
    "\n",
    "The [Box-Cox transformation](https://en.wikipedia.org/wiki/Power_transform), **also known as the Power Transformation**, is a very common way to \"find\" the best way to transform your data automatically. You can think of it as computing an optimal power (exponents and logarithms are actually power transformations) that optimally \"normalizes\" the data.\n",
    "\n",
    "Heres an example:\n",
    "\n",
    "![Box-Cox](./images/boxcox_example_transform.jpg)\n",
    "\n",
    "Let's do each transformation in turn, compute the new skew, and visualize the newly-transformed data.\n",
    "\n",
    "**Note:** All of these transformations require that your data is positive to begin with. If you have negative values in your data, you must scale it to be all positive values first (using MinMax Scaler, for example)."
   ]
  },
  {
   "cell_type": "code",
   "execution_count": null,
   "metadata": {},
   "outputs": [],
   "source": [
    "#square root, natural logarithmic, and box-cox transformations\n",
    "sqrt_malic = np.sqrt(wine_data.malic)\n",
    "log_malic = np.log(wine_data.malic)\n",
    "boxcox_malic,power_val = stats.boxcox(wine_data.malic)"
   ]
  },
  {
   "cell_type": "markdown",
   "metadata": {},
   "source": [
    "Note that the box-cox transformation actually returns both the power to which it raised the data, as well as the transformed data itself (why the output of `stats.boxcox` is saved in 2 different arguments:"
   ]
  },
  {
   "cell_type": "code",
   "execution_count": null,
   "metadata": {},
   "outputs": [],
   "source": [
    "print(\"Found lambda: \",power_val)\n",
    "print(\"Box-Cox transformed data:\\n\",boxcox_malic)"
   ]
  },
  {
   "cell_type": "code",
   "execution_count": null,
   "metadata": {},
   "outputs": [],
   "source": [
    "#create a big figure\n",
    "figure = sns.mpl.pyplot.figure(figsize=(12,8))\n",
    "#add 4 subplots one at a time\n",
    "figure.add_subplot(141)\n",
    "sns.distplot(wine_data.malic)\n",
    "sns.mpl.pyplot.xlabel(\"Original Malic Acid\")\n",
    "sns.mpl.pyplot.ylabel(\"Normalized Frequency\")\n",
    "figure.add_subplot(142)\n",
    "sns.distplot(sqrt_malic)\n",
    "sns.mpl.pyplot.xlabel(\"Square Root, Malic Acid\")\n",
    "figure.add_subplot(143)\n",
    "sns.distplot(log_malic)\n",
    "sns.mpl.pyplot.xlabel(\"NatLog, Malic Acid\")\n",
    "figure.add_subplot(144)\n",
    "sns.distplot(boxcox_malic)\n",
    "sns.mpl.pyplot.xlabel(\"BoxCox, Malic Acid\");"
   ]
  },
  {
   "cell_type": "markdown",
   "metadata": {},
   "source": [
    "Now let's compute the overall skew of each dataset:"
   ]
  },
  {
   "cell_type": "code",
   "execution_count": null,
   "metadata": {},
   "outputs": [],
   "source": [
    "all_skews = map(stats.skew,[wine_data.malic,sqrt_malic,log_malic,boxcox_malic])\n",
    "list(zip([\"original data skew\",\"square_root skew\",\"natural log skew\",\"box-cox skew\"],all_skews))"
   ]
  },
  {
   "cell_type": "markdown",
   "metadata": {},
   "source": [
    "So, after using box-cox, we reduced the skew very very significantly (to very close to 0). However, using all of the different transformations **always reduced the skew.**\n",
    "\n",
    "This does not mean you should always transform all of your features, as transformations like this, because they are non-linear, will have a signficant impact on correlations between your variables, as well as on "
   ]
  },
  {
   "cell_type": "markdown",
   "metadata": {},
   "source": [
    "#### Exercise Time!!!\n",
    "* Look at the individual variable histograms in the wine dataset using `sns.distplot` and compute each feature's original skew (not the targets) using `stats.skew` (a value very far from 0, to either side, is very bad). Which variables are candidates for one of these transformations?\n",
    "* Transform those columns you think warrant a transformation.\n",
    "* Compare the test-set error of a Logistic Regression Classifier (`LogisticRegression`) before/after applying your transformations on the dataset (use the `random_state=123` in `train_test_split` to compare identical splits of the data across both transformations)."
   ]
  },
  {
   "cell_type": "code",
   "execution_count": null,
   "metadata": {},
   "outputs": [],
   "source": [
    "pass"
   ]
  },
  {
   "cell_type": "markdown",
   "metadata": {},
   "source": [
    "### Handling Categorical Features\n",
    "\n",
    "scikit-learn expects all features to be numeric. So how do we include categorical columns (features) in our model? Before we decide how to encode categorical features, we need to understand the kind of categorical features we have:\n",
    "\n",
    "- **Ordered categories:** transform them to sensible numeric values (example: small=1, medium=2, large=3)\n",
    "- **Unordered categories:** use dummy encoding\n",
    "\n",
    "We will look at one case of unordered categorical columns here:\n",
    "- **unordered categories with more than 2 levels**\n",
    "\n",
    "Let's work with another dataset from the UCI ML repository, the [abalone dataset](http://archive.ics.uci.edu/ml/datasets/Abalone), which contains 9 columns:\n",
    "1. **Sex:** M, F, and I (infant)\n",
    "2. **Length:** Longest shell measurement\n",
    "3. **Diameter:** Perpendicular to length\n",
    "4. **Height:** Height with with meat in shell\n",
    "5. **Whole weight:** Whole abalone weight\n",
    "6. **Shucked weight:** Weight of meat only\n",
    "7. **Viscera weight:** Gut weight (after bleeding)\n",
    "8. **Shell weight:** Weight after being dried\n",
    "9. **Rings:** This value +1.5 gives the abalone's age in years"
   ]
  },
  {
   "cell_type": "code",
   "execution_count": null,
   "metadata": {},
   "outputs": [],
   "source": [
    "columns = [\"sex\",\"length\",\"diam\",\"height\",\"whole\",\"shucked\",\"viscera\",\"shell\",\"age\"]\n",
    "abalone_data = pd.read_csv(\"http://archive.ics.uci.edu/ml/machine-learning-databases/abalone/abalone.data\",names=columns)\n",
    "abalone_data.head()"
   ]
  },
  {
   "cell_type": "markdown",
   "metadata": {},
   "source": [
    "How do we include an unordered categorical feature with more than two levels, like **sex**? We can't simply encode it as F=1, I=2, M=3, because that would imply an **ordered relationship** in which I is somehow \"double\" F and M is somehow \"triple\" F.\n",
    "\n",
    "Instead, we create **additional dummy variables** and append them to the original dataset:"
   ]
  },
  {
   "cell_type": "code",
   "execution_count": null,
   "metadata": {},
   "outputs": [],
   "source": [
    "sex_dummies = pd.get_dummies(abalone_data.sex).astype(int)\n",
    "sex_dummies.head()"
   ]
  },
  {
   "cell_type": "markdown",
   "metadata": {},
   "source": [
    "However, we actually only need **two dummy variables, not three**. Why? Because two dummies capture all of the \"information\" about the **sex** feature, and implicitly defines M as the **baseline level** (0 for both F and I implies M):"
   ]
  },
  {
   "cell_type": "code",
   "execution_count": null,
   "metadata": {},
   "outputs": [],
   "source": [
    "sex_dummies = sex_dummies[[\"F\",\"I\"]]\n",
    "sex_dummies.head()"
   ]
  },
  {
   "cell_type": "markdown",
   "metadata": {},
   "source": [
    "Here is how we interpret the encoding:\n",
    "\n",
    "- F is encoded as F=1 and I=0\n",
    "- I is encoded as F=0 and I=1\n",
    "- M is encoded as F=0 and I=0\n",
    "\n",
    "If this is confusing, think about why we only needed one dummy variable for a hypothetical binary categorical variable, not two dummy variables. In general, if you have a categorical feature with **k levels** (k distinct values that it takes on), you create **k-1 dummy variables**.\n",
    "\n",
    "Let's reappend these features to the original abalone dataset and drop the original `sex` column:"
   ]
  },
  {
   "cell_type": "code",
   "execution_count": null,
   "metadata": {},
   "outputs": [],
   "source": [
    "abalone_data = pd.concat([abalone_data,sex_dummies],axis=1) #remember that concatenating columns means axis=1!\n",
    "abalone_data.drop(\"sex\",inplace=True,axis=1)\n",
    "abalone_data.head()"
   ]
  },
  {
   "cell_type": "markdown",
   "metadata": {},
   "source": [
    "### Handling missing values\n",
    "\n",
    "scikit-learn models expect that all values are **numeric types** and **hold some meaning**. Thus, missing values are not allowed by scikit-learn (or by most machine learning algorithms).\n",
    "\n",
    "Let's use an example dataset that contains missing values to explore some strategies for how they can be handled. This dataset is called the [Chronic Kidney Disease Dataset](https://archive.ics.uci.edu/ml/datasets/Chronic_Kidney_Disease) and can be used to create a model that predicts whether someone has CKD (chronic kidney disease) or not.\n",
    "\n",
    "The columns in the dataset are as follows:\n",
    "\n",
    "* **age**: subject age, numeric\n",
    "* **bp**: blood pressure,  numeric\n",
    "* **sg**: specific gravity, numeric but discrete\n",
    "* **al**: albumin, numeric but discrete\n",
    "* **su**: sugar, numeric but discrete\n",
    "* **rbc**: red blood cells, categorical\n",
    "* **pc**: pus cell, categorical \n",
    "* **pcc**: pus cell clumps, categorical\n",
    "* **ba**: bacteria, categorical\n",
    "* **bgr**: blood glucose random, numeric\n",
    "* **bu**: blood urea, numeric\n",
    "* **sc**: serum creatinine, numeric \n",
    "* **sod**: sodium, numeric \n",
    "* **pot**: potassium, numeric \n",
    "* **hemo**: hemoglobin, numeric\n",
    "* **pcv**: packed cell volume, numeric\n",
    "* **wc**: white blood cell count, numeric\n",
    "* **rc**: red blood cell count, numeric\n",
    "* **htn**: hypertension, categorical\n",
    "* **dm**: diabetes mellitus, categorical \n",
    "* **cad**: coronary artery disease, categorical\n",
    "* **appet**: appetite, categorical\n",
    "* **pe**: pedal edema, categorical \n",
    "* **ane**: anemia, categorical\n",
    "* **class**: class, categorical\n",
    "\n",
    "Let's load the data in:"
   ]
  },
  {
   "cell_type": "code",
   "execution_count": null,
   "metadata": {},
   "outputs": [],
   "source": [
    "kidney_columns = [\"age\",\"bp\",\"sg\",\"al\",\"su\",\"rbc\",\"pc\",\"pcc\",\"ba\",\"bgr\",\"bu\",\"sc\",\"sod\",\"pot\",\"hemo\",\"pcv\",\"wc\",\"rc\",\"htn\",\"dm\",\"cad\",\"appet\",\"pe\",\"ane\",\"class\"]\n",
    "kidney_data = pd.read_csv(\"../data/chronic_kidney_disease.csv\", header=None,names=kidney_columns)\n",
    "kidney_data.head()"
   ]
  },
  {
   "cell_type": "markdown",
   "metadata": {},
   "source": [
    "So it looks like any cell with a missing value is marked with a `?`.\n",
    "\n",
    "Let's make **pandas** recognize that by specifying the `NaN` value type by passing in `?` into the `na_values` parameter of `read_csv`:"
   ]
  },
  {
   "cell_type": "code",
   "execution_count": null,
   "metadata": {},
   "outputs": [],
   "source": [
    "kidney_data = pd.read_csv(\"../data/chronic_kidney_disease.csv\",header=None,na_values=\"?\",names=kidney_columns)\n",
    "kidney_data.head()"
   ]
  },
  {
   "cell_type": "markdown",
   "metadata": {},
   "source": [
    "Now let's look at which cells have `NaN`'s in them by calling `isnull()` on the `kidney_data` `DataFrame`:"
   ]
  },
  {
   "cell_type": "code",
   "execution_count": null,
   "metadata": {},
   "outputs": [],
   "source": [
    "kidney_data.isnull().head()"
   ]
  },
  {
   "cell_type": "markdown",
   "metadata": {},
   "source": [
    "Let's check the total number of rows missing values per column:"
   ]
  },
  {
   "cell_type": "code",
   "execution_count": null,
   "metadata": {},
   "outputs": [],
   "source": [
    "# check for number of missing values per column\n",
    "kidney_data.isnull().sum()"
   ]
  },
  {
   "cell_type": "markdown",
   "metadata": {},
   "source": [
    "We are going to have to handle the categorical and the numeric columns differently:"
   ]
  },
  {
   "cell_type": "code",
   "execution_count": null,
   "metadata": {},
   "outputs": [],
   "source": [
    "kidney_data.dtypes"
   ]
  },
  {
   "cell_type": "markdown",
   "metadata": {},
   "source": [
    "Let's rearrange the numeric and categorical columns for easier access later, and lets remove the response column (`class`) into a separate `Series`:"
   ]
  },
  {
   "cell_type": "code",
   "execution_count": null,
   "metadata": {},
   "outputs": [],
   "source": [
    "print(\"column names before rearranging:\\n\",kidney_columns)\n",
    "kidney_columns = kidney_columns[:5]+kidney_columns[9:18]+kidney_columns[5:9]+kidney_columns[18:]\n",
    "print(\"column names after rearranging:\\n\",kidney_columns)"
   ]
  },
  {
   "cell_type": "code",
   "execution_count": null,
   "metadata": {},
   "outputs": [],
   "source": [
    "kidney_data = kidney_data[kidney_columns]\n",
    "target = kidney_data[\"class\"]\n",
    "print(kidney_data.dtypes)\n",
    "kidney_data.head()"
   ]
  },
  {
   "cell_type": "markdown",
   "metadata": {},
   "source": [
    "Ok, now that our data is arranged in a way that's amenable with dealing with the numeric and the categorical columns separately, let's work through the ways in which we can handle null values.\n",
    "\n",
    "The first thing we can do, is simply throw out any samples that have nulls in any column:"
   ]
  },
  {
   "cell_type": "code",
   "execution_count": null,
   "metadata": {},
   "outputs": [],
   "source": [
    "kidney_data_nonnull = kidney_data.dropna()\n",
    "print(\"Fraction of data kept:\\n\",float(kidney_data_nonnull.shape[0])/kidney_data.shape[0])"
   ]
  },
  {
   "cell_type": "markdown",
   "metadata": {},
   "source": [
    "So throwing out ~60% of the data is no bueno. What else can we do?\n",
    "\n",
    "We can **impute** (fill in) the data on a per-column basis. The imputation strategy for categorical columns is usually one of the following:\n",
    "  1. fill in with the most common categorical value\n",
    "  2. fill in with a special \"missing\" category\n",
    "\n",
    "Let's do each in turn.\n",
    "\n",
    "Here's how we would do **1.**\n",
    "\n",
    "We are going to get the most common category per column, and store it in a `Series` first, then we will apply it per-column to those columns:"
   ]
  },
  {
   "cell_type": "code",
   "execution_count": null,
   "metadata": {},
   "outputs": [],
   "source": [
    "#function to return the most frequent value in a pandas Series\n",
    "def get_most_frequent_value(my_column):\n",
    "    return my_column.value_counts().index[0]\n",
    "\n",
    "most_frequent_values_per_column = kidney_data[kidney_columns[14:-1]].apply(get_most_frequent_value,axis=0)\n",
    "print(\"Most frequent value in each column:\\n\",most_frequent_values_per_column)"
   ]
  },
  {
   "cell_type": "code",
   "execution_count": null,
   "metadata": {},
   "outputs": [],
   "source": [
    "categorical_most_frequent = kidney_data[kidney_columns[14:-1]].fillna(most_frequent_values_per_column,axis=0)\n",
    "categorical_most_frequent.head()"
   ]
  },
  {
   "cell_type": "markdown",
   "metadata": {},
   "source": [
    "Now let's do **2.** (Which is much easier):"
   ]
  },
  {
   "cell_type": "code",
   "execution_count": null,
   "metadata": {},
   "outputs": [],
   "source": [
    "special_missing_category = kidney_data[kidney_columns[14:-1]].fillna(\"missing\")\n",
    "special_missing_category.head()"
   ]
  },
  {
   "cell_type": "markdown",
   "metadata": {},
   "source": [
    "For numerical columns, there are 3 common strategies for filling in missing values:\n",
    "\n",
    "1. Fill in using the mean\n",
    "2. Fill in using the median (when many outliers are present)\n",
    "3. Fill in with some default value (e.g. 0).\n",
    "\n",
    "Let's do each in turn:"
   ]
  },
  {
   "cell_type": "code",
   "execution_count": null,
   "metadata": {},
   "outputs": [],
   "source": [
    "#1.\n",
    "print(\"Lots of missing data here:\\n\",kidney_data[kidney_columns[:14]].head())\n",
    "mean_per_column = kidney_data[kidney_columns[:14]].apply(lambda x: x.mean(),axis=0)\n",
    "print(\"Mean value per column:\\n\",mean_per_column)"
   ]
  },
  {
   "cell_type": "code",
   "execution_count": null,
   "metadata": {},
   "outputs": [],
   "source": [
    "#1. cont'd.\n",
    "numeric_mean_filled = kidney_data[kidney_columns[:14]].fillna(mean_per_column,axis=0)\n",
    "numeric_mean_filled.head()"
   ]
  },
  {
   "cell_type": "code",
   "execution_count": null,
   "metadata": {},
   "outputs": [],
   "source": [
    "#2.\n",
    "print(kidney_data[kidney_columns[:14]].head())\n",
    "median_per_column = kidney_data[kidney_columns[:14]].apply(lambda x: x.median(),axis=0)\n",
    "print(\"Median per column:\\n\",median_per_column)"
   ]
  },
  {
   "cell_type": "code",
   "execution_count": null,
   "metadata": {},
   "outputs": [],
   "source": [
    "#2. cont'd.\n",
    "numeric_median_filled = kidney_data[kidney_columns[:14]].fillna(median_per_column,axis=0)\n",
    "numeric_median_filled.head()"
   ]
  },
  {
   "cell_type": "code",
   "execution_count": null,
   "metadata": {},
   "outputs": [],
   "source": [
    "default_value_per_column = kidney_data[kidney_columns[:14]].fillna(0.0)\n",
    "default_value_per_column.head()"
   ]
  },
  {
   "cell_type": "markdown",
   "metadata": {},
   "source": [
    "All of these imputation methods will have distinct effects on classification accuracy.\n",
    "\n",
    "Much fancier methods for imputing values, including [EM (expectation maximization)](https://en.wikipedia.org/wiki/Expectation–maximization_algorithm), [multiple imputation](https://en.wikipedia.org/wiki/Imputation_%28statistics%29), etc. exist. \n",
    "\n",
    "These fancy imputation methods attempt to preserve the statistical relationships among the variables, and \"fill in\" the most likely values, given the values of all of the other columns (these are \"distributional\" imputation methods, as they attempt to keep the distributions of the columns as similar as possible after imputation to what they were prior to imputation). \n",
    "\n",
    "**However, they give really unstable/unreliable results when you have lots of missing data (>10% missing values), so I don't recommend using them when you have a dataset that is missing lots of values.**\n",
    "\n",
    "Look into these to find out more."
   ]
  },
  {
   "cell_type": "markdown",
   "metadata": {},
   "source": [
    "#### Exercise Time!!!\n",
    "\n",
    "1. Create a complete, filled in dataset of non-missing values using mean imputation per numeric column, most frequent value imputation for the categorical values, convert all of the categorical columns into numerical columns using `get_dummies`\n",
    "2. Do the same thing using median imputation for each numeric column.\n",
    "3. Compare test set errors when building a Logistic Regression model (`LogisticRegression()`) on the data and using train/test split (`train_test_split(random_state=123)`), predicting the `class` column. Which imputation method seems to perform better on this dataset?"
   ]
  },
  {
   "cell_type": "code",
   "execution_count": null,
   "metadata": {},
   "outputs": [],
   "source": [
    "pass"
   ]
  },
  {
   "cell_type": "markdown",
   "metadata": {},
   "source": [
    "### Generating higher-order features: Polynomial Transformation\n",
    "\n",
    "Although some machine learning methods, like **Random Forests** implicitly model non-linear interactions between the features in your data, it can be helpful to generate the full complement of non-linear interaction terms quickly. A simple and common method to use is polynomial features, which can generate features’ higher-order and interaction terms.\n",
    "\n",
    "Let's take a look at the kidney data, so we can see how this can be done in practice using the preprocessing function `PolynomialFeatures`. Let's first fill in all of the nulls, then go forward with the exploration:"
   ]
  },
  {
   "cell_type": "code",
   "execution_count": null,
   "metadata": {},
   "outputs": [],
   "source": [
    "kidney_data_numeric_columns = kidney_data.columns.tolist()[:14]\n",
    "kidney_data_categorical_columns = kidney_data.columns.tolist()[14:-1]\n",
    "kidney_data_filled = kidney_data.copy()\n",
    "kidney_data_filled[kidney_data_numeric_columns] = numeric_median_filled\n",
    "kidney_data_filled[kidney_data_categorical_columns] = categorical_most_frequent\n",
    "kidney_data_filled.isnull().sum()"
   ]
  },
  {
   "cell_type": "code",
   "execution_count": null,
   "metadata": {},
   "outputs": [],
   "source": [
    "from sklearn.preprocessing import PolynomialFeatures\n",
    "poly_fit_3 = PolynomialFeatures(degree=3)\n",
    "fitted_degree3_numeric_kidneys = poly_fit_3.fit_transform(kidney_data_filled[kidney_data_numeric_columns])"
   ]
  },
  {
   "cell_type": "markdown",
   "metadata": {},
   "source": [
    "Let's take a look at the first few rows in this data:"
   ]
  },
  {
   "cell_type": "code",
   "execution_count": null,
   "metadata": {},
   "outputs": [],
   "source": [
    "fitted_degree3_numeric_kidneys[:5]"
   ]
  },
  {
   "cell_type": "markdown",
   "metadata": {},
   "source": [
    "This transformation generates every possible pairwise combination of all of the numeric columns in the kidney dataset upto a degree of 3.\n",
    "\n",
    "So, if we had 3 columns, $X,Y,Z$, this transformation would generate:\n",
    "$$(1,X,Y,Z,XY,XZ,YZ,X^2,Y^2,Z^2,X^2Y,X^2Z,...,XYZ,X^3,Y^3,Z^3) $$\n",
    "\n",
    "However, this is complete overkill. What we usually want to generate is just the interactions ($XY, YZ$,etc. terms) not all of the polynomial degrees. In that case, we simply pass an extra Boolean parameter to the `PolynomialFeatures` function:"
   ]
  },
  {
   "cell_type": "code",
   "execution_count": null,
   "metadata": {},
   "outputs": [],
   "source": [
    "poly_fit_3_interact = PolynomialFeatures(degree=3,interaction_only=True)\n",
    "#don't want the initial constant term, so only keep columns 1 to the end\n",
    "interactions_only_kidney_columns = poly_fit_3_interact.fit_transform(kidney_data_filled[kidney_data_numeric_columns])[:,1:]"
   ]
  },
  {
   "cell_type": "markdown",
   "metadata": {},
   "source": [
    "#### Exercise Time!\n",
    "1. Generate the interactions-only degree-2 polynomial-fit features for the kidney_data null-filled dataset on the numeric columns only.\n",
    "2. Use train_test_split to predict the class with/without these polynomial features using `LogisticRegression()`. What happens to train/test accuracy?"
   ]
  },
  {
   "cell_type": "code",
   "execution_count": null,
   "metadata": {},
   "outputs": [],
   "source": [
    "pass"
   ]
  },
  {
   "cell_type": "markdown",
   "metadata": {},
   "source": [
    "Now, we are going to talk about better ways to measure model performance than train/test split."
   ]
  },
  {
   "cell_type": "markdown",
   "metadata": {},
   "source": [
    "### Cross-validation as many train/test splits"
   ]
  },
  {
   "cell_type": "markdown",
   "metadata": {},
   "source": [
    "We are going to motivate this discussion of cross-validation by trying to see if there are any drawbacks from just using train/test split. Specifically:\n",
    "  - What is the drawback of using the **train/test split** procedure for model evaluation?\n",
    "  - How does **K-fold cross-validation** overcome this limitation?"
   ]
  },
  {
   "cell_type": "markdown",
   "metadata": {},
   "source": [
    "**Motivation:** We need a way to choose between several different machine learning models (or multiple versions of the same model). Our goal is **to estimate likely performance of a model on out-of-sample data**.\n",
    "\n",
    "**Initial approach:** Train/test split\n",
    "- Split the dataset into two pieces, so that the model can be trained and tested on **different data**.\n",
    "- **Testing accuracy** is a better estimate than training accuracy of out-of-sample performance (because testing on the same data that you used to train the model causes **overfitting** and worse out-of-sample performance).\n",
    "- However, just using one train/test split provides a **high variance** estimate since changing which observations happen to be in the testing set can significantly change testing accuracy.\n",
    "\n",
    "What would be a better approach?\n",
    "\n",
    "**Better approach:** Create a bunch of train/test splits, calculate the testing accuracy for each, and average the results together.\n",
    "\n",
    "**This is the essense of cross-validation.**"
   ]
  },
  {
   "cell_type": "markdown",
   "metadata": {},
   "source": [
    "### Cross-validation flow\n",
    "1. Split the dataset into K **equal** partitions (or \"folds\").\n",
    "2. Use fold 1 as the **testing set** and the union of the other folds as the **training set**.\n",
    "3. Calculate **testing accuracy**.\n",
    "4. Repeat steps 2 and 3 K times, using a **different fold** as the testing set each time.\n",
    "5. Use the **average testing accuracy** as the estimate of out-of-sample accuracy.\n",
    "\n",
    "**Here's an example diagram where K = 5 (5 fold cross-validation):**\n",
    "![5-fold cross-validation](./images/5-fold-cv.png)"
   ]
  },
  {
   "cell_type": "code",
   "execution_count": null,
   "metadata": {},
   "outputs": [],
   "source": [
    "from sklearn.model_selection import KFold, cross_val_score"
   ]
  },
  {
   "cell_type": "code",
   "execution_count": null,
   "metadata": {},
   "outputs": [],
   "source": [
    "# simulate splitting a dataset of 30 observations into 5 folds\n",
    "kf = KFold(n_splits=5, shuffle=False)\n",
    "\n",
    "# print the contents of each training and testing set\n",
    "print('{} {:^74} {}'.format('Iteration', 'Training set observations', 'Testing set observations'))\n",
    "for iteration, data in enumerate(kf.split(range(30)), start=1):\n",
    "    print('{:^9} {} {:^25}'.format(iteration, str(data[0]), str(data[1])))"
   ]
  },
  {
   "cell_type": "markdown",
   "metadata": {},
   "source": [
    "Let's go through this carefully:\n",
    "- Dataset contains **30 observations** (numbered 0 through 29)\n",
    "- 5-fold cross-validation, thus it runs for **5 iterations**\n",
    "- For each iteration, every observation is either in the training set or the testing set, **but not both**\n",
    "- Every observation is in the testing set **exactly once**\n",
    "\n",
    "Let's try this with real data and compare to just a single train/test split (we will use the vertebral column data we've used before):"
   ]
  },
  {
   "cell_type": "code",
   "execution_count": null,
   "metadata": {},
   "outputs": [],
   "source": [
    "# read in the vertebral column data\n",
    "vertebral_data = pd.read_csv(\"../data/vertebral_column_2_categories.dat\", sep=\" \",\n",
    "                             names=[\"pelvic_incidence\",\"pelvic_tilt\",\"lumbar_lordosis_angle\",\"sacral_slope\",\"pelvic_radius\",\"spondy_grade\",\"outcome\"])\n",
    "#generate features, targets\n",
    "X = vertebral_data.iloc[:,:-1]\n",
    "y = vertebral_data.outcome\n",
    "rf = RandomForestClassifier(n_estimators=50) #random forest with 50 trees\n",
    "\n",
    "#train/test split with 10% of data in each split:\n",
    "for i in range(10):\n",
    "    X_train,X_test,y_train,y_test = train_test_split(X,y,test_size=.1)\n",
    "    rf_fit = rf.fit(X_train,y_train)\n",
    "    print(\"Accuracy for split \",i,\": \",metrics.accuracy_score(y_test,rf_fit.predict(X_test)))\n",
    "\n",
    "#compute cross-validation score accuracy across 10 folds\n",
    "cross_val_scores = cross_val_score(rf,X,y,cv=10)\n",
    "print(\"10-fold accuracies:\\n\",cross_val_scores)\n",
    "print(\"Mean cv-accuracy:\",np.mean(cross_val_scores))\n",
    "print(\"Std of cv-accuracy:\",np.std(cross_val_scores))"
   ]
  },
  {
   "cell_type": "markdown",
   "metadata": {},
   "source": [
    "#### Exercise Time!!!\n",
    "\n",
    "* Compute cross-validated mean/std of accuracies when doing 20, 40, 50-fold cross-validation using `cross_val_score()`. What happens to the mean and standard deviation of the accuracies as you increase the number of folds?"
   ]
  },
  {
   "cell_type": "code",
   "execution_count": null,
   "metadata": {},
   "outputs": [],
   "source": [
    "pass"
   ]
  },
  {
   "cell_type": "markdown",
   "metadata": {},
   "source": [
    "Here are the advantages of **cross-validation:**\n",
    "- More accurate estimate of out-of-sample accuracy\n",
    "- More \"efficient\" use of data (every observation is used for both training and testing)\n",
    "\n",
    "However, there are some advantages to using **train/test split:**\n",
    "- Runs K times faster than K-fold cross-validation\n",
    "- Simpler to examine the detailed results of the testing process"
   ]
  },
  {
   "cell_type": "markdown",
   "metadata": {},
   "source": [
    "We can improve this basic cross-validation approach a bit more as follows:\n",
    "\n",
    "**Repeated cross-validation**\n",
    "\n",
    "- Repeat cross-validation multiple times (with **different random splits** of the data) and average the results\n",
    "- More reliable estimate of out-of-sample performance by **reducing the variance** associated with a single trial of cross-validation\n",
    "\n",
    "**Creating a hold-out set**\n",
    "\n",
    "- \"Hold out\" a portion of the data **before** beginning the model building process\n",
    "- Locate the best model using cross-validation on the remaining data, and test it **using the hold-out set**\n",
    "- More reliable estimate of out-of-sample performance since hold-out set is **truly out-of-sample**\n",
    "\n",
    "**Feature engineering and selection within cross-validation iterations**\n",
    "\n",
    "- Normally, feature engineering and selection occurs **before** cross-validation\n",
    "- Instead, you can perform all feature engineering and selection **within each cross-validation iteration**\n",
    "- This gives us a more reliable estimate of out-of-sample performance since it **better mimics** the application of the model to out-of-sample data"
   ]
  },
  {
   "cell_type": "code",
   "execution_count": null,
   "metadata": {},
   "outputs": [],
   "source": [
    "from sklearn.model_selection import GridSearchCV"
   ]
  },
  {
   "cell_type": "code",
   "execution_count": null,
   "metadata": {},
   "outputs": [],
   "source": [
    "# use 10-fold cross-validation to find best max_depth per-tree out of depth 2 or 3\n",
    "\n",
    "# try max_depth=2\n",
    "rf_2 = RandomForestClassifier(max_depth=2,\n",
    "                              random_state=1,\n",
    "                              n_estimators=10)\n",
    "print(\"Cross-validated mean accuracy for depth 2:\",\n",
    "      cross_val_score(rf_2,\n",
    "                      X,\n",
    "                      y,\n",
    "                      cv=10,\n",
    "                      scoring='accuracy').mean())\n",
    "\n",
    "# try max_depth=3\n",
    "rf_3 = RandomForestClassifier(max_depth=3,\n",
    "                              random_state=1,\n",
    "                              n_estimators=10)\n",
    "print(\"Cross-validated mean accuracy for depth 3:\",\n",
    "      cross_val_score(rf_3,\n",
    "                      X,\n",
    "                      y,\n",
    "                      cv=10,\n",
    "                      scoring='accuracy').mean())"
   ]
  },
  {
   "cell_type": "code",
   "execution_count": null,
   "metadata": {},
   "outputs": [],
   "source": [
    "# use GridSearchCV to automate the search across depths 1-10\n",
    "rf_grid = RandomForestClassifier(n_estimators=50,\n",
    "                                 random_state=1,\n",
    "                                 n_jobs=-1) #50 trees\n",
    "max_depth_range = range(1, 11)\n",
    "param_grid = dict(max_depth=max_depth_range)\n",
    "print(param_grid)\n",
    "\n",
    "grid = GridSearchCV(rf_grid,\n",
    "                    param_grid,\n",
    "                    cv=10,\n",
    "                    scoring='accuracy')\n",
    "grid.fit(X, y)\n",
    "\n",
    "# examine the results of the grid search\n",
    "grid.cv_results_"
   ]
  },
  {
   "cell_type": "code",
   "execution_count": null,
   "metadata": {},
   "outputs": [],
   "source": [
    "grid_mean_scores = grid.cv_results_[\"mean_test_score\"]"
   ]
  },
  {
   "cell_type": "code",
   "execution_count": null,
   "metadata": {},
   "outputs": [],
   "source": [
    "# plot the results\n",
    "sns.mpl.pyplot.plot(max_depth_range, grid_mean_scores)\n",
    "sns.mpl.pyplot.xlabel('max_depth')\n",
    "sns.mpl.pyplot.ylabel('Cross-Validated Mean Test Set Accuracy');"
   ]
  },
  {
   "cell_type": "code",
   "execution_count": null,
   "metadata": {},
   "outputs": [],
   "source": [
    "# what was best model?\n",
    "print(\"Best score:\",grid.best_score_)\n",
    "print(\"Best params:\",grid.best_params_)\n",
    "print(\"Best estimator:\",grid.best_estimator_)"
   ]
  },
  {
   "cell_type": "code",
   "execution_count": null,
   "metadata": {},
   "outputs": [],
   "source": [
    "# search multiple parameters simultaneously - this will take a while\n",
    "max_depth_range = range(1, 11)\n",
    "leaf_range = range(1, 11)\n",
    "param_grid2 = dict(max_depth=max_depth_range,\n",
    "                   min_samples_leaf=leaf_range)\n",
    "grid2 = GridSearchCV(rf_grid,\n",
    "                     param_grid2,\n",
    "                     cv=10,\n",
    "                     scoring='accuracy',\n",
    "                     n_jobs=-1)\n",
    "grid2.fit(X, y)\n",
    "\n",
    "print(grid2.cv_results_)"
   ]
  },
  {
   "cell_type": "code",
   "execution_count": null,
   "metadata": {},
   "outputs": [],
   "source": [
    "print(grid2.best_score_)\n",
    "print(grid2.best_params_)"
   ]
  },
  {
   "cell_type": "markdown",
   "metadata": {
    "collapsed": true
   },
   "source": [
    "#### Exercise Time!!!\n",
    "\n",
    "I want you to use and test several different imputation methods, different feature transformations, and different model parameters using `GridSearchCV` for the kidney dataset.\n",
    "\n",
    "This will get you to use everything we've learned today on one dataset with several kinds of missing values, and using both categorical and numeric values.\n",
    "\n",
    "**Don't forget to transform the categories using `pd.get_dummies()` once you've filled in the missing data!**\n",
    "\n",
    "Remember there are other parameters you can tune for random forests than just the maximum depth. Look at the random forest lesson or the [random forest documentation](http://scikit-learn.org/stable/modules/generated/sklearn.ensemble.RandomForestClassifier.html).\n",
    "\n",
    "Try to be systematic in your exploration. Your goal is to make as robust a model as you can (lowest average cross-validated test error)."
   ]
  },
  {
   "cell_type": "code",
   "execution_count": null,
   "metadata": {},
   "outputs": [],
   "source": [
    "pass"
   ]
  }
 ],
 "metadata": {
  "kernelspec": {
   "display_name": "Python 3",
   "language": "python",
   "name": "python3"
  },
  "language_info": {
   "codemirror_mode": {
    "name": "ipython",
    "version": 3
   },
   "file_extension": ".py",
   "mimetype": "text/x-python",
   "name": "python",
   "nbconvert_exporter": "python",
   "pygments_lexer": "ipython3",
   "version": "3.7.0"
  }
 },
 "nbformat": 4,
 "nbformat_minor": 1
}
