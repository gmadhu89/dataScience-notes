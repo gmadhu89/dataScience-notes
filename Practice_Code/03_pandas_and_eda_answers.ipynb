{
 "cells": [
  {
   "cell_type": "markdown",
   "metadata": {},
   "source": [
    "## CLASS 3 AGENDA\n",
    "* **Address questions/concerns from class 2**\n",
    "* **Introducing the pandas library**\n",
    "* **Working with the movielens movie ratings dataset**\n",
    "* **Combining datasets (next notebook)**\n",
    "* **Homework: NYC Taxi Data (2 notebooks)**"
   ]
  },
  {
   "cell_type": "markdown",
   "metadata": {},
   "source": [
    "As is almost always the case when working with **Python**, we are going to need more than just its basic functionality available to us as we develop our analytical pipelines. \n",
    "\n",
    "In order to have this additional functionality available (being able to use **pandas**), we will rely on a  couple `import` statements.\n",
    "\n",
    "Here they are:"
   ]
  },
  {
   "cell_type": "code",
   "execution_count": 1,
   "metadata": {},
   "outputs": [],
   "source": [
    "import pandas as pd\n",
    "import numpy as np"
   ]
  },
  {
   "cell_type": "markdown",
   "metadata": {},
   "source": [
    "The code above did two things:\n",
    "\n",
    "* Loaded in all of the functionality that **pandas** provides (`import pandas as pd`)\n",
    "* Loaded in some additional functionality from a different package that **pandas** relies on called **NumPy** (`import numpy as np`)\n",
    "\n",
    "Importantly, `pd` is now the alias (new name) for the entire `pandas` library and `np` is the alias for the `numpy` library. Instead of having to type `pandas.something` or `numpy.something` to access a given function, you can now just type `pd` or `np`. \n",
    "\n",
    "So what exactly is [**pandas**](http://pandas.pydata.org) and why the funny name (we will talk about [**NumPy**](http://www.numpy.org) a bit later)?\n",
    "\n",
    "**pandas** is a Data Analysis Library written in and for the **Python** programming language and is a very loose acronym for **P**ython **An**alysis of **Da**taset**s** (or something like that anyway). \n",
    "\n",
    "It provides open source, easy-to-use data structures and data analysis tools and we will be relying on it heavily for the remainder of the course. Let's check the versions of `numpy` and `pandas` we are running:"
   ]
  },
  {
   "cell_type": "code",
   "execution_count": 2,
   "metadata": {},
   "outputs": [
    {
     "name": "stdout",
     "output_type": "stream",
     "text": [
      "Pandas version: 0.24.2\n",
      "Numpy version: 1.16.2\n"
     ]
    }
   ],
   "source": [
    "print(\"Pandas version:\",pd.__version__)\n",
    "print(\"Numpy version:\",np.__version__)"
   ]
  },
  {
   "cell_type": "markdown",
   "metadata": {},
   "source": [
    "So, lets begin by loading in our first dataset, the Movielens 1M dataset.\n",
    "\n",
    "This is a file that contains ~1,000,000 movie ratings taken from a website where users can rate a variety of movies on a 1-5 rating scale. Each rating is comprised of the following information:\n",
    "\n",
    "* A user id, represented by a number (an `int`) \n",
    "* A movie id, also an `int` \n",
    "* A rating, an `int` that should vary from 1-5 (inclusive) \n",
    "* A timestamp, recording when the rating was made in seconds since UNIX epoch time (this is standardly set to 12:00AM January 1, 1970), also an `int`\n",
    "\n",
    "The records in this file are arranged in the following order and format:\n",
    "\n",
    "`UserID::MovieID::Rating::Timestamp`"
   ]
  },
  {
   "cell_type": "markdown",
   "metadata": {},
   "source": [
    "We will use the `read_csv` function in pandas and try to simply load the dataset **as is** into a variable (actually an object) called `ratingData` and see if that gets it into a usable format (it won't)."
   ]
  },
  {
   "cell_type": "code",
   "execution_count": 3,
   "metadata": {},
   "outputs": [
    {
     "ename": "FileNotFoundError",
     "evalue": "[Errno 2] File b'../data/movieData/ratings.dat' does not exist: b'../data/movieData/ratings.dat'",
     "output_type": "error",
     "traceback": [
      "\u001b[0;31m---------------------------------------------------------------------------\u001b[0m",
      "\u001b[0;31mFileNotFoundError\u001b[0m                         Traceback (most recent call last)",
      "\u001b[0;32m<ipython-input-3-a6174333280c>\u001b[0m in \u001b[0;36m<module>\u001b[0;34m\u001b[0m\n\u001b[0;32m----> 1\u001b[0;31m \u001b[0mratingData\u001b[0m \u001b[0;34m=\u001b[0m \u001b[0mpd\u001b[0m\u001b[0;34m.\u001b[0m\u001b[0mread_csv\u001b[0m\u001b[0;34m(\u001b[0m\u001b[0;34m\"../data/movieData/ratings.dat\"\u001b[0m\u001b[0;34m)\u001b[0m\u001b[0;34m\u001b[0m\u001b[0;34m\u001b[0m\u001b[0m\n\u001b[0m",
      "\u001b[0;32m/usr/local/lib/python3.7/site-packages/pandas/io/parsers.py\u001b[0m in \u001b[0;36mparser_f\u001b[0;34m(filepath_or_buffer, sep, delimiter, header, names, index_col, usecols, squeeze, prefix, mangle_dupe_cols, dtype, engine, converters, true_values, false_values, skipinitialspace, skiprows, skipfooter, nrows, na_values, keep_default_na, na_filter, verbose, skip_blank_lines, parse_dates, infer_datetime_format, keep_date_col, date_parser, dayfirst, iterator, chunksize, compression, thousands, decimal, lineterminator, quotechar, quoting, doublequote, escapechar, comment, encoding, dialect, tupleize_cols, error_bad_lines, warn_bad_lines, delim_whitespace, low_memory, memory_map, float_precision)\u001b[0m\n\u001b[1;32m    700\u001b[0m                     skip_blank_lines=skip_blank_lines)\n\u001b[1;32m    701\u001b[0m \u001b[0;34m\u001b[0m\u001b[0m\n\u001b[0;32m--> 702\u001b[0;31m         \u001b[0;32mreturn\u001b[0m \u001b[0m_read\u001b[0m\u001b[0;34m(\u001b[0m\u001b[0mfilepath_or_buffer\u001b[0m\u001b[0;34m,\u001b[0m \u001b[0mkwds\u001b[0m\u001b[0;34m)\u001b[0m\u001b[0;34m\u001b[0m\u001b[0;34m\u001b[0m\u001b[0m\n\u001b[0m\u001b[1;32m    703\u001b[0m \u001b[0;34m\u001b[0m\u001b[0m\n\u001b[1;32m    704\u001b[0m     \u001b[0mparser_f\u001b[0m\u001b[0;34m.\u001b[0m\u001b[0m__name__\u001b[0m \u001b[0;34m=\u001b[0m \u001b[0mname\u001b[0m\u001b[0;34m\u001b[0m\u001b[0;34m\u001b[0m\u001b[0m\n",
      "\u001b[0;32m/usr/local/lib/python3.7/site-packages/pandas/io/parsers.py\u001b[0m in \u001b[0;36m_read\u001b[0;34m(filepath_or_buffer, kwds)\u001b[0m\n\u001b[1;32m    427\u001b[0m \u001b[0;34m\u001b[0m\u001b[0m\n\u001b[1;32m    428\u001b[0m     \u001b[0;31m# Create the parser.\u001b[0m\u001b[0;34m\u001b[0m\u001b[0;34m\u001b[0m\u001b[0;34m\u001b[0m\u001b[0m\n\u001b[0;32m--> 429\u001b[0;31m     \u001b[0mparser\u001b[0m \u001b[0;34m=\u001b[0m \u001b[0mTextFileReader\u001b[0m\u001b[0;34m(\u001b[0m\u001b[0mfilepath_or_buffer\u001b[0m\u001b[0;34m,\u001b[0m \u001b[0;34m**\u001b[0m\u001b[0mkwds\u001b[0m\u001b[0;34m)\u001b[0m\u001b[0;34m\u001b[0m\u001b[0;34m\u001b[0m\u001b[0m\n\u001b[0m\u001b[1;32m    430\u001b[0m \u001b[0;34m\u001b[0m\u001b[0m\n\u001b[1;32m    431\u001b[0m     \u001b[0;32mif\u001b[0m \u001b[0mchunksize\u001b[0m \u001b[0;32mor\u001b[0m \u001b[0miterator\u001b[0m\u001b[0;34m:\u001b[0m\u001b[0;34m\u001b[0m\u001b[0;34m\u001b[0m\u001b[0m\n",
      "\u001b[0;32m/usr/local/lib/python3.7/site-packages/pandas/io/parsers.py\u001b[0m in \u001b[0;36m__init__\u001b[0;34m(self, f, engine, **kwds)\u001b[0m\n\u001b[1;32m    893\u001b[0m             \u001b[0mself\u001b[0m\u001b[0;34m.\u001b[0m\u001b[0moptions\u001b[0m\u001b[0;34m[\u001b[0m\u001b[0;34m'has_index_names'\u001b[0m\u001b[0;34m]\u001b[0m \u001b[0;34m=\u001b[0m \u001b[0mkwds\u001b[0m\u001b[0;34m[\u001b[0m\u001b[0;34m'has_index_names'\u001b[0m\u001b[0;34m]\u001b[0m\u001b[0;34m\u001b[0m\u001b[0;34m\u001b[0m\u001b[0m\n\u001b[1;32m    894\u001b[0m \u001b[0;34m\u001b[0m\u001b[0m\n\u001b[0;32m--> 895\u001b[0;31m         \u001b[0mself\u001b[0m\u001b[0;34m.\u001b[0m\u001b[0m_make_engine\u001b[0m\u001b[0;34m(\u001b[0m\u001b[0mself\u001b[0m\u001b[0;34m.\u001b[0m\u001b[0mengine\u001b[0m\u001b[0;34m)\u001b[0m\u001b[0;34m\u001b[0m\u001b[0;34m\u001b[0m\u001b[0m\n\u001b[0m\u001b[1;32m    896\u001b[0m \u001b[0;34m\u001b[0m\u001b[0m\n\u001b[1;32m    897\u001b[0m     \u001b[0;32mdef\u001b[0m \u001b[0mclose\u001b[0m\u001b[0;34m(\u001b[0m\u001b[0mself\u001b[0m\u001b[0;34m)\u001b[0m\u001b[0;34m:\u001b[0m\u001b[0;34m\u001b[0m\u001b[0;34m\u001b[0m\u001b[0m\n",
      "\u001b[0;32m/usr/local/lib/python3.7/site-packages/pandas/io/parsers.py\u001b[0m in \u001b[0;36m_make_engine\u001b[0;34m(self, engine)\u001b[0m\n\u001b[1;32m   1120\u001b[0m     \u001b[0;32mdef\u001b[0m \u001b[0m_make_engine\u001b[0m\u001b[0;34m(\u001b[0m\u001b[0mself\u001b[0m\u001b[0;34m,\u001b[0m \u001b[0mengine\u001b[0m\u001b[0;34m=\u001b[0m\u001b[0;34m'c'\u001b[0m\u001b[0;34m)\u001b[0m\u001b[0;34m:\u001b[0m\u001b[0;34m\u001b[0m\u001b[0;34m\u001b[0m\u001b[0m\n\u001b[1;32m   1121\u001b[0m         \u001b[0;32mif\u001b[0m \u001b[0mengine\u001b[0m \u001b[0;34m==\u001b[0m \u001b[0;34m'c'\u001b[0m\u001b[0;34m:\u001b[0m\u001b[0;34m\u001b[0m\u001b[0;34m\u001b[0m\u001b[0m\n\u001b[0;32m-> 1122\u001b[0;31m             \u001b[0mself\u001b[0m\u001b[0;34m.\u001b[0m\u001b[0m_engine\u001b[0m \u001b[0;34m=\u001b[0m \u001b[0mCParserWrapper\u001b[0m\u001b[0;34m(\u001b[0m\u001b[0mself\u001b[0m\u001b[0;34m.\u001b[0m\u001b[0mf\u001b[0m\u001b[0;34m,\u001b[0m \u001b[0;34m**\u001b[0m\u001b[0mself\u001b[0m\u001b[0;34m.\u001b[0m\u001b[0moptions\u001b[0m\u001b[0;34m)\u001b[0m\u001b[0;34m\u001b[0m\u001b[0;34m\u001b[0m\u001b[0m\n\u001b[0m\u001b[1;32m   1123\u001b[0m         \u001b[0;32melse\u001b[0m\u001b[0;34m:\u001b[0m\u001b[0;34m\u001b[0m\u001b[0;34m\u001b[0m\u001b[0m\n\u001b[1;32m   1124\u001b[0m             \u001b[0;32mif\u001b[0m \u001b[0mengine\u001b[0m \u001b[0;34m==\u001b[0m \u001b[0;34m'python'\u001b[0m\u001b[0;34m:\u001b[0m\u001b[0;34m\u001b[0m\u001b[0;34m\u001b[0m\u001b[0m\n",
      "\u001b[0;32m/usr/local/lib/python3.7/site-packages/pandas/io/parsers.py\u001b[0m in \u001b[0;36m__init__\u001b[0;34m(self, src, **kwds)\u001b[0m\n\u001b[1;32m   1851\u001b[0m         \u001b[0mkwds\u001b[0m\u001b[0;34m[\u001b[0m\u001b[0;34m'usecols'\u001b[0m\u001b[0;34m]\u001b[0m \u001b[0;34m=\u001b[0m \u001b[0mself\u001b[0m\u001b[0;34m.\u001b[0m\u001b[0musecols\u001b[0m\u001b[0;34m\u001b[0m\u001b[0;34m\u001b[0m\u001b[0m\n\u001b[1;32m   1852\u001b[0m \u001b[0;34m\u001b[0m\u001b[0m\n\u001b[0;32m-> 1853\u001b[0;31m         \u001b[0mself\u001b[0m\u001b[0;34m.\u001b[0m\u001b[0m_reader\u001b[0m \u001b[0;34m=\u001b[0m \u001b[0mparsers\u001b[0m\u001b[0;34m.\u001b[0m\u001b[0mTextReader\u001b[0m\u001b[0;34m(\u001b[0m\u001b[0msrc\u001b[0m\u001b[0;34m,\u001b[0m \u001b[0;34m**\u001b[0m\u001b[0mkwds\u001b[0m\u001b[0;34m)\u001b[0m\u001b[0;34m\u001b[0m\u001b[0;34m\u001b[0m\u001b[0m\n\u001b[0m\u001b[1;32m   1854\u001b[0m         \u001b[0mself\u001b[0m\u001b[0;34m.\u001b[0m\u001b[0munnamed_cols\u001b[0m \u001b[0;34m=\u001b[0m \u001b[0mself\u001b[0m\u001b[0;34m.\u001b[0m\u001b[0m_reader\u001b[0m\u001b[0;34m.\u001b[0m\u001b[0munnamed_cols\u001b[0m\u001b[0;34m\u001b[0m\u001b[0;34m\u001b[0m\u001b[0m\n\u001b[1;32m   1855\u001b[0m \u001b[0;34m\u001b[0m\u001b[0m\n",
      "\u001b[0;32mpandas/_libs/parsers.pyx\u001b[0m in \u001b[0;36mpandas._libs.parsers.TextReader.__cinit__\u001b[0;34m()\u001b[0m\n",
      "\u001b[0;32mpandas/_libs/parsers.pyx\u001b[0m in \u001b[0;36mpandas._libs.parsers.TextReader._setup_parser_source\u001b[0;34m()\u001b[0m\n",
      "\u001b[0;31mFileNotFoundError\u001b[0m: [Errno 2] File b'../data/movieData/ratings.dat' does not exist: b'../data/movieData/ratings.dat'"
     ]
    }
   ],
   "source": [
    "ratingData = pd.read_csv(\"../data/movieData/ratings.dat\")"
   ]
  },
  {
   "cell_type": "markdown",
   "metadata": {},
   "source": [
    "If you look at the documentation for `read_csv`, you'll see that it is very large and provides for lots of different functionality. \n",
    "\n",
    "As a first pass, we just passed the path to the file in as a ```string``` to the `read_csv` function, without any other arguments. "
   ]
  },
  {
   "cell_type": "markdown",
   "metadata": {},
   "source": [
    "Lets take a look at the first few rows and see what we get using the `head` function on our newly loaded dataset `ratingData`. \n",
    "\n",
    "The `head` function returns the first 5 rows by default of the DataFrame you call it on. You can change it to be a larger or smaller number by passing in a positive `integer` into `head` as an argument like so: `ratingData.head(100)`.\n",
    "\n",
    "The function `tail` does the exact same thing, except with the last records in the dataset."
   ]
  },
  {
   "cell_type": "code",
   "execution_count": 4,
   "metadata": {},
   "outputs": [
    {
     "data": {
      "text/html": [
       "<div>\n",
       "<style>\n",
       "    .dataframe thead tr:only-child th {\n",
       "        text-align: right;\n",
       "    }\n",
       "\n",
       "    .dataframe thead th {\n",
       "        text-align: left;\n",
       "    }\n",
       "\n",
       "    .dataframe tbody tr th {\n",
       "        vertical-align: top;\n",
       "    }\n",
       "</style>\n",
       "<table border=\"1\" class=\"dataframe\">\n",
       "  <thead>\n",
       "    <tr style=\"text-align: right;\">\n",
       "      <th></th>\n",
       "      <th>1::1193::5::978300760</th>\n",
       "    </tr>\n",
       "  </thead>\n",
       "  <tbody>\n",
       "    <tr>\n",
       "      <th>0</th>\n",
       "      <td>1::661::3::978302109</td>\n",
       "    </tr>\n",
       "    <tr>\n",
       "      <th>1</th>\n",
       "      <td>1::914::3::978301968</td>\n",
       "    </tr>\n",
       "    <tr>\n",
       "      <th>2</th>\n",
       "      <td>1::3408::4::978300275</td>\n",
       "    </tr>\n",
       "    <tr>\n",
       "      <th>3</th>\n",
       "      <td>1::2355::5::978824291</td>\n",
       "    </tr>\n",
       "    <tr>\n",
       "      <th>4</th>\n",
       "      <td>1::1197::3::978302268</td>\n",
       "    </tr>\n",
       "    <tr>\n",
       "      <th>5</th>\n",
       "      <td>1::1287::5::978302039</td>\n",
       "    </tr>\n",
       "    <tr>\n",
       "      <th>6</th>\n",
       "      <td>1::2804::5::978300719</td>\n",
       "    </tr>\n",
       "    <tr>\n",
       "      <th>7</th>\n",
       "      <td>1::594::4::978302268</td>\n",
       "    </tr>\n",
       "    <tr>\n",
       "      <th>8</th>\n",
       "      <td>1::919::4::978301368</td>\n",
       "    </tr>\n",
       "    <tr>\n",
       "      <th>9</th>\n",
       "      <td>1::595::5::978824268</td>\n",
       "    </tr>\n",
       "    <tr>\n",
       "      <th>10</th>\n",
       "      <td>1::938::4::978301752</td>\n",
       "    </tr>\n",
       "    <tr>\n",
       "      <th>11</th>\n",
       "      <td>1::2398::4::978302281</td>\n",
       "    </tr>\n",
       "    <tr>\n",
       "      <th>12</th>\n",
       "      <td>1::2918::4::978302124</td>\n",
       "    </tr>\n",
       "    <tr>\n",
       "      <th>13</th>\n",
       "      <td>1::1035::5::978301753</td>\n",
       "    </tr>\n",
       "    <tr>\n",
       "      <th>14</th>\n",
       "      <td>1::2791::4::978302188</td>\n",
       "    </tr>\n",
       "    <tr>\n",
       "      <th>15</th>\n",
       "      <td>1::2687::3::978824268</td>\n",
       "    </tr>\n",
       "    <tr>\n",
       "      <th>16</th>\n",
       "      <td>1::2018::4::978301777</td>\n",
       "    </tr>\n",
       "    <tr>\n",
       "      <th>17</th>\n",
       "      <td>1::3105::5::978301713</td>\n",
       "    </tr>\n",
       "    <tr>\n",
       "      <th>18</th>\n",
       "      <td>1::2797::4::978302039</td>\n",
       "    </tr>\n",
       "    <tr>\n",
       "      <th>19</th>\n",
       "      <td>1::2321::3::978302205</td>\n",
       "    </tr>\n",
       "  </tbody>\n",
       "</table>\n",
       "</div>"
      ],
      "text/plain": [
       "    1::1193::5::978300760\n",
       "0    1::661::3::978302109\n",
       "1    1::914::3::978301968\n",
       "2   1::3408::4::978300275\n",
       "3   1::2355::5::978824291\n",
       "4   1::1197::3::978302268\n",
       "5   1::1287::5::978302039\n",
       "6   1::2804::5::978300719\n",
       "7    1::594::4::978302268\n",
       "8    1::919::4::978301368\n",
       "9    1::595::5::978824268\n",
       "10   1::938::4::978301752\n",
       "11  1::2398::4::978302281\n",
       "12  1::2918::4::978302124\n",
       "13  1::1035::5::978301753\n",
       "14  1::2791::4::978302188\n",
       "15  1::2687::3::978824268\n",
       "16  1::2018::4::978301777\n",
       "17  1::3105::5::978301713\n",
       "18  1::2797::4::978302039\n",
       "19  1::2321::3::978302205"
      ]
     },
     "execution_count": 4,
     "metadata": {},
     "output_type": "execute_result"
    }
   ],
   "source": [
    "ratingData.head(20)"
   ]
  },
  {
   "cell_type": "markdown",
   "metadata": {},
   "source": [
    "Ok, well that looks terrible.\n",
    "Lets diagnose the problems we see and make it unterrible: \n",
    "\n",
    "1. Everything is in a single column (so we can't separately look at ratings, user ids,movie ids, or timestamps)!\n",
    "2. The first row is used as the name of the only column (we call this the **header**), which is no good, as the first record shouldn't be the header, but an actual record.\n",
    "3. The timestamp is in a format that doesn't really tell us anything useful about when the ratings occurred.\n",
    "\n",
    "So, lets use some of the additional functionality of `read_csv` to load this dataset in cleanly, and hopefully that will solve problems **1 and 2**."
   ]
  },
  {
   "cell_type": "code",
   "execution_count": 5,
   "metadata": {},
   "outputs": [
    {
     "name": "stderr",
     "output_type": "stream",
     "text": [
      "/usr/local/lib/python3.6/site-packages/ipykernel_launcher.py:1: ParserWarning: Falling back to the 'python' engine because the 'c' engine does not support regex separators (separators > 1 char and different from '\\s+' are interpreted as regex); you can avoid this warning by specifying engine='python'.\n",
      "  \"\"\"Entry point for launching an IPython kernel.\n"
     ]
    }
   ],
   "source": [
    "ratingData = pd.read_csv(\"../data/movieData/ratings.dat\",sep = \"::\",names = ['UserID','MovieID','Rating','Timestamp'])"
   ]
  },
  {
   "cell_type": "markdown",
   "metadata": {},
   "source": [
    "Don't worry about the `ParserWarning:` message (if you get one) as it doesn't affect what we are doing, and lets just take a look at the data now. I'll explain exactly what I did below."
   ]
  },
  {
   "cell_type": "code",
   "execution_count": 6,
   "metadata": {},
   "outputs": [
    {
     "data": {
      "text/html": [
       "<div>\n",
       "<style>\n",
       "    .dataframe thead tr:only-child th {\n",
       "        text-align: right;\n",
       "    }\n",
       "\n",
       "    .dataframe thead th {\n",
       "        text-align: left;\n",
       "    }\n",
       "\n",
       "    .dataframe tbody tr th {\n",
       "        vertical-align: top;\n",
       "    }\n",
       "</style>\n",
       "<table border=\"1\" class=\"dataframe\">\n",
       "  <thead>\n",
       "    <tr style=\"text-align: right;\">\n",
       "      <th></th>\n",
       "      <th>UserID</th>\n",
       "      <th>MovieID</th>\n",
       "      <th>Rating</th>\n",
       "      <th>Timestamp</th>\n",
       "    </tr>\n",
       "  </thead>\n",
       "  <tbody>\n",
       "    <tr>\n",
       "      <th>0</th>\n",
       "      <td>1</td>\n",
       "      <td>1193</td>\n",
       "      <td>5</td>\n",
       "      <td>978300760</td>\n",
       "    </tr>\n",
       "    <tr>\n",
       "      <th>1</th>\n",
       "      <td>1</td>\n",
       "      <td>661</td>\n",
       "      <td>3</td>\n",
       "      <td>978302109</td>\n",
       "    </tr>\n",
       "    <tr>\n",
       "      <th>2</th>\n",
       "      <td>1</td>\n",
       "      <td>914</td>\n",
       "      <td>3</td>\n",
       "      <td>978301968</td>\n",
       "    </tr>\n",
       "    <tr>\n",
       "      <th>3</th>\n",
       "      <td>1</td>\n",
       "      <td>3408</td>\n",
       "      <td>4</td>\n",
       "      <td>978300275</td>\n",
       "    </tr>\n",
       "    <tr>\n",
       "      <th>4</th>\n",
       "      <td>1</td>\n",
       "      <td>2355</td>\n",
       "      <td>5</td>\n",
       "      <td>978824291</td>\n",
       "    </tr>\n",
       "  </tbody>\n",
       "</table>\n",
       "</div>"
      ],
      "text/plain": [
       "   UserID  MovieID  Rating  Timestamp\n",
       "0       1     1193       5  978300760\n",
       "1       1      661       3  978302109\n",
       "2       1      914       3  978301968\n",
       "3       1     3408       4  978300275\n",
       "4       1     2355       5  978824291"
      ]
     },
     "execution_count": 6,
     "metadata": {},
     "output_type": "execute_result"
    }
   ],
   "source": [
    "ratingData.head()"
   ]
  },
  {
   "cell_type": "code",
   "execution_count": 7,
   "metadata": {},
   "outputs": [
    {
     "data": {
      "text/html": [
       "<div>\n",
       "<style>\n",
       "    .dataframe thead tr:only-child th {\n",
       "        text-align: right;\n",
       "    }\n",
       "\n",
       "    .dataframe thead th {\n",
       "        text-align: left;\n",
       "    }\n",
       "\n",
       "    .dataframe tbody tr th {\n",
       "        vertical-align: top;\n",
       "    }\n",
       "</style>\n",
       "<table border=\"1\" class=\"dataframe\">\n",
       "  <thead>\n",
       "    <tr style=\"text-align: right;\">\n",
       "      <th></th>\n",
       "      <th>UserID</th>\n",
       "      <th>MovieID</th>\n",
       "      <th>Rating</th>\n",
       "      <th>Timestamp</th>\n",
       "    </tr>\n",
       "  </thead>\n",
       "  <tbody>\n",
       "    <tr>\n",
       "      <th>1000189</th>\n",
       "      <td>6040</td>\n",
       "      <td>2010</td>\n",
       "      <td>5</td>\n",
       "      <td>957716795</td>\n",
       "    </tr>\n",
       "    <tr>\n",
       "      <th>1000190</th>\n",
       "      <td>6040</td>\n",
       "      <td>2011</td>\n",
       "      <td>4</td>\n",
       "      <td>956716113</td>\n",
       "    </tr>\n",
       "    <tr>\n",
       "      <th>1000191</th>\n",
       "      <td>6040</td>\n",
       "      <td>3751</td>\n",
       "      <td>4</td>\n",
       "      <td>964828782</td>\n",
       "    </tr>\n",
       "    <tr>\n",
       "      <th>1000192</th>\n",
       "      <td>6040</td>\n",
       "      <td>2019</td>\n",
       "      <td>5</td>\n",
       "      <td>956703977</td>\n",
       "    </tr>\n",
       "    <tr>\n",
       "      <th>1000193</th>\n",
       "      <td>6040</td>\n",
       "      <td>541</td>\n",
       "      <td>4</td>\n",
       "      <td>956715288</td>\n",
       "    </tr>\n",
       "    <tr>\n",
       "      <th>1000194</th>\n",
       "      <td>6040</td>\n",
       "      <td>1077</td>\n",
       "      <td>5</td>\n",
       "      <td>964828799</td>\n",
       "    </tr>\n",
       "    <tr>\n",
       "      <th>1000195</th>\n",
       "      <td>6040</td>\n",
       "      <td>1079</td>\n",
       "      <td>2</td>\n",
       "      <td>956715648</td>\n",
       "    </tr>\n",
       "    <tr>\n",
       "      <th>1000196</th>\n",
       "      <td>6040</td>\n",
       "      <td>549</td>\n",
       "      <td>4</td>\n",
       "      <td>956704746</td>\n",
       "    </tr>\n",
       "    <tr>\n",
       "      <th>1000197</th>\n",
       "      <td>6040</td>\n",
       "      <td>2020</td>\n",
       "      <td>3</td>\n",
       "      <td>956715288</td>\n",
       "    </tr>\n",
       "    <tr>\n",
       "      <th>1000198</th>\n",
       "      <td>6040</td>\n",
       "      <td>2021</td>\n",
       "      <td>3</td>\n",
       "      <td>956716374</td>\n",
       "    </tr>\n",
       "    <tr>\n",
       "      <th>1000199</th>\n",
       "      <td>6040</td>\n",
       "      <td>2022</td>\n",
       "      <td>5</td>\n",
       "      <td>956716207</td>\n",
       "    </tr>\n",
       "    <tr>\n",
       "      <th>1000200</th>\n",
       "      <td>6040</td>\n",
       "      <td>2028</td>\n",
       "      <td>5</td>\n",
       "      <td>956704519</td>\n",
       "    </tr>\n",
       "    <tr>\n",
       "      <th>1000201</th>\n",
       "      <td>6040</td>\n",
       "      <td>1080</td>\n",
       "      <td>4</td>\n",
       "      <td>957717322</td>\n",
       "    </tr>\n",
       "    <tr>\n",
       "      <th>1000202</th>\n",
       "      <td>6040</td>\n",
       "      <td>1089</td>\n",
       "      <td>4</td>\n",
       "      <td>956704996</td>\n",
       "    </tr>\n",
       "    <tr>\n",
       "      <th>1000203</th>\n",
       "      <td>6040</td>\n",
       "      <td>1090</td>\n",
       "      <td>3</td>\n",
       "      <td>956715518</td>\n",
       "    </tr>\n",
       "    <tr>\n",
       "      <th>1000204</th>\n",
       "      <td>6040</td>\n",
       "      <td>1091</td>\n",
       "      <td>1</td>\n",
       "      <td>956716541</td>\n",
       "    </tr>\n",
       "    <tr>\n",
       "      <th>1000205</th>\n",
       "      <td>6040</td>\n",
       "      <td>1094</td>\n",
       "      <td>5</td>\n",
       "      <td>956704887</td>\n",
       "    </tr>\n",
       "    <tr>\n",
       "      <th>1000206</th>\n",
       "      <td>6040</td>\n",
       "      <td>562</td>\n",
       "      <td>5</td>\n",
       "      <td>956704746</td>\n",
       "    </tr>\n",
       "    <tr>\n",
       "      <th>1000207</th>\n",
       "      <td>6040</td>\n",
       "      <td>1096</td>\n",
       "      <td>4</td>\n",
       "      <td>956715648</td>\n",
       "    </tr>\n",
       "    <tr>\n",
       "      <th>1000208</th>\n",
       "      <td>6040</td>\n",
       "      <td>1097</td>\n",
       "      <td>4</td>\n",
       "      <td>956715569</td>\n",
       "    </tr>\n",
       "  </tbody>\n",
       "</table>\n",
       "</div>"
      ],
      "text/plain": [
       "         UserID  MovieID  Rating  Timestamp\n",
       "1000189    6040     2010       5  957716795\n",
       "1000190    6040     2011       4  956716113\n",
       "1000191    6040     3751       4  964828782\n",
       "1000192    6040     2019       5  956703977\n",
       "1000193    6040      541       4  956715288\n",
       "1000194    6040     1077       5  964828799\n",
       "1000195    6040     1079       2  956715648\n",
       "1000196    6040      549       4  956704746\n",
       "1000197    6040     2020       3  956715288\n",
       "1000198    6040     2021       3  956716374\n",
       "1000199    6040     2022       5  956716207\n",
       "1000200    6040     2028       5  956704519\n",
       "1000201    6040     1080       4  957717322\n",
       "1000202    6040     1089       4  956704996\n",
       "1000203    6040     1090       3  956715518\n",
       "1000204    6040     1091       1  956716541\n",
       "1000205    6040     1094       5  956704887\n",
       "1000206    6040      562       5  956704746\n",
       "1000207    6040     1096       4  956715648\n",
       "1000208    6040     1097       4  956715569"
      ]
     },
     "execution_count": 7,
     "metadata": {},
     "output_type": "execute_result"
    }
   ],
   "source": [
    "# try putting a number in between the parentheses () in the .head() function below\n",
    "#YOUR CODE HERE\n",
    "ratingData.tail(20)"
   ]
  },
  {
   "cell_type": "markdown",
   "metadata": {},
   "source": [
    "MUCH BETTER!\n",
    "\n",
    "So, what did we just do?\n",
    "\n",
    "The function `read_csv` has lots of functionality, as I had mentioned (and as you saw when you pulled up its documentation). One of its options is called `sep`, and allows you to provide your own separator for dividing the columns that you have in your dataset. \n",
    "\n",
    "The default separator for `read_csv` is the comma (`,`), since `csv` stands for **c**omma **s**eparated **v**alues. \n",
    "\n",
    "However, since `::` separated the fields in this dataset, we supplied that as an argument (again, as a `string`) to the argument `sep` instead.\n",
    "\n",
    "A separate argument, `names`, allows you to pass in your own list of names, again as `strings`, to `read_csv` to be treated as the column names (or the **header**) of the dataset. Since we knew what the names for the columns should be, we put them in.\n",
    "\n",
    "Now that our dataset looks more reasonable, lets do a couple brief sanity checks and then fix issue **3.**"
   ]
  },
  {
   "cell_type": "markdown",
   "metadata": {},
   "source": [
    "Lets do a sanity check and make sure that:\n",
    "\n",
    "1. All our data is in the format that we expect (everything is an `int`).\n",
    "2. The ratings range across the values we expect (1-5 and nothing else).\n",
    "\n",
    "The property `dtypes` is accessible from our `ratingData` object, and tells us the types of the data in all of our columns (which addresses **1.**)."
   ]
  },
  {
   "cell_type": "code",
   "execution_count": 8,
   "metadata": {},
   "outputs": [
    {
     "data": {
      "text/plain": [
       "UserID       int64\n",
       "MovieID      int64\n",
       "Rating       int64\n",
       "Timestamp    int64\n",
       "dtype: object"
      ]
     },
     "execution_count": 8,
     "metadata": {},
     "output_type": "execute_result"
    }
   ],
   "source": [
    "ratingData.dtypes"
   ]
  },
  {
   "cell_type": "markdown",
   "metadata": {},
   "source": [
    "Ok, so everything appears to be an `int` as `int64` is an `integer` (positive or negative whole number) data type that can represent very large numbers.\n",
    "\n",
    "As an important aside about **pandas**, all the values in a given column have to be of the same type. So, **if even one value was not a whole number, (1.0 for example), the values for the entire column would be inferred to be something else (either a `float64` or an `object` if any of the entries were `strings`).**\n",
    "\n",
    "Now let's address **2.** by looking at all of the unique entries in the `Rating` column using `unique` (we expect there to be 5 unique values, 1-5 inclusive)."
   ]
  },
  {
   "cell_type": "markdown",
   "metadata": {},
   "source": [
    "As long as your column names do not contain strange characters (spaces and escape characters like !\\/), you can simply access the values in a column by doing `dataFrameName.columnName` where `dataFrameName` is the name of your `DataFrame` object and `columnName` is the name of your column.\n",
    "\n",
    "The function `unique` is accessible from our `ratingData` object, and simply returns all of the unique values within our column of choice as a `List`. You can also use `nunique` to simply return the number of distinct elements (as opposed to the elements themselves:"
   ]
  },
  {
   "cell_type": "code",
   "execution_count": 9,
   "metadata": {},
   "outputs": [
    {
     "name": "stdout",
     "output_type": "stream",
     "text": [
      "Unique values: [5 3 4 2 1]\n",
      "Number of unique values: 5\n"
     ]
    }
   ],
   "source": [
    "print(\"Unique values:\",ratingData.Rating.unique())\n",
    "print(\"Number of unique values:\",ratingData.Rating.nunique())"
   ]
  },
  {
   "cell_type": "code",
   "execution_count": 10,
   "metadata": {},
   "outputs": [],
   "source": [
    "# try calling the .unique() function by using other column names in the dataset.\n",
    "# Data science is all about getting to know your data, so get to know the unique values of the columns in the dataset!\n",
    "#YOUR CODE HERE\n"
   ]
  },
  {
   "cell_type": "markdown",
   "metadata": {},
   "source": [
    "However, if your dataset contains weird column names, you have another way of accessing columns:"
   ]
  },
  {
   "cell_type": "code",
   "execution_count": 11,
   "metadata": {},
   "outputs": [
    {
     "data": {
      "text/plain": [
       "array([5, 3, 4, 2, 1])"
      ]
     },
     "execution_count": 11,
     "metadata": {},
     "output_type": "execute_result"
    }
   ],
   "source": [
    "ratingData[\"Rating\"].unique()"
   ]
  },
  {
   "cell_type": "markdown",
   "metadata": {},
   "source": [
    "In this way of accessing the `Rating` column, we have to pass the name of the column as a `string` (in quotes \"\").\n",
    "\n",
    "What if we wanted to access multiple columns? Here's how you would do that (this is the only way):"
   ]
  },
  {
   "cell_type": "code",
   "execution_count": 4,
   "metadata": {},
   "outputs": [
    {
     "ename": "NameError",
     "evalue": "name 'ratingData' is not defined",
     "output_type": "error",
     "traceback": [
      "\u001b[0;31m---------------------------------------------------------------------------\u001b[0m",
      "\u001b[0;31mNameError\u001b[0m                                 Traceback (most recent call last)",
      "\u001b[0;32m<ipython-input-4-56fbbc8b7c2b>\u001b[0m in \u001b[0;36m<module>\u001b[0;34m\u001b[0m\n\u001b[0;32m----> 1\u001b[0;31m \u001b[0mratingData\u001b[0m\u001b[0;34m[\u001b[0m\u001b[0;34m[\u001b[0m\u001b[0;34m\"Rating\"\u001b[0m\u001b[0;34m,\u001b[0m\u001b[0;34m\"UserID\"\u001b[0m\u001b[0;34m]\u001b[0m\u001b[0;34m]\u001b[0m\u001b[0;34m\u001b[0m\u001b[0;34m\u001b[0m\u001b[0m\n\u001b[0m\u001b[1;32m      2\u001b[0m \u001b[0;31m##OR\u001b[0m\u001b[0;34m\u001b[0m\u001b[0;34m\u001b[0m\u001b[0;34m\u001b[0m\u001b[0m\n\u001b[1;32m      3\u001b[0m \u001b[0mmultipleColumns\u001b[0m \u001b[0;34m=\u001b[0m \u001b[0;34m[\u001b[0m\u001b[0;34m\"Rating\"\u001b[0m\u001b[0;34m,\u001b[0m\u001b[0;34m\"UserID\"\u001b[0m\u001b[0;34m]\u001b[0m\u001b[0;34m\u001b[0m\u001b[0;34m\u001b[0m\u001b[0m\n\u001b[1;32m      4\u001b[0m \u001b[0mratingData\u001b[0m\u001b[0;34m[\u001b[0m\u001b[0mmultipleColumns\u001b[0m\u001b[0;34m]\u001b[0m\u001b[0;34m\u001b[0m\u001b[0;34m\u001b[0m\u001b[0m\n",
      "\u001b[0;31mNameError\u001b[0m: name 'ratingData' is not defined"
     ]
    }
   ],
   "source": [
    "ratingData[[\"Rating\",\"UserID\"]]\n",
    "##OR\n",
    "multipleColumns = [\"Rating\",\"UserID\"]\n",
    "ratingData[multipleColumns]"
   ]
  },
  {
   "cell_type": "markdown",
   "metadata": {},
   "source": [
    "In the multi-column case, you must pass the columns you are interested in as a `List` of `string` values (or as a `variable` that points to that list)."
   ]
  },
  {
   "cell_type": "markdown",
   "metadata": {},
   "source": [
    "Now, on to fixing issue **3**.\n",
    "\n",
    "**pandas** has pretty fantastic date conversion functionality, as long as you know the format of the date data you are using. We know the format of our `Timestamp` column, so we are good to go.\n",
    "\n",
    "As a refresher, it was seconds since epoch time (12:00AM January 1, 1970).\n",
    "\n",
    "The pandas library has a function called `to_datetime` that, when given a column, and some optional parameters, converts the timestamp into nice, prettily formatted text.\n",
    "\n",
    "Lets create a new column called `FormattedTimestamp` by formatting our `Timestamp` column:"
   ]
  },
  {
   "cell_type": "code",
   "execution_count": 14,
   "metadata": {},
   "outputs": [
    {
     "data": {
      "text/plain": [
       "0         2000-12-31 22:12:40\n",
       "1         2000-12-31 22:35:09\n",
       "2         2000-12-31 22:32:48\n",
       "3         2000-12-31 22:04:35\n",
       "4         2001-01-06 23:38:11\n",
       "5         2000-12-31 22:37:48\n",
       "6         2000-12-31 22:33:59\n",
       "7         2000-12-31 22:11:59\n",
       "8         2000-12-31 22:37:48\n",
       "9         2000-12-31 22:22:48\n",
       "10        2001-01-06 23:37:48\n",
       "11        2000-12-31 22:29:12\n",
       "12        2000-12-31 22:38:01\n",
       "13        2000-12-31 22:35:24\n",
       "14        2000-12-31 22:29:13\n",
       "15        2000-12-31 22:36:28\n",
       "16        2001-01-06 23:37:48\n",
       "17        2000-12-31 22:29:37\n",
       "18        2000-12-31 22:28:33\n",
       "19        2000-12-31 22:33:59\n",
       "20        2000-12-31 22:36:45\n",
       "21        2000-12-31 22:12:40\n",
       "22        2000-12-31 22:00:55\n",
       "23        2001-01-06 23:36:35\n",
       "24        2000-12-31 22:01:43\n",
       "25        2001-01-06 23:39:11\n",
       "26        2000-12-31 22:32:33\n",
       "27        2000-12-31 22:00:55\n",
       "28        2001-01-06 23:35:39\n",
       "29        2001-01-06 23:37:48\n",
       "                  ...        \n",
       "1000179   2000-04-25 23:16:24\n",
       "1000180   2000-04-26 02:17:35\n",
       "1000181   2000-04-25 23:22:52\n",
       "1000182   2000-05-07 16:41:18\n",
       "1000183   2000-06-14 08:34:14\n",
       "1000184   2000-04-26 02:19:29\n",
       "1000185   2000-04-26 02:33:58\n",
       "1000186   2000-04-25 23:10:19\n",
       "1000187   2000-04-26 02:31:34\n",
       "1000188   2000-07-28 23:58:54\n",
       "1000189   2000-05-07 16:26:35\n",
       "1000190   2000-04-26 02:28:33\n",
       "1000191   2000-07-28 23:59:42\n",
       "1000192   2000-04-25 23:06:17\n",
       "1000193   2000-04-26 02:14:48\n",
       "1000194   2000-07-28 23:59:59\n",
       "1000195   2000-04-26 02:20:48\n",
       "1000196   2000-04-25 23:19:06\n",
       "1000197   2000-04-26 02:14:48\n",
       "1000198   2000-04-26 02:32:54\n",
       "1000199   2000-04-26 02:30:07\n",
       "1000200   2000-04-25 23:15:19\n",
       "1000201   2000-05-07 16:35:22\n",
       "1000202   2000-04-25 23:23:16\n",
       "1000203   2000-04-26 02:18:38\n",
       "1000204   2000-04-26 02:35:41\n",
       "1000205   2000-04-25 23:21:27\n",
       "1000206   2000-04-25 23:19:06\n",
       "1000207   2000-04-26 02:20:48\n",
       "1000208   2000-04-26 02:19:29\n",
       "Name: FormattedTimestamp, Length: 1000209, dtype: datetime64[ns]"
      ]
     },
     "execution_count": 14,
     "metadata": {},
     "output_type": "execute_result"
    }
   ],
   "source": [
    "ratingData['FormattedTimestamp'] = pd.to_datetime(ratingData.Timestamp,unit = 's')\n",
    "ratingData.FormattedTimestamp"
   ]
  },
  {
   "cell_type": "markdown",
   "metadata": {},
   "source": [
    "Ok, there is a lot going on here, we are creating a new column `FormattedTimestamp` from a computation on another column, so lets work through it. \n",
    "\n",
    "To create a new column, you just use the same syntax as when you want to select a column, except you use a name that isn't found in the dataset's column list. \n",
    "\n",
    "Everything following the `=` sign in the expression is what you want to put into that new column.\n",
    "\n",
    "And what we did following the equals sign is:\n",
    "\n",
    "1. We passed the `Timestamp` column of our ratingData dataset as a mandatory parameter.\n",
    "2. We supplied an optional string parameter called `unit` with the unit of our data as a `string`.\n",
    "\n",
    "(Look at the documentation, and you can see there is lots more stuff you can do with `to_datetime`!).\n",
    "\n",
    "Now, we can simply remove the old `Timestamp` column, since we don't need it anymore!\n",
    "\n",
    "To do so, you simply pass the name of the dataframe and the column you are trying to delete to the `del` function:"
   ]
  },
  {
   "cell_type": "code",
   "execution_count": 15,
   "metadata": {},
   "outputs": [
    {
     "name": "stdout",
     "output_type": "stream",
     "text": [
      "Columns before removal:  Index(['UserID', 'MovieID', 'Rating', 'Timestamp', 'FormattedTimestamp'], dtype='object')\n",
      "Columns after removal:  Index(['UserID', 'MovieID', 'Rating', 'FormattedTimestamp'], dtype='object')\n"
     ]
    }
   ],
   "source": [
    "print(\"Columns before removal: \", ratingData.columns)\n",
    "del ratingData[\"Timestamp\"]\n",
    "print(\"Columns after removal: \", ratingData.columns)"
   ]
  },
  {
   "cell_type": "markdown",
   "metadata": {},
   "source": [
    "The `del` operation simply deletes the columns you specify from the given `DataFrame`. Remember that once you've deleted a given column, you can't delete it again, so executing the above cell muliple times will throw an error."
   ]
  },
  {
   "cell_type": "markdown",
   "metadata": {},
   "source": [
    "One more thing about dates before we move on, once you've got them converted to the pretty format we saw above, you can access all kinds of information from each date by calling the `dt` module from within the column that stores your dates.\n",
    "\n",
    "So, as an example, getting the year of every row in our dataset is as simple as:"
   ]
  },
  {
   "cell_type": "code",
   "execution_count": 16,
   "metadata": {},
   "outputs": [
    {
     "data": {
      "text/plain": [
       "0          31\n",
       "1          31\n",
       "2          31\n",
       "3          31\n",
       "4           6\n",
       "5          31\n",
       "6          31\n",
       "7          31\n",
       "8          31\n",
       "9          31\n",
       "10          6\n",
       "11         31\n",
       "12         31\n",
       "13         31\n",
       "14         31\n",
       "15         31\n",
       "16          6\n",
       "17         31\n",
       "18         31\n",
       "19         31\n",
       "20         31\n",
       "21         31\n",
       "22         31\n",
       "23          6\n",
       "24         31\n",
       "25          6\n",
       "26         31\n",
       "27         31\n",
       "28          6\n",
       "29          6\n",
       "           ..\n",
       "1000179    25\n",
       "1000180    26\n",
       "1000181    25\n",
       "1000182     7\n",
       "1000183    14\n",
       "1000184    26\n",
       "1000185    26\n",
       "1000186    25\n",
       "1000187    26\n",
       "1000188    28\n",
       "1000189     7\n",
       "1000190    26\n",
       "1000191    28\n",
       "1000192    25\n",
       "1000193    26\n",
       "1000194    28\n",
       "1000195    26\n",
       "1000196    25\n",
       "1000197    26\n",
       "1000198    26\n",
       "1000199    26\n",
       "1000200    25\n",
       "1000201     7\n",
       "1000202    25\n",
       "1000203    26\n",
       "1000204    26\n",
       "1000205    25\n",
       "1000206    25\n",
       "1000207    26\n",
       "1000208    26\n",
       "Name: FormattedTimestamp, Length: 1000209, dtype: int64"
      ]
     },
     "execution_count": 16,
     "metadata": {},
     "output_type": "execute_result"
    }
   ],
   "source": [
    "ratingData.FormattedTimestamp.dt.day"
   ]
  },
  {
   "cell_type": "markdown",
   "metadata": {},
   "source": [
    "Other properties (like day, hour, day of month, etc.) are available as well.\n",
    "\n",
    "Again, just check the [timestamp documentation.](http://pandas.pydata.org/pandas-docs/stable/timeseries.html)."
   ]
  },
  {
   "cell_type": "code",
   "execution_count": 17,
   "metadata": {},
   "outputs": [],
   "source": [
    "#try using the other functions found in the dt module: call ratingData.FormattedTimestamp.dt. and the Tab key\n",
    "#to see what else is offered\n",
    "#YOUR CODE HERE\n",
    "\n",
    "\n"
   ]
  },
  {
   "cell_type": "markdown",
   "metadata": {},
   "source": [
    "One note about the outputs of calling these datetime **properties.** When you call the property on a single value (like a single row) or on an entire column you will get a `Series` object returned to you, which is the **pandas** representation of a single column.\n",
    "\n",
    "`Series` objects are different from `DataFrame` objects (which we've been working with exclusively thus far) because they can be appended (attached) as new columns to your dataset (which is already a `DataFrame` object) without any problems.\n",
    "\n",
    "So if you want to store the `year` of every row in a new column called `year` then do:"
   ]
  },
  {
   "cell_type": "code",
   "execution_count": 18,
   "metadata": {},
   "outputs": [],
   "source": [
    "ratingData[\"year\"] = ratingData.FormattedTimestamp.dt.year"
   ]
  },
  {
   "cell_type": "code",
   "execution_count": 19,
   "metadata": {},
   "outputs": [],
   "source": [
    "#make another column called \"month\" and call the appropriate function to store the month of each rating\n",
    "#do the same thing for \"day\", just to get a good handle on the kinds of things you can do\n",
    "#YOUR CODE HERE\n",
    "\n",
    "ratingData[\"month\"] = ratingData.FormattedTimestamp.dt.month"
   ]
  },
  {
   "cell_type": "markdown",
   "metadata": {},
   "source": [
    "Let's move on and get a better feel for our dataset now.\n",
    "\n",
    "What if we wanted to know the exact shape of our dataset? That is, the *exact* number of rows and columns found in it? (I told you there were ~1,000,000 ratings here, but exactly how many are there?\n",
    "\n",
    "We can use another **property** that is available in our `ratingData` object called `shape`:"
   ]
  },
  {
   "cell_type": "code",
   "execution_count": 20,
   "metadata": {},
   "outputs": [],
   "source": [
    "(numRows,numColumns) = ratingData.shape"
   ]
  },
  {
   "cell_type": "code",
   "execution_count": 21,
   "metadata": {},
   "outputs": [
    {
     "name": "stdout",
     "output_type": "stream",
     "text": [
      "1000209\n",
      "6\n"
     ]
    }
   ],
   "source": [
    "print(numRows)\n",
    "print(numColumns)"
   ]
  },
  {
   "cell_type": "markdown",
   "metadata": {},
   "source": [
    "The `shape` property (which doesn't have any documentation, unfortunately), tells us the number of dimensions and the number of values in each dimension in our dataset (we can have 1, 2, or more dimensions in our dataset, after all), as a tuple (a very common datatype in **Python** that is of a fixed size and cannot be changed)."
   ]
  },
  {
   "cell_type": "markdown",
   "metadata": {},
   "source": [
    "As a brief aside, you saw that I just said **property** and not **function** right? \n",
    "\n",
    "That means, this value is available to us as part of the dataset intrinsically and cannot be changed based on inputs (in CS parlance, it is read-only), and doesn't have to be called like `unique(), head(), tail(), max(), mean()` and all the other functions that are re-computed on the dataset because they can effectively change! \n",
    "\n",
    "(Another example property that is available to you and that you've already used is `dtypes`)"
   ]
  },
  {
   "cell_type": "markdown",
   "metadata": {},
   "source": [
    "Ok, back to `shape`.\n",
    "\n",
    "The number of dimensions in our dataset is the arity of the tuple (the number of commas + 1) and the numbers between commas tell us the number of distinct values in that dimension. So the **arity is 2 because all we have are rows and columns.** \n",
    "\n",
    "So, we have **1,000,209 distinct values in the first dimension** (here they are our ratings, or **rows**) and **4 distinct values in the second dimension** (here the second dimension is our **columns**, and is as we expect, since we just added a new column and deleted an old one)."
   ]
  },
  {
   "cell_type": "markdown",
   "metadata": {},
   "source": [
    "Now that you have a bit of **pandas** functionality at your disposal, you should give me the answer to the following questions by writing a bit of code:\n",
    "\n",
    "1. How many users are there in the dataset?\n",
    "2. How many movies are in the dataset?\n",
    "3. How many unique times are in the dataset?\n",
    "\n",
    "**Hint: All you need is the `unique()` function and the `shape` property to answer these questions!**"
   ]
  },
  {
   "cell_type": "code",
   "execution_count": 22,
   "metadata": {},
   "outputs": [
    {
     "name": "stdout",
     "output_type": "stream",
     "text": [
      "There are 6040 unique users, 3706  unique movies, and 458455 unique times in this dataset.\n"
     ]
    }
   ],
   "source": [
    "##WRITE YOUR CODE HERE, replace \"pass\" with your code in all 3 cases\n",
    "numUsers = ratingData.UserID.unique().shape\n",
    "numMovies = ratingData.MovieID.unique().shape\n",
    "numTimes = ratingData.FormattedTimestamp.unique().shape\n",
    "\n",
    "print(\"There are\",numUsers[0],\"unique users,\",numMovies[0],\\\n",
    "\" unique movies, and\",numTimes[0],\"unique times in this dataset.\")"
   ]
  },
  {
   "cell_type": "markdown",
   "metadata": {},
   "source": [
    "Awesome! You've written your first bit of code using **pandas** and have actually answered some useful questions about this dataset! Pats on the back all around, and lets keep exploring!"
   ]
  },
  {
   "cell_type": "markdown",
   "metadata": {},
   "source": [
    "Now, let's look at the ratings in the dataset to get a feel for their central values and spread:"
   ]
  },
  {
   "cell_type": "code",
   "execution_count": 24,
   "metadata": {},
   "outputs": [
    {
     "name": "stdout",
     "output_type": "stream",
     "text": [
      "The average rating in the dataset is: 3.58156445303\n",
      "The middle rating in the dataset is: 4.0\n",
      "The standard deviation of the ratings is: 1.11710184537\n"
     ]
    }
   ],
   "source": [
    "print(\"The average rating in the dataset is:\",ratingData.Rating.mean())\n",
    "print(\"The middle rating in the dataset is:\",ratingData.Rating.median())\n",
    "print(\"The standard deviation of the ratings is:\",ratingData.Rating.std())"
   ]
  },
  {
   "cell_type": "markdown",
   "metadata": {},
   "source": [
    "So it looks like the people in our dataset don't like to rate movies too low, as the movies have  an average rating >3 (which is supposed to be average on a 1-5 scale).\n",
    "\n",
    "The functions `mean`,`median`, and `std` compute exactly what you expect (the mean, median, and standard deviation {or spread} of a given set of values) and can even be applied to the entire dataset (although in our case, that doesnt make too much sense as all the other columns, except `Timestamp` are numeric mappings of categorical data)."
   ]
  },
  {
   "cell_type": "code",
   "execution_count": 25,
   "metadata": {},
   "outputs": [
    {
     "data": {
      "text/plain": [
       "UserID     3024.512348\n",
       "MovieID    1865.539898\n",
       "Rating        3.581564\n",
       "year       2000.126168\n",
       "month         8.710371\n",
       "dtype: float64"
      ]
     },
     "execution_count": 25,
     "metadata": {},
     "output_type": "execute_result"
    }
   ],
   "source": [
    "ratingData.mean()"
   ]
  },
  {
   "cell_type": "code",
   "execution_count": 26,
   "metadata": {},
   "outputs": [
    {
     "data": {
      "text/plain": [
       "UserID     3070.0\n",
       "MovieID    1835.0\n",
       "Rating        4.0\n",
       "year       2000.0\n",
       "month         9.0\n",
       "dtype: float64"
      ]
     },
     "execution_count": 26,
     "metadata": {},
     "output_type": "execute_result"
    }
   ],
   "source": [
    "ratingData.median()"
   ]
  },
  {
   "cell_type": "code",
   "execution_count": 27,
   "metadata": {},
   "outputs": [
    {
     "data": {
      "text/plain": [
       "UserID                                  1\n",
       "MovieID                                 1\n",
       "Rating                                  1\n",
       "FormattedTimestamp    2000-04-25 23:05:32\n",
       "year                                 2000\n",
       "month                                   1\n",
       "dtype: object"
      ]
     },
     "execution_count": 27,
     "metadata": {},
     "output_type": "execute_result"
    }
   ],
   "source": [
    "ratingData.min()"
   ]
  },
  {
   "cell_type": "markdown",
   "metadata": {},
   "source": [
    "Other descriptive stats can be computed as well (min/max, sum, variance, skew, kurtosis, etc.). Just take a look at the [descriptive statistics](http://pandas.pydata.org/pandas-docs/stable/basics.html#descriptive-statistics) documentation!  "
   ]
  },
  {
   "cell_type": "code",
   "execution_count": 28,
   "metadata": {},
   "outputs": [],
   "source": [
    "#Look at the descriptive statistics documentation and print a couple more descriptive stats on just the \n",
    "#\"Rating\" column. You get to choose what stats you want to print\n",
    "#YOUR CODE HERE\n",
    "\n",
    "\n"
   ]
  },
  {
   "cell_type": "markdown",
   "metadata": {},
   "source": [
    "Now time for a little trick! \n",
    "\n",
    "If you want all these basic statistics and a few more, just use the `describe` function, which works just like the others mentioned above (you can call it on just a single column, or the whole dataset)."
   ]
  },
  {
   "cell_type": "code",
   "execution_count": 29,
   "metadata": {},
   "outputs": [
    {
     "data": {
      "text/plain": [
       "4    348971\n",
       "3    261197\n",
       "5    226310\n",
       "2    107557\n",
       "1     56174\n",
       "Name: Rating, dtype: int64"
      ]
     },
     "execution_count": 29,
     "metadata": {},
     "output_type": "execute_result"
    }
   ],
   "source": [
    "ratingData.Rating.value_counts()"
   ]
  },
  {
   "cell_type": "markdown",
   "metadata": {},
   "source": [
    "Now lets learn how to subselect values within dataframes.\n",
    "\n",
    "Subselection in **pandas** works along the following very common pattern:\n",
    "\n",
    "1. You create a condition that can be evaluated to either **true** or **false** for every row in the dataset and store the outcome in a variable (this is traditionally called a **mask**).\n",
    "2. You apply that **mask** onto your `DataFrame` (dataset).\n",
    "\n",
    "Let's try this subselection + application with the ratings in our dataset by only getting all of the really low ratings (lets say low ratings are those that are < 3) in our dataset.\n",
    "\n",
    "We will create a mask that expresses our \"crappy ratings\" condition, and then apply that mask to our dataset."
   ]
  },
  {
   "cell_type": "code",
   "execution_count": 30,
   "metadata": {},
   "outputs": [
    {
     "name": "stdout",
     "output_type": "stream",
     "text": [
      "Crappy rating mask:\n",
      " 0    False\n",
      "1    False\n",
      "2    False\n",
      "3    False\n",
      "4    False\n",
      "Name: Rating, dtype: bool\n"
     ]
    },
    {
     "data": {
      "text/html": [
       "<div>\n",
       "<style>\n",
       "    .dataframe thead tr:only-child th {\n",
       "        text-align: right;\n",
       "    }\n",
       "\n",
       "    .dataframe thead th {\n",
       "        text-align: left;\n",
       "    }\n",
       "\n",
       "    .dataframe tbody tr th {\n",
       "        vertical-align: top;\n",
       "    }\n",
       "</style>\n",
       "<table border=\"1\" class=\"dataframe\">\n",
       "  <thead>\n",
       "    <tr style=\"text-align: right;\">\n",
       "      <th></th>\n",
       "      <th>UserID</th>\n",
       "      <th>MovieID</th>\n",
       "      <th>Rating</th>\n",
       "      <th>FormattedTimestamp</th>\n",
       "      <th>year</th>\n",
       "      <th>month</th>\n",
       "    </tr>\n",
       "  </thead>\n",
       "  <tbody>\n",
       "    <tr>\n",
       "      <th>67</th>\n",
       "      <td>2</td>\n",
       "      <td>1213</td>\n",
       "      <td>2</td>\n",
       "      <td>2000-12-31 21:34:18</td>\n",
       "      <td>2000</td>\n",
       "      <td>12</td>\n",
       "    </tr>\n",
       "    <tr>\n",
       "      <th>73</th>\n",
       "      <td>2</td>\n",
       "      <td>434</td>\n",
       "      <td>2</td>\n",
       "      <td>2000-12-31 22:02:54</td>\n",
       "      <td>2000</td>\n",
       "      <td>12</td>\n",
       "    </tr>\n",
       "    <tr>\n",
       "      <th>75</th>\n",
       "      <td>2</td>\n",
       "      <td>3107</td>\n",
       "      <td>2</td>\n",
       "      <td>2000-12-31 22:00:02</td>\n",
       "      <td>2000</td>\n",
       "      <td>12</td>\n",
       "    </tr>\n",
       "    <tr>\n",
       "      <th>83</th>\n",
       "      <td>2</td>\n",
       "      <td>902</td>\n",
       "      <td>2</td>\n",
       "      <td>2000-12-31 21:41:45</td>\n",
       "      <td>2000</td>\n",
       "      <td>12</td>\n",
       "    </tr>\n",
       "    <tr>\n",
       "      <th>91</th>\n",
       "      <td>2</td>\n",
       "      <td>3256</td>\n",
       "      <td>2</td>\n",
       "      <td>2000-12-31 21:57:19</td>\n",
       "      <td>2000</td>\n",
       "      <td>12</td>\n",
       "    </tr>\n",
       "    <tr>\n",
       "      <th>114</th>\n",
       "      <td>2</td>\n",
       "      <td>3699</td>\n",
       "      <td>2</td>\n",
       "      <td>2000-12-31 21:46:13</td>\n",
       "      <td>2000</td>\n",
       "      <td>12</td>\n",
       "    </tr>\n",
       "    <tr>\n",
       "      <th>125</th>\n",
       "      <td>2</td>\n",
       "      <td>2427</td>\n",
       "      <td>2</td>\n",
       "      <td>2000-12-31 21:58:33</td>\n",
       "      <td>2000</td>\n",
       "      <td>12</td>\n",
       "    </tr>\n",
       "    <tr>\n",
       "      <th>133</th>\n",
       "      <td>2</td>\n",
       "      <td>95</td>\n",
       "      <td>2</td>\n",
       "      <td>2000-12-31 22:02:23</td>\n",
       "      <td>2000</td>\n",
       "      <td>12</td>\n",
       "    </tr>\n",
       "    <tr>\n",
       "      <th>148</th>\n",
       "      <td>2</td>\n",
       "      <td>21</td>\n",
       "      <td>1</td>\n",
       "      <td>2000-12-31 21:57:19</td>\n",
       "      <td>2000</td>\n",
       "      <td>12</td>\n",
       "    </tr>\n",
       "    <tr>\n",
       "      <th>151</th>\n",
       "      <td>2</td>\n",
       "      <td>1090</td>\n",
       "      <td>2</td>\n",
       "      <td>2000-12-31 21:36:20</td>\n",
       "      <td>2000</td>\n",
       "      <td>12</td>\n",
       "    </tr>\n",
       "    <tr>\n",
       "      <th>174</th>\n",
       "      <td>2</td>\n",
       "      <td>1968</td>\n",
       "      <td>2</td>\n",
       "      <td>2000-12-31 21:41:21</td>\n",
       "      <td>2000</td>\n",
       "      <td>12</td>\n",
       "    </tr>\n",
       "    <tr>\n",
       "      <th>178</th>\n",
       "      <td>2</td>\n",
       "      <td>1245</td>\n",
       "      <td>2</td>\n",
       "      <td>2000-12-31 21:46:40</td>\n",
       "      <td>2000</td>\n",
       "      <td>12</td>\n",
       "    </tr>\n",
       "    <tr>\n",
       "      <th>180</th>\n",
       "      <td>2</td>\n",
       "      <td>3893</td>\n",
       "      <td>1</td>\n",
       "      <td>2000-12-31 21:52:15</td>\n",
       "      <td>2000</td>\n",
       "      <td>12</td>\n",
       "    </tr>\n",
       "    <tr>\n",
       "      <th>183</th>\n",
       "      <td>3</td>\n",
       "      <td>1641</td>\n",
       "      <td>2</td>\n",
       "      <td>2000-12-31 21:33:50</td>\n",
       "      <td>2000</td>\n",
       "      <td>12</td>\n",
       "    </tr>\n",
       "    <tr>\n",
       "      <th>200</th>\n",
       "      <td>3</td>\n",
       "      <td>3619</td>\n",
       "      <td>2</td>\n",
       "      <td>2000-12-31 21:30:01</td>\n",
       "      <td>2000</td>\n",
       "      <td>12</td>\n",
       "    </tr>\n",
       "    <tr>\n",
       "      <th>205</th>\n",
       "      <td>3</td>\n",
       "      <td>1261</td>\n",
       "      <td>1</td>\n",
       "      <td>2000-12-31 21:21:03</td>\n",
       "      <td>2000</td>\n",
       "      <td>12</td>\n",
       "    </tr>\n",
       "    <tr>\n",
       "      <th>208</th>\n",
       "      <td>3</td>\n",
       "      <td>1265</td>\n",
       "      <td>2</td>\n",
       "      <td>2000-12-31 21:31:56</td>\n",
       "      <td>2000</td>\n",
       "      <td>12</td>\n",
       "    </tr>\n",
       "    <tr>\n",
       "      <th>224</th>\n",
       "      <td>3</td>\n",
       "      <td>2617</td>\n",
       "      <td>2</td>\n",
       "      <td>2000-12-31 21:23:57</td>\n",
       "      <td>2000</td>\n",
       "      <td>12</td>\n",
       "    </tr>\n",
       "    <tr>\n",
       "      <th>241</th>\n",
       "      <td>4</td>\n",
       "      <td>1196</td>\n",
       "      <td>2</td>\n",
       "      <td>2000-12-31 20:23:19</td>\n",
       "      <td>2000</td>\n",
       "      <td>12</td>\n",
       "    </tr>\n",
       "    <tr>\n",
       "      <th>249</th>\n",
       "      <td>4</td>\n",
       "      <td>3527</td>\n",
       "      <td>1</td>\n",
       "      <td>2000-12-31 20:20:08</td>\n",
       "      <td>2000</td>\n",
       "      <td>12</td>\n",
       "    </tr>\n",
       "    <tr>\n",
       "      <th>258</th>\n",
       "      <td>5</td>\n",
       "      <td>288</td>\n",
       "      <td>2</td>\n",
       "      <td>2000-12-31 07:09:45</td>\n",
       "      <td>2000</td>\n",
       "      <td>12</td>\n",
       "    </tr>\n",
       "    <tr>\n",
       "      <th>262</th>\n",
       "      <td>5</td>\n",
       "      <td>2268</td>\n",
       "      <td>2</td>\n",
       "      <td>2000-12-31 07:00:33</td>\n",
       "      <td>2000</td>\n",
       "      <td>12</td>\n",
       "    </tr>\n",
       "    <tr>\n",
       "      <th>264</th>\n",
       "      <td>5</td>\n",
       "      <td>860</td>\n",
       "      <td>2</td>\n",
       "      <td>2000-12-31 06:34:53</td>\n",
       "      <td>2000</td>\n",
       "      <td>12</td>\n",
       "    </tr>\n",
       "    <tr>\n",
       "      <th>268</th>\n",
       "      <td>5</td>\n",
       "      <td>2916</td>\n",
       "      <td>1</td>\n",
       "      <td>2000-12-31 06:54:05</td>\n",
       "      <td>2000</td>\n",
       "      <td>12</td>\n",
       "    </tr>\n",
       "    <tr>\n",
       "      <th>272</th>\n",
       "      <td>5</td>\n",
       "      <td>501</td>\n",
       "      <td>1</td>\n",
       "      <td>2000-12-31 06:26:41</td>\n",
       "      <td>2000</td>\n",
       "      <td>12</td>\n",
       "    </tr>\n",
       "    <tr>\n",
       "      <th>273</th>\n",
       "      <td>5</td>\n",
       "      <td>3578</td>\n",
       "      <td>2</td>\n",
       "      <td>2000-12-31 06:23:23</td>\n",
       "      <td>2000</td>\n",
       "      <td>12</td>\n",
       "    </tr>\n",
       "    <tr>\n",
       "      <th>276</th>\n",
       "      <td>5</td>\n",
       "      <td>3793</td>\n",
       "      <td>2</td>\n",
       "      <td>2000-12-31 06:12:50</td>\n",
       "      <td>2000</td>\n",
       "      <td>12</td>\n",
       "    </tr>\n",
       "    <tr>\n",
       "      <th>280</th>\n",
       "      <td>5</td>\n",
       "      <td>2058</td>\n",
       "      <td>1</td>\n",
       "      <td>2000-12-31 06:55:40</td>\n",
       "      <td>2000</td>\n",
       "      <td>12</td>\n",
       "    </tr>\n",
       "    <tr>\n",
       "      <th>290</th>\n",
       "      <td>5</td>\n",
       "      <td>3079</td>\n",
       "      <td>2</td>\n",
       "      <td>2000-12-31 07:02:42</td>\n",
       "      <td>2000</td>\n",
       "      <td>12</td>\n",
       "    </tr>\n",
       "    <tr>\n",
       "      <th>293</th>\n",
       "      <td>5</td>\n",
       "      <td>150</td>\n",
       "      <td>2</td>\n",
       "      <td>2000-12-31 06:56:03</td>\n",
       "      <td>2000</td>\n",
       "      <td>12</td>\n",
       "    </tr>\n",
       "    <tr>\n",
       "      <th>...</th>\n",
       "      <td>...</td>\n",
       "      <td>...</td>\n",
       "      <td>...</td>\n",
       "      <td>...</td>\n",
       "      <td>...</td>\n",
       "      <td>...</td>\n",
       "    </tr>\n",
       "    <tr>\n",
       "      <th>1000041</th>\n",
       "      <td>6040</td>\n",
       "      <td>1220</td>\n",
       "      <td>2</td>\n",
       "      <td>2000-04-26 02:26:56</td>\n",
       "      <td>2000</td>\n",
       "      <td>4</td>\n",
       "    </tr>\n",
       "    <tr>\n",
       "      <th>1000047</th>\n",
       "      <td>6040</td>\n",
       "      <td>1231</td>\n",
       "      <td>2</td>\n",
       "      <td>2000-04-26 02:17:01</td>\n",
       "      <td>2000</td>\n",
       "      <td>4</td>\n",
       "    </tr>\n",
       "    <tr>\n",
       "      <th>1000054</th>\n",
       "      <td>6040</td>\n",
       "      <td>2985</td>\n",
       "      <td>2</td>\n",
       "      <td>2000-04-26 02:30:32</td>\n",
       "      <td>2000</td>\n",
       "      <td>4</td>\n",
       "    </tr>\n",
       "    <tr>\n",
       "      <th>1000057</th>\n",
       "      <td>6040</td>\n",
       "      <td>2987</td>\n",
       "      <td>1</td>\n",
       "      <td>2000-04-26 02:21:54</td>\n",
       "      <td>2000</td>\n",
       "      <td>4</td>\n",
       "    </tr>\n",
       "    <tr>\n",
       "      <th>1000060</th>\n",
       "      <td>6040</td>\n",
       "      <td>2989</td>\n",
       "      <td>2</td>\n",
       "      <td>2000-04-26 02:28:52</td>\n",
       "      <td>2000</td>\n",
       "      <td>4</td>\n",
       "    </tr>\n",
       "    <tr>\n",
       "      <th>1000085</th>\n",
       "      <td>6040</td>\n",
       "      <td>1293</td>\n",
       "      <td>2</td>\n",
       "      <td>2000-04-26 02:16:23</td>\n",
       "      <td>2000</td>\n",
       "      <td>4</td>\n",
       "    </tr>\n",
       "    <tr>\n",
       "      <th>1000088</th>\n",
       "      <td>6040</td>\n",
       "      <td>1296</td>\n",
       "      <td>2</td>\n",
       "      <td>2000-04-26 02:16:23</td>\n",
       "      <td>2000</td>\n",
       "      <td>4</td>\n",
       "    </tr>\n",
       "    <tr>\n",
       "      <th>1000090</th>\n",
       "      <td>6040</td>\n",
       "      <td>2241</td>\n",
       "      <td>1</td>\n",
       "      <td>2000-04-26 02:35:41</td>\n",
       "      <td>2000</td>\n",
       "      <td>4</td>\n",
       "    </tr>\n",
       "    <tr>\n",
       "      <th>1000096</th>\n",
       "      <td>6040</td>\n",
       "      <td>2286</td>\n",
       "      <td>1</td>\n",
       "      <td>2000-04-26 02:29:43</td>\n",
       "      <td>2000</td>\n",
       "      <td>4</td>\n",
       "    </tr>\n",
       "    <tr>\n",
       "      <th>1000103</th>\n",
       "      <td>6040</td>\n",
       "      <td>1663</td>\n",
       "      <td>2</td>\n",
       "      <td>2000-04-26 02:26:56</td>\n",
       "      <td>2000</td>\n",
       "      <td>4</td>\n",
       "    </tr>\n",
       "    <tr>\n",
       "      <th>1000111</th>\n",
       "      <td>6040</td>\n",
       "      <td>2641</td>\n",
       "      <td>2</td>\n",
       "      <td>2000-04-26 02:32:23</td>\n",
       "      <td>2000</td>\n",
       "      <td>4</td>\n",
       "    </tr>\n",
       "    <tr>\n",
       "      <th>1000124</th>\n",
       "      <td>6040</td>\n",
       "      <td>495</td>\n",
       "      <td>2</td>\n",
       "      <td>2000-07-28 23:59:42</td>\n",
       "      <td>2000</td>\n",
       "      <td>7</td>\n",
       "    </tr>\n",
       "    <tr>\n",
       "      <th>1000136</th>\n",
       "      <td>6040</td>\n",
       "      <td>1376</td>\n",
       "      <td>2</td>\n",
       "      <td>2000-04-26 02:23:25</td>\n",
       "      <td>2000</td>\n",
       "      <td>4</td>\n",
       "    </tr>\n",
       "    <tr>\n",
       "      <th>1000142</th>\n",
       "      <td>6040</td>\n",
       "      <td>2348</td>\n",
       "      <td>2</td>\n",
       "      <td>2000-04-26 02:20:48</td>\n",
       "      <td>2000</td>\n",
       "      <td>4</td>\n",
       "    </tr>\n",
       "    <tr>\n",
       "      <th>1000150</th>\n",
       "      <td>6040</td>\n",
       "      <td>2376</td>\n",
       "      <td>2</td>\n",
       "      <td>2000-04-26 02:32:23</td>\n",
       "      <td>2000</td>\n",
       "      <td>4</td>\n",
       "    </tr>\n",
       "    <tr>\n",
       "      <th>1000151</th>\n",
       "      <td>6040</td>\n",
       "      <td>2378</td>\n",
       "      <td>1</td>\n",
       "      <td>2000-04-26 02:34:14</td>\n",
       "      <td>2000</td>\n",
       "      <td>4</td>\n",
       "    </tr>\n",
       "    <tr>\n",
       "      <th>1000155</th>\n",
       "      <td>6040</td>\n",
       "      <td>1734</td>\n",
       "      <td>2</td>\n",
       "      <td>2000-04-25 23:08:01</td>\n",
       "      <td>2000</td>\n",
       "      <td>4</td>\n",
       "    </tr>\n",
       "    <tr>\n",
       "      <th>1000161</th>\n",
       "      <td>6040</td>\n",
       "      <td>3361</td>\n",
       "      <td>2</td>\n",
       "      <td>2000-04-26 02:17:35</td>\n",
       "      <td>2000</td>\n",
       "      <td>4</td>\n",
       "    </tr>\n",
       "    <tr>\n",
       "      <th>1000164</th>\n",
       "      <td>6040</td>\n",
       "      <td>154</td>\n",
       "      <td>2</td>\n",
       "      <td>2000-05-07 16:41:18</td>\n",
       "      <td>2000</td>\n",
       "      <td>5</td>\n",
       "    </tr>\n",
       "    <tr>\n",
       "      <th>1000165</th>\n",
       "      <td>6040</td>\n",
       "      <td>2716</td>\n",
       "      <td>2</td>\n",
       "      <td>2000-04-26 02:23:25</td>\n",
       "      <td>2000</td>\n",
       "      <td>4</td>\n",
       "    </tr>\n",
       "    <tr>\n",
       "      <th>1000166</th>\n",
       "      <td>6040</td>\n",
       "      <td>2717</td>\n",
       "      <td>1</td>\n",
       "      <td>2000-04-26 02:33:58</td>\n",
       "      <td>2000</td>\n",
       "      <td>4</td>\n",
       "    </tr>\n",
       "    <tr>\n",
       "      <th>1000171</th>\n",
       "      <td>6040</td>\n",
       "      <td>3388</td>\n",
       "      <td>1</td>\n",
       "      <td>2000-04-26 02:33:27</td>\n",
       "      <td>2000</td>\n",
       "      <td>4</td>\n",
       "    </tr>\n",
       "    <tr>\n",
       "      <th>1000173</th>\n",
       "      <td>6040</td>\n",
       "      <td>2739</td>\n",
       "      <td>2</td>\n",
       "      <td>2000-04-26 02:25:42</td>\n",
       "      <td>2000</td>\n",
       "      <td>4</td>\n",
       "    </tr>\n",
       "    <tr>\n",
       "      <th>1000175</th>\n",
       "      <td>6040</td>\n",
       "      <td>2746</td>\n",
       "      <td>2</td>\n",
       "      <td>2000-04-26 02:29:17</td>\n",
       "      <td>2000</td>\n",
       "      <td>4</td>\n",
       "    </tr>\n",
       "    <tr>\n",
       "      <th>1000176</th>\n",
       "      <td>6040</td>\n",
       "      <td>2750</td>\n",
       "      <td>2</td>\n",
       "      <td>2000-04-26 02:24:25</td>\n",
       "      <td>2000</td>\n",
       "      <td>4</td>\n",
       "    </tr>\n",
       "    <tr>\n",
       "      <th>1000177</th>\n",
       "      <td>6040</td>\n",
       "      <td>2751</td>\n",
       "      <td>1</td>\n",
       "      <td>2000-04-26 02:33:58</td>\n",
       "      <td>2000</td>\n",
       "      <td>4</td>\n",
       "    </tr>\n",
       "    <tr>\n",
       "      <th>1000185</th>\n",
       "      <td>6040</td>\n",
       "      <td>2794</td>\n",
       "      <td>1</td>\n",
       "      <td>2000-04-26 02:33:58</td>\n",
       "      <td>2000</td>\n",
       "      <td>4</td>\n",
       "    </tr>\n",
       "    <tr>\n",
       "      <th>1000187</th>\n",
       "      <td>6040</td>\n",
       "      <td>2003</td>\n",
       "      <td>1</td>\n",
       "      <td>2000-04-26 02:31:34</td>\n",
       "      <td>2000</td>\n",
       "      <td>4</td>\n",
       "    </tr>\n",
       "    <tr>\n",
       "      <th>1000195</th>\n",
       "      <td>6040</td>\n",
       "      <td>1079</td>\n",
       "      <td>2</td>\n",
       "      <td>2000-04-26 02:20:48</td>\n",
       "      <td>2000</td>\n",
       "      <td>4</td>\n",
       "    </tr>\n",
       "    <tr>\n",
       "      <th>1000204</th>\n",
       "      <td>6040</td>\n",
       "      <td>1091</td>\n",
       "      <td>1</td>\n",
       "      <td>2000-04-26 02:35:41</td>\n",
       "      <td>2000</td>\n",
       "      <td>4</td>\n",
       "    </tr>\n",
       "  </tbody>\n",
       "</table>\n",
       "<p>163731 rows × 6 columns</p>\n",
       "</div>"
      ],
      "text/plain": [
       "         UserID  MovieID  Rating  FormattedTimestamp  year  month\n",
       "67            2     1213       2 2000-12-31 21:34:18  2000     12\n",
       "73            2      434       2 2000-12-31 22:02:54  2000     12\n",
       "75            2     3107       2 2000-12-31 22:00:02  2000     12\n",
       "83            2      902       2 2000-12-31 21:41:45  2000     12\n",
       "91            2     3256       2 2000-12-31 21:57:19  2000     12\n",
       "114           2     3699       2 2000-12-31 21:46:13  2000     12\n",
       "125           2     2427       2 2000-12-31 21:58:33  2000     12\n",
       "133           2       95       2 2000-12-31 22:02:23  2000     12\n",
       "148           2       21       1 2000-12-31 21:57:19  2000     12\n",
       "151           2     1090       2 2000-12-31 21:36:20  2000     12\n",
       "174           2     1968       2 2000-12-31 21:41:21  2000     12\n",
       "178           2     1245       2 2000-12-31 21:46:40  2000     12\n",
       "180           2     3893       1 2000-12-31 21:52:15  2000     12\n",
       "183           3     1641       2 2000-12-31 21:33:50  2000     12\n",
       "200           3     3619       2 2000-12-31 21:30:01  2000     12\n",
       "205           3     1261       1 2000-12-31 21:21:03  2000     12\n",
       "208           3     1265       2 2000-12-31 21:31:56  2000     12\n",
       "224           3     2617       2 2000-12-31 21:23:57  2000     12\n",
       "241           4     1196       2 2000-12-31 20:23:19  2000     12\n",
       "249           4     3527       1 2000-12-31 20:20:08  2000     12\n",
       "258           5      288       2 2000-12-31 07:09:45  2000     12\n",
       "262           5     2268       2 2000-12-31 07:00:33  2000     12\n",
       "264           5      860       2 2000-12-31 06:34:53  2000     12\n",
       "268           5     2916       1 2000-12-31 06:54:05  2000     12\n",
       "272           5      501       1 2000-12-31 06:26:41  2000     12\n",
       "273           5     3578       2 2000-12-31 06:23:23  2000     12\n",
       "276           5     3793       2 2000-12-31 06:12:50  2000     12\n",
       "280           5     2058       1 2000-12-31 06:55:40  2000     12\n",
       "290           5     3079       2 2000-12-31 07:02:42  2000     12\n",
       "293           5      150       2 2000-12-31 06:56:03  2000     12\n",
       "...         ...      ...     ...                 ...   ...    ...\n",
       "1000041    6040     1220       2 2000-04-26 02:26:56  2000      4\n",
       "1000047    6040     1231       2 2000-04-26 02:17:01  2000      4\n",
       "1000054    6040     2985       2 2000-04-26 02:30:32  2000      4\n",
       "1000057    6040     2987       1 2000-04-26 02:21:54  2000      4\n",
       "1000060    6040     2989       2 2000-04-26 02:28:52  2000      4\n",
       "1000085    6040     1293       2 2000-04-26 02:16:23  2000      4\n",
       "1000088    6040     1296       2 2000-04-26 02:16:23  2000      4\n",
       "1000090    6040     2241       1 2000-04-26 02:35:41  2000      4\n",
       "1000096    6040     2286       1 2000-04-26 02:29:43  2000      4\n",
       "1000103    6040     1663       2 2000-04-26 02:26:56  2000      4\n",
       "1000111    6040     2641       2 2000-04-26 02:32:23  2000      4\n",
       "1000124    6040      495       2 2000-07-28 23:59:42  2000      7\n",
       "1000136    6040     1376       2 2000-04-26 02:23:25  2000      4\n",
       "1000142    6040     2348       2 2000-04-26 02:20:48  2000      4\n",
       "1000150    6040     2376       2 2000-04-26 02:32:23  2000      4\n",
       "1000151    6040     2378       1 2000-04-26 02:34:14  2000      4\n",
       "1000155    6040     1734       2 2000-04-25 23:08:01  2000      4\n",
       "1000161    6040     3361       2 2000-04-26 02:17:35  2000      4\n",
       "1000164    6040      154       2 2000-05-07 16:41:18  2000      5\n",
       "1000165    6040     2716       2 2000-04-26 02:23:25  2000      4\n",
       "1000166    6040     2717       1 2000-04-26 02:33:58  2000      4\n",
       "1000171    6040     3388       1 2000-04-26 02:33:27  2000      4\n",
       "1000173    6040     2739       2 2000-04-26 02:25:42  2000      4\n",
       "1000175    6040     2746       2 2000-04-26 02:29:17  2000      4\n",
       "1000176    6040     2750       2 2000-04-26 02:24:25  2000      4\n",
       "1000177    6040     2751       1 2000-04-26 02:33:58  2000      4\n",
       "1000185    6040     2794       1 2000-04-26 02:33:58  2000      4\n",
       "1000187    6040     2003       1 2000-04-26 02:31:34  2000      4\n",
       "1000195    6040     1079       2 2000-04-26 02:20:48  2000      4\n",
       "1000204    6040     1091       1 2000-04-26 02:35:41  2000      4\n",
       "\n",
       "[163731 rows x 6 columns]"
      ]
     },
     "execution_count": 30,
     "metadata": {},
     "output_type": "execute_result"
    }
   ],
   "source": [
    "crappyRatingMask = ratingData.Rating < 3\n",
    "print(\"Crappy rating mask:\\n\",crappyRatingMask.head())\n",
    "crappyRatings = ratingData[crappyRatingMask]\n",
    "crappyRatings.head()"
   ]
  },
  {
   "cell_type": "code",
   "execution_count": 31,
   "metadata": {},
   "outputs": [
    {
     "name": "stdout",
     "output_type": "stream",
     "text": [
      "[2 1]\n"
     ]
    }
   ],
   "source": [
    "print(crappyRatings.Rating.unique()) # This is a sanity check to make sure that our filtered data contains only low ratings"
   ]
  },
  {
   "cell_type": "markdown",
   "metadata": {},
   "source": [
    "Awesome, this worked as expected!\n",
    "How many of these crappy ratings are there? (Replace **pass** in the code cell below with your answer)"
   ]
  },
  {
   "cell_type": "code",
   "execution_count": 32,
   "metadata": {},
   "outputs": [],
   "source": [
    "pass"
   ]
  },
  {
   "cell_type": "markdown",
   "metadata": {},
   "source": [
    "#### Exercise Time!\n",
    "\n",
    "Now it is time for you to show how much you've learned. Give me the answers to the following questions:\n",
    "\n",
    "1. What was the average rating in January?\n",
    "* What was the average crappy rating in January?\n",
    "\n",
    "**Hint:** Although there are lots of ways you can tackle these questions (many of which you will learn soon). I suggest you use the following procedure:\n",
    "\n",
    "1. Create a new column in `ratingData` and call it \"month\", so that it tells you the month of every row\n",
    "* Create a new dataset of:\n",
    "  1. all January records and store it in `januaryRatings`\n",
    "  * create a mask of crappy ratings using that dataset called `crappyJanuaryRatingsMask`\n",
    "  * apply that `crappyJanuaryRatingsMask` to your dataset and store it in a new dataset called `crappyJanuaryRatings`\n",
    "  * compute the mean of the `Rating` column for both `januaryRatings` and `crappyJanuaryRatings`"
   ]
  },
  {
   "cell_type": "code",
   "execution_count": 5,
   "metadata": {},
   "outputs": [],
   "source": [
    "pass"
   ]
  },
  {
   "cell_type": "markdown",
   "metadata": {},
   "source": [
    "Ok, now that you know how to do some basic subselection, sorting, and calculations on data, we are going to do something a bit more complicated, and start subdividing our data into groups to be able to answer some more general questions about our dataset.\n",
    "\n",
    "Once you have this functionality down, you will be able to: \n",
    "\n",
    "1. Answer more interesting kinds of questions\n",
    "* Answer the questions above using fewer lines of code \n",
    "\n",
    "Lets say you wanted to know or do the following:\n",
    "\n",
    "1. **In what month did users rate the most movies?**\n",
    "2. **What month had the highest average rating?**\n",
    "3. **Remove users with too few ratings (lets say < 30) and reanswer these same questions**\n",
    "\n",
    "Our approach here will be:\n",
    "\n",
    "* Learn to use the `groupby` functionality of **pandas** to create subgroups of our ratings based on either the `month` the ratings were given or on the `UserID` of the rater.\n",
    "* Apply an aggregating function to these groups to return:\n",
    "  * The `size` of each group (since the `size` of each group is either the number of ratings in that `month` or the number of ratings for that `UserID`)\n",
    "  * The `mean` of the `Rating` column within each group\n",
    "  * A filtered version of the original dataset so that only the groups that are large enough (when grouping on `UserID`, those users that have made enough ratings) are returned."
   ]
  },
  {
   "cell_type": "markdown",
   "metadata": {},
   "source": [
    "Ok, now that you know how to do some basic subselection, sorting, and calculations on data, we are going to do something a bit more complicated, and start subdividing our data into groups to be able to answer some more general questions about our dataset.\n",
    "\n",
    "Once you have this functionality down, you will be able to: \n",
    "\n",
    "1. Answer more interesting kinds of questions\n",
    "* Answer the questions above using fewer lines of code \n",
    "\n",
    "Lets say you wanted to know or do the following:\n",
    "\n",
    "1. **In what month did users rate the most movies?**\n",
    "2. **What month had the highest average rating?**\n",
    "3. **Remove users with too few ratings (lets say < 30) and reanswer these same questions**\n",
    "\n",
    "Our approach here will be:\n",
    "\n",
    "* Learn to use the `groupby` functionality of **pandas** to create subgroups of our ratings based on either the `month` the ratings were given or on the `UserID` of the rater.\n",
    "* Apply an aggregating function to these groups to return:\n",
    "  * The `size` of each group (since the `size` of each group is either the number of ratings in that `month` or the number of ratings for that `UserID`)\n",
    "  * The `mean` of the `Rating` column within each group\n",
    "  * A filtered version of the original dataset so that only the groups that are large enough (when grouping on `UserID`, those users that have made enough ratings) are returned."
   ]
  },
  {
   "cell_type": "markdown",
   "metadata": {},
   "source": [
    "The `groupby` function in **pandas** is analagous to the grouping operations you may be familiar with if you've ever used any **SQL** variants. \n",
    "\n",
    "A generic **SQL** translation of **1.**, for example, would look something like:\n",
    "\n",
    "```\n",
    "SELECT month,numRatings FROM (SELECT month,size(month) AS numRatings\n",
    "FROM ratingData\n",
    "GROUP BY month) WHERE numRatings = MAX(numRatings)\n",
    "```\n",
    "\n",
    "(If this looks like wizardry, don't worry, I'm just trying to show this to those users that are familiar with SQL and any of its variants; this is the only SQL you will see all weekend!)"
   ]
  },
  {
   "cell_type": "markdown",
   "metadata": {},
   "source": [
    "Grouping can get very complicated, but as a first pass you can think of it as a way to split your dataset into non-overlapping subsets along any axis (along rows or columns, in our case). \n",
    "\n",
    "The values along which you **group** your dataset are traditionally called **keys**, so **each key should be unique to each group, and each group can have at most one key associated with it** (although the key for identifying each group can be really complicated).\n",
    "\n",
    "Once you've grouped your dataset, the `GroupBy` object isn't too useful by itself. It becomes useful when you apply a **transformation** to it and get a new dataset back. \n",
    "\n",
    "We typically call this **transformation** an **aggregation**, as we are getting some aggregate value back for each group.\n",
    "\n",
    "The **aggregation** functions we will be using for questions **1.,2.** are `size` and `mean`."
   ]
  },
  {
   "cell_type": "markdown",
   "metadata": {},
   "source": [
    "So, enough explaining, lets get to some hacking.\n",
    "\n",
    "Lets address grouping in the context of answering our first question:\n",
    "\n",
    "1. **In what month did users rate the most movies?**\n",
    "\n",
    "In **pandas**, to create groups, you must create a `GroupBy` object (more on what that is later) from your `DataFrame` object (your dataset) by passing the values along which you want to group to the `groupby` function.\n",
    "\n",
    "We want to **groupby** the **month** column and store it:"
   ]
  },
  {
   "cell_type": "code",
   "execution_count": 34,
   "metadata": {},
   "outputs": [],
   "source": [
    "monthGroups = ratingData.groupby(\"month\")"
   ]
  },
  {
   "cell_type": "markdown",
   "metadata": {},
   "source": [
    "This object, called a `DataFrameGroupBy` is a rearranging of the rows in the dataset into distinct collections, called groups. Let's take a look at the groups:"
   ]
  },
  {
   "cell_type": "code",
   "execution_count": 35,
   "metadata": {},
   "outputs": [
    {
     "name": "stdout",
     "output_type": "stream",
     "text": [
      "        MovieID                                                         \\\n",
      "          count         mean          std  min     25%     50%     75%   \n",
      "month                                                                    \n",
      "1       23072.0  1982.618715  1145.835810  1.0  1079.0  1997.0  2985.0   \n",
      "2       12128.0  2033.421257  1144.649503  1.0  1120.0  2048.0  3034.0   \n",
      "3        8537.0  2049.213190  1159.198213  1.0  1125.0  2067.0  3095.0   \n",
      "4       19407.0  1894.616994  1082.172259  1.0  1077.0  1945.0  2770.0   \n",
      "5       74278.0  1781.435984  1038.746348  1.0   973.0  1694.0  2664.0   \n",
      "6       61110.0  1839.469776  1081.725247  1.0  1022.0  1747.0  2761.0   \n",
      "7       97004.0  1850.288380  1082.951426  1.0  1030.0  1784.0  2762.0   \n",
      "8      188674.0  1861.912844  1090.439897  1.0  1031.0  1848.0  2762.0   \n",
      "9       56791.0  1865.036802  1107.869021  1.0  1028.0  1801.0  2792.0   \n",
      "10      45500.0  1874.683670  1101.660489  1.0  1035.0  1876.0  2774.0   \n",
      "11     295461.0  1876.639391  1104.688342  1.0  1032.0  1865.0  2791.0   \n",
      "12     118247.0  1861.036119  1104.847840  1.0  1017.0  1804.0  2771.0   \n",
      "\n",
      "                 Rating             ...     UserID              year  \\\n",
      "          max     count      mean   ...        75%     max     count   \n",
      "month                               ...                                \n",
      "1      3952.0   23072.0  3.542996   ...    3001.75  5996.0   23072.0   \n",
      "2      3952.0   12128.0  3.523664   ...    3833.00  6002.0   12128.0   \n",
      "3      3952.0    8537.0  3.456952   ...    3475.00  6040.0    8537.0   \n",
      "4      3952.0   19407.0  3.522028   ...    6008.00  6040.0   19407.0   \n",
      "5      3952.0   74278.0  3.601847   ...    5831.00  6040.0   74278.0   \n",
      "6      3952.0   61110.0  3.616528   ...    5406.00  6040.0   61110.0   \n",
      "7      3952.0   97004.0  3.617985   ...    4963.00  6040.0   97004.0   \n",
      "8      3952.0  188674.0  3.566315   ...    4215.00  6040.0  188674.0   \n",
      "9      3952.0   56791.0  3.602279   ...    3323.00  6002.0   56791.0   \n",
      "10     3952.0   45500.0  3.609143   ...    3025.00  5996.0   45500.0   \n",
      "11     3952.0  295461.0  3.571737   ...    2212.00  6002.0  295461.0   \n",
      "12     3952.0  118247.0  3.581435   ...     770.00  5996.0  118247.0   \n",
      "\n",
      "                                                                      \n",
      "              mean       std     min     25%     50%     75%     max  \n",
      "month                                                                 \n",
      "1      2001.299931  0.608711  2001.0  2001.0  2001.0  2001.0  2003.0  \n",
      "2      2001.452507  0.703198  2001.0  2001.0  2001.0  2002.0  2003.0  \n",
      "3      2001.287455  0.452602  2001.0  2001.0  2001.0  2002.0  2002.0  \n",
      "4      2000.559128  0.734309  2000.0  2000.0  2000.0  2001.0  2002.0  \n",
      "5      2000.117706  0.393785  2000.0  2000.0  2000.0  2000.0  2002.0  \n",
      "6      2000.135281  0.413224  2000.0  2000.0  2000.0  2000.0  2002.0  \n",
      "7      2000.088398  0.346211  2000.0  2000.0  2000.0  2000.0  2002.0  \n",
      "8      2000.045984  0.257385  2000.0  2000.0  2000.0  2000.0  2002.0  \n",
      "9      2000.099717  0.367846  2000.0  2000.0  2000.0  2000.0  2002.0  \n",
      "10     2000.092747  0.358775  2000.0  2000.0  2000.0  2000.0  2002.0  \n",
      "11     2000.022257  0.186217  2000.0  2000.0  2000.0  2000.0  2002.0  \n",
      "12     2000.050944  0.264061  2000.0  2000.0  2000.0  2000.0  2002.0  \n",
      "\n",
      "[12 rows x 32 columns]\n"
     ]
    }
   ],
   "source": [
    "print(monthGroups.describe())"
   ]
  },
  {
   "cell_type": "markdown",
   "metadata": {},
   "source": [
    "We can't print `monthGroups` itself, as its not a `DataFrame`, but a rearranged representation:"
   ]
  },
  {
   "cell_type": "code",
   "execution_count": 36,
   "metadata": {},
   "outputs": [
    {
     "name": "stdout",
     "output_type": "stream",
     "text": [
      "<pandas.core.groupby.DataFrameGroupBy object at 0x1048d8198>\n"
     ]
    }
   ],
   "source": [
    "print(monthGroups)"
   ]
  },
  {
   "cell_type": "markdown",
   "metadata": {},
   "source": [
    "And then we want to get the number of records (rows) in each group in our `monthGroups` object using the `size` function (which is accessible from this object):"
   ]
  },
  {
   "cell_type": "code",
   "execution_count": 37,
   "metadata": {},
   "outputs": [
    {
     "data": {
      "text/plain": [
       "month\n",
       "1      23072\n",
       "2      12128\n",
       "3       8537\n",
       "4      19407\n",
       "5      74278\n",
       "6      61110\n",
       "7      97004\n",
       "8     188674\n",
       "9      56791\n",
       "10     45500\n",
       "11    295461\n",
       "12    118247\n",
       "dtype: int64"
      ]
     },
     "execution_count": 37,
     "metadata": {},
     "output_type": "execute_result"
    }
   ],
   "source": [
    "ratingsPerMonth = monthGroups.size()\n",
    "ratingsPerMonth #this will simply print the result inside of this notebook so we can see it\n",
    "#to print to the screen outside of the notebook, you would have to say \"print ratingsPerMonth\""
   ]
  },
  {
   "cell_type": "markdown",
   "metadata": {},
   "source": [
    "And just to make it nice and clean, we will simply output the month with the largest number of ratings using the `max` function:"
   ]
  },
  {
   "cell_type": "code",
   "execution_count": 38,
   "metadata": {},
   "outputs": [
    {
     "data": {
      "text/plain": [
       "month\n",
       "11    295461\n",
       "dtype: int64"
      ]
     },
     "execution_count": 38,
     "metadata": {},
     "output_type": "execute_result"
    }
   ],
   "source": [
    "monthWithMostRatings = ratingsPerMonth[ratingsPerMonth==ratingsPerMonth.max()]\n",
    "monthWithMostRatings #same as above, print to notebook without having to say \"print highestRating\""
   ]
  },
  {
   "cell_type": "markdown",
   "metadata": {},
   "source": [
    "Got it? Good!\n",
    "\n",
    "One more thing before you try it yourself. Once you've created a `groupby` object, you don't have to select everything in the object to perform an aggregation, and can subselect a given column within each group (**Hint, Hint!**)\n",
    "\n",
    "Now you try answering question **2.**:\n",
    "\n",
    "2. **What was the average rating given to movies in each month of the year?**\n",
    "\n",
    "Create the objects `avgMonthlyRatings` and `highestAvgRating`, that allow you to answer the question and print them to the screen:"
   ]
  },
  {
   "cell_type": "code",
   "execution_count": 39,
   "metadata": {},
   "outputs": [],
   "source": [
    "pass"
   ]
  },
  {
   "cell_type": "markdown",
   "metadata": {},
   "source": [
    "These aggregations are already implemented in the `GroupBy` object and can be called directly from the object, but this is not generally the way this is handled.\n",
    "\n",
    "Under the hood, **pandas** is passing the function we apply (`mean` or `size` in our case) to another function called `aggregate` and that function is actually doing the heavy lifting.\n",
    "\n",
    "**The `aggregate` function operates on the entire group within the groupby, so any group-based operations must use an aggregating function.**\n",
    "\n",
    "So, what is actually happening when we wrote our code to answer question **1.** above like this:\n",
    "\n",
    "`ratingsPerMonth = monthGroups.size()`\n",
    "\n",
    "Was actually being implemented more like this:\n",
    "\n",
    "``ratingsPerMonth = monthGroups.aggregate(size)``\n",
    "\n",
    "or this:\n",
    "\n",
    "``ratingsPerMonth = monthGroups.agg(size)``\n",
    "\n",
    "So, this means that whenever we want to do more complicated transformations or reductions of our data, on a per-group level, we should supply our function(s) of interest to `aggregate` or the shorhand `agg` function."
   ]
  },
  {
   "cell_type": "markdown",
   "metadata": {},
   "source": [
    "A couple more explanations before we tackle filtering for answering question **3.**\n",
    "\n",
    "You can pass multiple functions to `aggregate` as a `List`, if you want multiple transformations applied to the data, like so:"
   ]
  },
  {
   "cell_type": "code",
   "execution_count": 40,
   "metadata": {},
   "outputs": [
    {
     "data": {
      "text/html": [
       "<div>\n",
       "<style>\n",
       "    .dataframe thead tr:only-child th {\n",
       "        text-align: right;\n",
       "    }\n",
       "\n",
       "    .dataframe thead th {\n",
       "        text-align: left;\n",
       "    }\n",
       "\n",
       "    .dataframe tbody tr th {\n",
       "        vertical-align: top;\n",
       "    }\n",
       "</style>\n",
       "<table border=\"1\" class=\"dataframe\">\n",
       "  <thead>\n",
       "    <tr style=\"text-align: right;\">\n",
       "      <th></th>\n",
       "      <th>mean</th>\n",
       "      <th>size</th>\n",
       "      <th>std</th>\n",
       "    </tr>\n",
       "    <tr>\n",
       "      <th>month</th>\n",
       "      <th></th>\n",
       "      <th></th>\n",
       "      <th></th>\n",
       "    </tr>\n",
       "  </thead>\n",
       "  <tbody>\n",
       "    <tr>\n",
       "      <th>1</th>\n",
       "      <td>3.542996</td>\n",
       "      <td>23072</td>\n",
       "      <td>1.075643</td>\n",
       "    </tr>\n",
       "    <tr>\n",
       "      <th>2</th>\n",
       "      <td>3.523664</td>\n",
       "      <td>12128</td>\n",
       "      <td>1.089588</td>\n",
       "    </tr>\n",
       "    <tr>\n",
       "      <th>3</th>\n",
       "      <td>3.456952</td>\n",
       "      <td>8537</td>\n",
       "      <td>1.079460</td>\n",
       "    </tr>\n",
       "    <tr>\n",
       "      <th>4</th>\n",
       "      <td>3.522028</td>\n",
       "      <td>19407</td>\n",
       "      <td>1.096929</td>\n",
       "    </tr>\n",
       "    <tr>\n",
       "      <th>5</th>\n",
       "      <td>3.601847</td>\n",
       "      <td>74278</td>\n",
       "      <td>1.137355</td>\n",
       "    </tr>\n",
       "    <tr>\n",
       "      <th>6</th>\n",
       "      <td>3.616528</td>\n",
       "      <td>61110</td>\n",
       "      <td>1.110452</td>\n",
       "    </tr>\n",
       "    <tr>\n",
       "      <th>7</th>\n",
       "      <td>3.617985</td>\n",
       "      <td>97004</td>\n",
       "      <td>1.092208</td>\n",
       "    </tr>\n",
       "    <tr>\n",
       "      <th>8</th>\n",
       "      <td>3.566315</td>\n",
       "      <td>188674</td>\n",
       "      <td>1.122584</td>\n",
       "    </tr>\n",
       "    <tr>\n",
       "      <th>9</th>\n",
       "      <td>3.602279</td>\n",
       "      <td>56791</td>\n",
       "      <td>1.113047</td>\n",
       "    </tr>\n",
       "    <tr>\n",
       "      <th>10</th>\n",
       "      <td>3.609143</td>\n",
       "      <td>45500</td>\n",
       "      <td>1.087170</td>\n",
       "    </tr>\n",
       "    <tr>\n",
       "      <th>11</th>\n",
       "      <td>3.571737</td>\n",
       "      <td>295461</td>\n",
       "      <td>1.129646</td>\n",
       "    </tr>\n",
       "    <tr>\n",
       "      <th>12</th>\n",
       "      <td>3.581435</td>\n",
       "      <td>118247</td>\n",
       "      <td>1.115202</td>\n",
       "    </tr>\n",
       "  </tbody>\n",
       "</table>\n",
       "</div>"
      ],
      "text/plain": [
       "           mean    size       std\n",
       "month                            \n",
       "1      3.542996   23072  1.075643\n",
       "2      3.523664   12128  1.089588\n",
       "3      3.456952    8537  1.079460\n",
       "4      3.522028   19407  1.096929\n",
       "5      3.601847   74278  1.137355\n",
       "6      3.616528   61110  1.110452\n",
       "7      3.617985   97004  1.092208\n",
       "8      3.566315  188674  1.122584\n",
       "9      3.602279   56791  1.113047\n",
       "10     3.609143   45500  1.087170\n",
       "11     3.571737  295461  1.129646\n",
       "12     3.581435  118247  1.115202"
      ]
     },
     "execution_count": 40,
     "metadata": {},
     "output_type": "execute_result"
    }
   ],
   "source": [
    "monthGroups.Rating.agg([np.mean,np.size,np.std])"
   ]
  },
  {
   "cell_type": "markdown",
   "metadata": {},
   "source": [
    "In all of these cases, you will notice that we have to call the functions using the **NumPy** module (but using the `np` alias), which was installed when you got **pandas** working on your system (since **NumPy** is a dependency of **pandas** and gives **pandas** all of the math and matrix wrangling functionality it relies on behind the scenes).\n",
    "\n",
    "**NumPy** is a really powerful matrix and math library in **Python** and has lots of functionality we won't go into here, so if you're interested, head over to their [website](http://www.numpy.org) to learn more!\n",
    "\n",
    "Now, lets move on to filtering."
   ]
  },
  {
   "cell_type": "markdown",
   "metadata": {},
   "source": [
    "Lets go through how to answer question **3.**:\n",
    "\n",
    "* **Remove users with too few ratings (lets say < 30) and reanswer these same questions**\n",
    "\n",
    "Here is our pipeline:\n",
    "\n",
    "1. `groupby ratingData on \"UserId\"` and call this new `GroupBy` object `userGroups`\n",
    "* `filter` so that only groups (users) containing > 30 ratings are kept in a new `DataFrame`, called `filteredRatings`\n",
    "* `groupby filteredRatings on \"month\"` and call this new `GroupBy` object `filteredMonthGroups`\n",
    "* recompute `mean` and `size` statistics on the `Rating` column in `filteredMonthGroups` and store it in a variable called `filteredMonthAggs`\n",
    "* use `max` to see if the month when the largest rating mean and rating size have changed"
   ]
  },
  {
   "cell_type": "code",
   "execution_count": 41,
   "metadata": {},
   "outputs": [],
   "source": [
    "userGroups = ratingData.groupby(\"UserID\")"
   ]
  },
  {
   "cell_type": "markdown",
   "metadata": {},
   "source": [
    "This first step is very similar to what we did before, except we are grouping on a different column, `UserID`.\n",
    "\n",
    "Now comes the more challenging part, using `filter`, and involves learning a bit about **anonymous functions**. Here goes:"
   ]
  },
  {
   "cell_type": "code",
   "execution_count": 42,
   "metadata": {},
   "outputs": [],
   "source": [
    "def enoughRatings(currGroup):\n",
    "    return currGroup.Rating.size >= 30"
   ]
  },
  {
   "cell_type": "code",
   "execution_count": 43,
   "metadata": {},
   "outputs": [],
   "source": [
    "filteredRatings = userGroups.filter(lambda currGroup: currGroup.Rating.size >= 30)\n",
    "filteredRatings2 = userGroups.filter(enoughRatings)"
   ]
  },
  {
   "cell_type": "code",
   "execution_count": 44,
   "metadata": {},
   "outputs": [
    {
     "name": "stdout",
     "output_type": "stream",
     "text": [
      "(982040, 6)\n",
      "(982040, 6)\n"
     ]
    }
   ],
   "source": [
    "print(filteredRatings.shape)\n",
    "print(filteredRatings2.shape)"
   ]
  },
  {
   "cell_type": "markdown",
   "metadata": {},
   "source": [
    "**AAAAA WHAT IS THAT? lambda? x? What are these things?**\n",
    "\n",
    "Ok, lets take a breath and work through this...\n",
    "\n",
    "The `filter` function takes a function as an input and requires that the function you pass to it return either `True` or `False` on a per-group basis. \n",
    "\n",
    "It then returns a new `DataFrame` object, sorted into the groups you grouped on initially, with all of the groups removed that don't satisfy the constraints of the function you passed to it (that is, removing those groups that, when the function is applied to them, return `False`)."
   ]
  },
  {
   "cell_type": "markdown",
   "metadata": {},
   "source": [
    "So, why are we using this weird `lambda` thing? \n",
    "\n",
    "Well, `lambda` is the keyword for creating an **anonymous function** in **Python**.\n",
    "\n",
    "**anonymous functions** are functions that you define within some restricted place that:\n",
    "\n",
    "1. Usually accomplish some very minimal functionality\n",
    "2. Don't need the syntactic sugar that functions usually come with because of 1. and to maintain the compactness (and hopefully clarity) of your code.\n",
    "\n",
    "To declare an anonymous function you:\n",
    "\n",
    "1. type `lambda`, followed by\n",
    "* arbitrary names for the parameters that function accepts (x,y, etc.) separated by commas, followed by\n",
    "* a colon, which tells **Python** that we are done with specifying the parameters, followed by\n",
    "* the expression that defines how the function operates on the parameters. This expression will dictate what the function returns.\n",
    "\n",
    "Here's a really dumb anonymous function, stored in the variable `dumb`:"
   ]
  },
  {
   "cell_type": "code",
   "execution_count": 46,
   "metadata": {},
   "outputs": [
    {
     "name": "stdout",
     "output_type": "stream",
     "text": [
      "7\n"
     ]
    }
   ],
   "source": [
    "dumb = lambda x: x + 1\n",
    "print(dumb(6))"
   ]
  },
  {
   "cell_type": "markdown",
   "metadata": {},
   "source": [
    "So:\n",
    "`lambda x: x.Rating.size >= 30` means:\n",
    "\n",
    "1. **This function accepts a single parameter (in our case the group) arbitrarily called x.**\n",
    "* **It operates on this parameter, x, by finding some attribute in it called \"Rating\" (which it definitely has from earlier steps) and checking whether its size property is greater than or equal to 30.**\n",
    "* **Because this function is checking a condition, it will return either `True` or `False` for every parameter you pass to it**\n",
    "\n",
    "If you understand that, you grok **anonymous functions**."
   ]
  },
  {
   "cell_type": "markdown",
   "metadata": {},
   "source": [
    "**However, if you don't understand WTF just happened, you can actually write your own function, and just pass it directly to the filter!**\n",
    "\n",
    "So, instead of:\n",
    "\n",
    "`filteredRatings = userGroups.filter(lambda x: x.Rating.size >= 30)`\n",
    "\n",
    "You can do this (they are functionally equivalent!):\n",
    "```\n",
    "def filterFewestRatings(dataset):\n",
    "    return dataset.Rating.size >= 30\n",
    "    \n",
    "filteredRatings = userGroups.filter(filterFewestRatings)\n",
    "```\n",
    "\n",
    "Here, we've replaced the variable `x` in the anonymous function with a more easily understood variable `dataset` in the named (non-anonymous) function `filterFewestRatings`. This has the same exact functionality as the **anonymous function**, but is clearly more code to write. \n",
    "\n",
    "**It's your choice as to how you want to implement small functions like this.**"
   ]
  },
  {
   "cell_type": "markdown",
   "metadata": {},
   "source": [
    "Lets look at filtered ratings and see how many ratings and users we eliminated before we recompute our answers:"
   ]
  },
  {
   "cell_type": "code",
   "execution_count": 47,
   "metadata": {},
   "outputs": [
    {
     "name": "stdout",
     "output_type": "stream",
     "text": [
      "Original number of ratings: 1000209\n",
      "Filtered number of ratings: 982040\n",
      "Fraction of ratings eliminated: 0.0181652034724743\n"
     ]
    }
   ],
   "source": [
    "print(\"Original number of ratings:\",ratingData.shape[0])\n",
    "print(\"Filtered number of ratings:\",filteredRatings.shape[0])\n",
    "print(\"Fraction of ratings eliminated:\",(1.0-float(filteredRatings.shape[0])/ratingData.shape[0]))"
   ]
  },
  {
   "cell_type": "code",
   "execution_count": 48,
   "metadata": {},
   "outputs": [
    {
     "name": "stdout",
     "output_type": "stream",
     "text": [
      "Original number of users: 6040\n",
      "Filtered number of users: 5289\n",
      "Fraction of users eliminated: 0.12433774834437084\n"
     ]
    }
   ],
   "source": [
    "print(\"Original number of users:\",ratingData.UserID.unique().size)\n",
    "print(\"Filtered number of users:\",filteredRatings.UserID.unique().size)\n",
    "print(\"Fraction of users eliminated:\",(1.0-float(filteredRatings.UserID.unique().size)/ratingData.UserID.unique().size))"
   ]
  },
  {
   "cell_type": "markdown",
   "metadata": {},
   "source": [
    "So we got rid of about 2% of the ratings, but over 12% of the users!\n",
    "\n",
    "Now that we've filtered, you should be able to do the rest and recompute the answers:"
   ]
  },
  {
   "cell_type": "code",
   "execution_count": 49,
   "metadata": {},
   "outputs": [],
   "source": [
    "filteredMonthGroups = filteredRatings.groupby(\"month\")\n",
    "filteredMonthAggs = filteredMonthGroups.Rating.agg([np.mean,np.median,np.std,np.max])"
   ]
  },
  {
   "cell_type": "code",
   "execution_count": 50,
   "metadata": {},
   "outputs": [
    {
     "data": {
      "text/html": [
       "<div>\n",
       "<style>\n",
       "    .dataframe thead tr:only-child th {\n",
       "        text-align: right;\n",
       "    }\n",
       "\n",
       "    .dataframe thead th {\n",
       "        text-align: left;\n",
       "    }\n",
       "\n",
       "    .dataframe tbody tr th {\n",
       "        vertical-align: top;\n",
       "    }\n",
       "</style>\n",
       "<table border=\"1\" class=\"dataframe\">\n",
       "  <thead>\n",
       "    <tr style=\"text-align: right;\">\n",
       "      <th></th>\n",
       "      <th>mean</th>\n",
       "      <th>median</th>\n",
       "      <th>std</th>\n",
       "      <th>amax</th>\n",
       "    </tr>\n",
       "    <tr>\n",
       "      <th>month</th>\n",
       "      <th></th>\n",
       "      <th></th>\n",
       "      <th></th>\n",
       "      <th></th>\n",
       "    </tr>\n",
       "  </thead>\n",
       "  <tbody>\n",
       "    <tr>\n",
       "      <th>1</th>\n",
       "      <td>3.540490</td>\n",
       "      <td>4</td>\n",
       "      <td>1.074986</td>\n",
       "      <td>5</td>\n",
       "    </tr>\n",
       "    <tr>\n",
       "      <th>2</th>\n",
       "      <td>3.521995</td>\n",
       "      <td>4</td>\n",
       "      <td>1.089586</td>\n",
       "      <td>5</td>\n",
       "    </tr>\n",
       "    <tr>\n",
       "      <th>3</th>\n",
       "      <td>3.452294</td>\n",
       "      <td>4</td>\n",
       "      <td>1.079984</td>\n",
       "      <td>5</td>\n",
       "    </tr>\n",
       "    <tr>\n",
       "      <th>4</th>\n",
       "      <td>3.518530</td>\n",
       "      <td>4</td>\n",
       "      <td>1.096383</td>\n",
       "      <td>5</td>\n",
       "    </tr>\n",
       "    <tr>\n",
       "      <th>5</th>\n",
       "      <td>3.600756</td>\n",
       "      <td>4</td>\n",
       "      <td>1.137382</td>\n",
       "      <td>5</td>\n",
       "    </tr>\n",
       "    <tr>\n",
       "      <th>6</th>\n",
       "      <td>3.614453</td>\n",
       "      <td>4</td>\n",
       "      <td>1.109368</td>\n",
       "      <td>5</td>\n",
       "    </tr>\n",
       "    <tr>\n",
       "      <th>7</th>\n",
       "      <td>3.614583</td>\n",
       "      <td>4</td>\n",
       "      <td>1.091591</td>\n",
       "      <td>5</td>\n",
       "    </tr>\n",
       "    <tr>\n",
       "      <th>8</th>\n",
       "      <td>3.564065</td>\n",
       "      <td>4</td>\n",
       "      <td>1.122199</td>\n",
       "      <td>5</td>\n",
       "    </tr>\n",
       "    <tr>\n",
       "      <th>9</th>\n",
       "      <td>3.600072</td>\n",
       "      <td>4</td>\n",
       "      <td>1.112411</td>\n",
       "      <td>5</td>\n",
       "    </tr>\n",
       "    <tr>\n",
       "      <th>10</th>\n",
       "      <td>3.606638</td>\n",
       "      <td>4</td>\n",
       "      <td>1.086538</td>\n",
       "      <td>5</td>\n",
       "    </tr>\n",
       "    <tr>\n",
       "      <th>11</th>\n",
       "      <td>3.567622</td>\n",
       "      <td>4</td>\n",
       "      <td>1.129048</td>\n",
       "      <td>5</td>\n",
       "    </tr>\n",
       "    <tr>\n",
       "      <th>12</th>\n",
       "      <td>3.576482</td>\n",
       "      <td>4</td>\n",
       "      <td>1.115246</td>\n",
       "      <td>5</td>\n",
       "    </tr>\n",
       "  </tbody>\n",
       "</table>\n",
       "</div>"
      ],
      "text/plain": [
       "           mean  median       std  amax\n",
       "month                                  \n",
       "1      3.540490       4  1.074986     5\n",
       "2      3.521995       4  1.089586     5\n",
       "3      3.452294       4  1.079984     5\n",
       "4      3.518530       4  1.096383     5\n",
       "5      3.600756       4  1.137382     5\n",
       "6      3.614453       4  1.109368     5\n",
       "7      3.614583       4  1.091591     5\n",
       "8      3.564065       4  1.122199     5\n",
       "9      3.600072       4  1.112411     5\n",
       "10     3.606638       4  1.086538     5\n",
       "11     3.567622       4  1.129048     5\n",
       "12     3.576482       4  1.115246     5"
      ]
     },
     "execution_count": 50,
     "metadata": {},
     "output_type": "execute_result"
    }
   ],
   "source": [
    "filteredMonthAggs"
   ]
  },
  {
   "cell_type": "markdown",
   "metadata": {},
   "source": [
    "#### Exercise Time!\n",
    "\n",
    "To hammer all of this home, try to answer the following:\n",
    "\n",
    "**What were the ID(s) of the average highest-rated movie in the first half of the year for those movies that were rated at least 5 times within that timespan?**\n",
    "\n",
    "Fill in the next cell by replacing the `pass` (or make more cells if you need to) and tell me when you know the answer (but quietly, so you don't tell everyone else!)."
   ]
  },
  {
   "cell_type": "code",
   "execution_count": 6,
   "metadata": {},
   "outputs": [],
   "source": []
  },
  {
   "cell_type": "markdown",
   "metadata": {},
   "source": [
    "A couple more data analysis functions before I set you loose on a completely new dataset!\n",
    "\n",
    "**pandas** provides some pretty cool basic statistical functionality apart from the really simple functions we've used so far (like `mean`, `std`, `max`, and `size`).\n",
    "\n",
    "What I'm talking about are statistical functions that compare two variables, specifically  **covariance** and **correlation**. \n",
    "\n",
    "Briefly, **covariance** is a way to tell whether two variables tend to move in the same or opposite directions, but cannot measure the absolute strength of this relationship (if two variables show positive covariance, it means that as one increases, so does the other one, and vice versa). \n",
    "\n",
    "**Correlation** on the other hand, can tell you both whether two variables tend to move with or against each other, and how strong this relationship between them is.\n",
    "\n",
    "I will be showing you a fairly contrived example here, but you will be using this functionality in the actual assignment you'll be working on.\n",
    "\n",
    "I will keep this short and sweet, because I know you are dying to get started on your own!\n",
    "\n",
    "To correlate two columns using the standard pearson correlation in **pandas** simply do something like this, where we correlate `month` with `Rating`:"
   ]
  },
  {
   "cell_type": "code",
   "execution_count": 7,
   "metadata": {},
   "outputs": [
    {
     "ename": "NameError",
     "evalue": "name 'ratingData' is not defined",
     "output_type": "error",
     "traceback": [
      "\u001b[0;31m---------------------------------------------------------------------------\u001b[0m",
      "\u001b[0;31mNameError\u001b[0m                                 Traceback (most recent call last)",
      "\u001b[0;32m<ipython-input-7-138234b011cd>\u001b[0m in \u001b[0;36m<module>\u001b[0;34m\u001b[0m\n\u001b[0;32m----> 1\u001b[0;31m \u001b[0mratingData\u001b[0m\u001b[0;34m.\u001b[0m\u001b[0mmonth\u001b[0m\u001b[0;34m.\u001b[0m\u001b[0mcorr\u001b[0m\u001b[0;34m(\u001b[0m\u001b[0mratingData\u001b[0m\u001b[0;34m.\u001b[0m\u001b[0mRating\u001b[0m\u001b[0;34m,\u001b[0m\u001b[0mmethod\u001b[0m\u001b[0;34m=\u001b[0m\u001b[0;34m\"spearman\"\u001b[0m\u001b[0;34m)\u001b[0m\u001b[0;34m\u001b[0m\u001b[0;34m\u001b[0m\u001b[0m\n\u001b[0m",
      "\u001b[0;31mNameError\u001b[0m: name 'ratingData' is not defined"
     ]
    }
   ],
   "source": [
    "ratingData.month.corr(ratingData.Rating,method=\"spearman\")"
   ]
  },
  {
   "cell_type": "markdown",
   "metadata": {},
   "source": [
    "If you want to get the full correlation matrix among all variables that are of a numeric type, just call `corr` on the whole `DataFrame`. **pandas** will know to only make the correlations among numeric columns only and will exclude all non-numeric columns from the resulting correlation matrix:"
   ]
  },
  {
   "cell_type": "code",
   "execution_count": 53,
   "metadata": {},
   "outputs": [
    {
     "data": {
      "text/html": [
       "<div>\n",
       "<style>\n",
       "    .dataframe thead tr:only-child th {\n",
       "        text-align: right;\n",
       "    }\n",
       "\n",
       "    .dataframe thead th {\n",
       "        text-align: left;\n",
       "    }\n",
       "\n",
       "    .dataframe tbody tr th {\n",
       "        vertical-align: top;\n",
       "    }\n",
       "</style>\n",
       "<table border=\"1\" class=\"dataframe\">\n",
       "  <thead>\n",
       "    <tr style=\"text-align: right;\">\n",
       "      <th></th>\n",
       "      <th>UserID</th>\n",
       "      <th>MovieID</th>\n",
       "      <th>Rating</th>\n",
       "      <th>year</th>\n",
       "      <th>month</th>\n",
       "    </tr>\n",
       "  </thead>\n",
       "  <tbody>\n",
       "    <tr>\n",
       "      <th>UserID</th>\n",
       "      <td>1.000000</td>\n",
       "      <td>-0.017739</td>\n",
       "      <td>0.012303</td>\n",
       "      <td>-0.094288</td>\n",
       "      <td>-0.633559</td>\n",
       "    </tr>\n",
       "    <tr>\n",
       "      <th>MovieID</th>\n",
       "      <td>-0.017739</td>\n",
       "      <td>1.000000</td>\n",
       "      <td>-0.064042</td>\n",
       "      <td>0.039194</td>\n",
       "      <td>-0.003123</td>\n",
       "    </tr>\n",
       "    <tr>\n",
       "      <th>Rating</th>\n",
       "      <td>0.012303</td>\n",
       "      <td>-0.064042</td>\n",
       "      <td>1.000000</td>\n",
       "      <td>-0.024523</td>\n",
       "      <td>0.000979</td>\n",
       "    </tr>\n",
       "    <tr>\n",
       "      <th>year</th>\n",
       "      <td>-0.094288</td>\n",
       "      <td>0.039194</td>\n",
       "      <td>-0.024523</td>\n",
       "      <td>1.000000</td>\n",
       "      <td>-0.432945</td>\n",
       "    </tr>\n",
       "    <tr>\n",
       "      <th>month</th>\n",
       "      <td>-0.633559</td>\n",
       "      <td>-0.003123</td>\n",
       "      <td>0.000979</td>\n",
       "      <td>-0.432945</td>\n",
       "      <td>1.000000</td>\n",
       "    </tr>\n",
       "  </tbody>\n",
       "</table>\n",
       "</div>"
      ],
      "text/plain": [
       "           UserID   MovieID    Rating      year     month\n",
       "UserID   1.000000 -0.017739  0.012303 -0.094288 -0.633559\n",
       "MovieID -0.017739  1.000000 -0.064042  0.039194 -0.003123\n",
       "Rating   0.012303 -0.064042  1.000000 -0.024523  0.000979\n",
       "year    -0.094288  0.039194 -0.024523  1.000000 -0.432945\n",
       "month   -0.633559 -0.003123  0.000979 -0.432945  1.000000"
      ]
     },
     "execution_count": 53,
     "metadata": {},
     "output_type": "execute_result"
    }
   ],
   "source": [
    "ratingData.corr()"
   ]
  },
  {
   "cell_type": "markdown",
   "metadata": {},
   "source": [
    "Obviously, this is a contrived example because **the only truly numeric column here is Rating** all the other columns (except for `FormattedTimestamp`) are numeric labels for categorical items. \n",
    "\n",
    "What this means is that there is no way we can actually say that one `UserID` is greater than some other `UserID` because the mapping from the actual user's identity to the `UserID` number associated with them is arbitrary, and the same thing applies to every other numeric column here except for `Rating`. \n",
    "\n",
    "And because we can't rank any of the entries in the other columns in any meaningful way, **the correlation between them is meaningless.** \n",
    "\n",
    "I simply wanted to show you how you would do this, given the right situation (which you will experience shortly!)."
   ]
  },
  {
   "cell_type": "markdown",
   "metadata": {},
   "source": [
    "#### Exercise Time!\n",
    "To consolidate what you've learned answer the following questions about this dataset:\n",
    "\n",
    "1. Which user rated the most movies?\n",
    "* Which movie id got the highest average rating?\n",
    "* Which movie id had the most varied rating?\n",
    "  * Of those movies that have been rated at least 5 times?\n",
    "* In which month were raters the most generous on average?\n",
    "* Which month had the most variation in ratings?\n",
    "* Which user had the most variation in ratings?\n",
    "* On what day of the week did users rate the most movies?\n",
    "* Which hour in the day did users rate the most movies?\n",
    "* What hour in the day had the highest average movie rating?\n",
    "* Which user gave movies the highest average rating?"
   ]
  },
  {
   "cell_type": "code",
   "execution_count": 1,
   "metadata": {},
   "outputs": [
    {
     "ename": "NameError",
     "evalue": "name 'ratingData' is not defined",
     "output_type": "error",
     "traceback": [
      "\u001b[0;31m---------------------------------------------------------------------------\u001b[0m",
      "\u001b[0;31mNameError\u001b[0m                                 Traceback (most recent call last)",
      "\u001b[0;32m<ipython-input-1-4ee601b93088>\u001b[0m in \u001b[0;36m<module>\u001b[0;34m\u001b[0m\n\u001b[1;32m      1\u001b[0m \u001b[0;31m#1. Which user rated the most movies?\u001b[0m\u001b[0;34m\u001b[0m\u001b[0;34m\u001b[0m\u001b[0;34m\u001b[0m\u001b[0m\n\u001b[0;32m----> 2\u001b[0;31m \u001b[0mratingData\u001b[0m\u001b[0;34m.\u001b[0m\u001b[0mUserID\u001b[0m\u001b[0;34m.\u001b[0m\u001b[0mvalue_counts\u001b[0m\u001b[0;34m(\u001b[0m\u001b[0;34m)\u001b[0m\u001b[0;34m.\u001b[0m\u001b[0mhead\u001b[0m\u001b[0;34m(\u001b[0m\u001b[0;36m1\u001b[0m\u001b[0;34m)\u001b[0m\u001b[0;34m\u001b[0m\u001b[0;34m\u001b[0m\u001b[0m\n\u001b[0m",
      "\u001b[0;31mNameError\u001b[0m: name 'ratingData' is not defined"
     ]
    }
   ],
   "source": [
    "#1. Which user rated the most movies?\n",
    "ratingData.UserID.value_counts().head(1)"
   ]
  },
  {
   "cell_type": "code",
   "execution_count": null,
   "metadata": {},
   "outputs": [],
   "source": [
    "#2. Which movie id got the highest average rating?\n",
    "ratingData[\"Rating\"] = ratingData.Rating.astype(float)\n",
    "movieGroups = ratingData.groupby(\"MovieID\")\n",
    "avgRatingPerMovie = movieGroups.Rating.mean()\n",
    "highestRatingMask = avgRatingPerMovie==avgRatingPerMovie.max()\n",
    "avgRatingPerMovie[highestRatingMask]"
   ]
  },
  {
   "cell_type": "code",
   "execution_count": null,
   "metadata": {},
   "outputs": [],
   "source": [
    "#3. Which movie id had the most varied rating?\n",
    "movieGroups = ratingData.groupby(\"MovieID\")\n",
    "stdsPerMovie = movieGroups[\"Rating\"].std()\n",
    "maxStdMovie = stdsPerMovie[stdsPerMovie==stdsPerMovie.max()]\n",
    "print(maxStdMovie)"
   ]
  },
  {
   "cell_type": "code",
   "execution_count": null,
   "metadata": {},
   "outputs": [],
   "source": [
    "#3 cont. Of those movies that have been rated at least 5 times?\n",
    "filteredRatings = movieGroups.filter(lambda x: x.size >= 5)\n",
    "filteredMovieGroups = filteredRatings.groupby(\"MovieID\")\n",
    "filteredStdsPerMovie = filteredMovieGroups[\"Rating\"].std()\n",
    "filteredMaxStdMovie = filteredStdsPerMovie[filteredStdsPerMovie==filteredStdsPerMovie.max()]\n",
    "print(filteredMaxStdMovie)"
   ]
  },
  {
   "cell_type": "code",
   "execution_count": null,
   "metadata": {},
   "outputs": [],
   "source": [
    "#4. In which month were raters the most generous on average?\n",
    "monthGroups = ratingData.groupby(\"month\")\n",
    "meanMonthlyRatings = monthGroups.Rating.mean()\n",
    "maxMonthMask = meanMonthlyRatings == meanMonthlyRatings.max()\n",
    "print(meanMonthlyRatings[maxMonthMask])\n",
    "print(meanMonthlyRatings)"
   ]
  },
  {
   "cell_type": "code",
   "execution_count": null,
   "metadata": {},
   "outputs": [],
   "source": [
    "#5. Which month had the most variation in ratings?\n",
    "variationRatingsByMonth = ratingData.groupby(\"month\").Rating.std()\n",
    "variationRatingsByMonth.sort_values(ascending=False,inplace=True)\n",
    "variationRatingsByMonth"
   ]
  },
  {
   "cell_type": "code",
   "execution_count": null,
   "metadata": {},
   "outputs": [],
   "source": [
    "#6. Which user had the most variation in ratings?\n",
    "userGroups = ratingData.groupby(\"UserID\")\n",
    "stdPerUser = userGroups.Rating.std()\n",
    "print(stdPerUser[stdPerUser==stdPerUser.max()])"
   ]
  },
  {
   "cell_type": "code",
   "execution_count": null,
   "metadata": {},
   "outputs": [],
   "source": [
    "#7. On what day of the week did users rate the most movies?\n",
    "ratingData[\"dayOfWeek\"] = ratingData.FormattedTimestamp.dt.dayofweek\n",
    "moviesPerDayRated = ratingData.groupby(\"dayOfWeek\").Rating.size()\n",
    "print(moviesPerDayRated[moviesPerDayRated==moviesPerDayRated.max()])"
   ]
  },
  {
   "cell_type": "code",
   "execution_count": null,
   "metadata": {},
   "outputs": [],
   "source": [
    "#8. Which hour in the day did users rate the most movies?\n",
    "ratingData[\"hour\"] = ratingData.FormattedTimestamp.dt.hour\n",
    "moviesPerHourRated = ratingData.groupby(\"hour\").Rating.size()\n",
    "print(moviesPerHourRated[moviesPerHourRated==moviesPerHourRated.max()])"
   ]
  },
  {
   "cell_type": "code",
   "execution_count": null,
   "metadata": {},
   "outputs": [],
   "source": [
    "#9. What hour in the day had the highest average movie rating?\n",
    "avgRatingPerHour = ratingData.groupby(\"hour\").Rating.mean()\n",
    "print(avgRatingPerHour[avgRatingPerHour==avgRatingPerHour.max()])"
   ]
  },
  {
   "cell_type": "code",
   "execution_count": null,
   "metadata": {},
   "outputs": [],
   "source": [
    "#10. Which user gave movies the highest average rating?\n",
    "userGroups = ratingData.groupby(\"UserID\")\n",
    "avgRatingPerUser = userGroups.Rating.mean()\n",
    "print(avgRatingPerUser[avgRatingPerUser==avgRatingPerUser.max()])"
   ]
  }
 ],
 "metadata": {
  "kernelspec": {
   "display_name": "Python 3",
   "language": "python",
   "name": "python3"
  },
  "language_info": {
   "codemirror_mode": {
    "name": "ipython",
    "version": 3
   },
   "file_extension": ".py",
   "mimetype": "text/x-python",
   "name": "python",
   "nbconvert_exporter": "python",
   "pygments_lexer": "ipython3",
   "version": "3.7.0"
  }
 },
 "nbformat": 4,
 "nbformat_minor": 1
}
